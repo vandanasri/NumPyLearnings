{
 "cells": [
  {
   "cell_type": "code",
   "execution_count": 4,
   "id": "ad725be7",
   "metadata": {},
   "outputs": [
    {
     "data": {
      "text/plain": [
       "array([[5, 5, 5],\n",
       "       [5, 5, 5],\n",
       "       [5, 5, 5]])"
      ]
     },
     "execution_count": 4,
     "metadata": {},
     "output_type": "execute_result"
    }
   ],
   "source": [
    "import numpy as np\n",
    "\n",
    "#creating array using full() with shape(3,3) & value should be 5\n",
    "np.full((3,3), 5)"
   ]
  },
  {
   "cell_type": "code",
   "execution_count": 5,
   "id": "41c632cf",
   "metadata": {},
   "outputs": [
    {
     "data": {
      "text/plain": [
       "array([7, 7, 7])"
      ]
     },
     "execution_count": 5,
     "metadata": {},
     "output_type": "execute_result"
    }
   ],
   "source": [
    "#creating 1-d array with value 7\n",
    "np.full((3,),7)"
   ]
  },
  {
   "cell_type": "code",
   "execution_count": 6,
   "id": "ced427aa",
   "metadata": {},
   "outputs": [
    {
     "data": {
      "text/plain": [
       "array([[[6, 6, 6, 6, 6],\n",
       "        [6, 6, 6, 6, 6],\n",
       "        [6, 6, 6, 6, 6]],\n",
       "\n",
       "       [[6, 6, 6, 6, 6],\n",
       "        [6, 6, 6, 6, 6],\n",
       "        [6, 6, 6, 6, 6]]])"
      ]
     },
     "execution_count": 6,
     "metadata": {},
     "output_type": "execute_result"
    }
   ],
   "source": [
    "#creating 3-d array with value 6\n",
    "np.full((2,3,5),6)"
   ]
  },
  {
   "cell_type": "code",
   "execution_count": 8,
   "id": "725207ad",
   "metadata": {},
   "outputs": [
    {
     "data": {
      "text/plain": [
       "30"
      ]
     },
     "execution_count": 8,
     "metadata": {},
     "output_type": "execute_result"
    }
   ],
   "source": [
    "np.full((2,3,5),6).size"
   ]
  },
  {
   "cell_type": "code",
   "execution_count": 9,
   "id": "83eee4d6",
   "metadata": {},
   "outputs": [
    {
     "data": {
      "text/plain": [
       "array([[[6, 6, 6, 6, 6, 6, 6],\n",
       "        [6, 6, 6, 6, 6, 6, 6],\n",
       "        [6, 6, 6, 6, 6, 6, 6],\n",
       "        [6, 6, 6, 6, 6, 6, 6],\n",
       "        [6, 6, 6, 6, 6, 6, 6]],\n",
       "\n",
       "       [[6, 6, 6, 6, 6, 6, 6],\n",
       "        [6, 6, 6, 6, 6, 6, 6],\n",
       "        [6, 6, 6, 6, 6, 6, 6],\n",
       "        [6, 6, 6, 6, 6, 6, 6],\n",
       "        [6, 6, 6, 6, 6, 6, 6]],\n",
       "\n",
       "       [[6, 6, 6, 6, 6, 6, 6],\n",
       "        [6, 6, 6, 6, 6, 6, 6],\n",
       "        [6, 6, 6, 6, 6, 6, 6],\n",
       "        [6, 6, 6, 6, 6, 6, 6],\n",
       "        [6, 6, 6, 6, 6, 6, 6]]])"
      ]
     },
     "execution_count": 9,
     "metadata": {},
     "output_type": "execute_result"
    }
   ],
   "source": [
    "#creating 4-d array with value 8\n",
    "np.full((3,5,7),6)"
   ]
  },
  {
   "cell_type": "code",
   "execution_count": 11,
   "id": "137fc5f7",
   "metadata": {},
   "outputs": [
    {
     "data": {
      "text/plain": [
       "105"
      ]
     },
     "execution_count": 11,
     "metadata": {},
     "output_type": "execute_result"
    }
   ],
   "source": [
    "np.full((3,5,7),6).size"
   ]
  },
  {
   "cell_type": "code",
   "execution_count": 15,
   "id": "4bf3c8fa",
   "metadata": {},
   "outputs": [
    {
     "data": {
      "text/plain": [
       "array([[[8, 8, 8, 8, 8, 8, 8],\n",
       "        [8, 8, 8, 8, 8, 8, 8],\n",
       "        [8, 8, 8, 8, 8, 8, 8],\n",
       "        [8, 8, 8, 8, 8, 8, 8],\n",
       "        [8, 8, 8, 8, 8, 8, 8]],\n",
       "\n",
       "       [[8, 8, 8, 8, 8, 8, 8],\n",
       "        [8, 8, 8, 8, 8, 8, 8],\n",
       "        [8, 8, 8, 8, 8, 8, 8],\n",
       "        [8, 8, 8, 8, 8, 8, 8],\n",
       "        [8, 8, 8, 8, 8, 8, 8]]])"
      ]
     },
     "execution_count": 15,
     "metadata": {},
     "output_type": "execute_result"
    }
   ],
   "source": [
    "#creating array using full() with fill_value parameter\n",
    "np.full((2,5,7), fill_value= 8)"
   ]
  },
  {
   "cell_type": "code",
   "execution_count": 18,
   "id": "95914ad8",
   "metadata": {},
   "outputs": [
    {
     "data": {
      "text/plain": [
       "array([[[8., 8., 8., 8., 8., 8., 8.],\n",
       "        [8., 8., 8., 8., 8., 8., 8.],\n",
       "        [8., 8., 8., 8., 8., 8., 8.],\n",
       "        [8., 8., 8., 8., 8., 8., 8.],\n",
       "        [8., 8., 8., 8., 8., 8., 8.]],\n",
       "\n",
       "       [[8., 8., 8., 8., 8., 8., 8.],\n",
       "        [8., 8., 8., 8., 8., 8., 8.],\n",
       "        [8., 8., 8., 8., 8., 8., 8.],\n",
       "        [8., 8., 8., 8., 8., 8., 8.],\n",
       "        [8., 8., 8., 8., 8., 8., 8.]]])"
      ]
     },
     "execution_count": 18,
     "metadata": {},
     "output_type": "execute_result"
    }
   ],
   "source": [
    "#creating array using full() with fill_value parameter & dtype as float\n",
    "np.full((2,5,7), fill_value= 8, dtype = float)"
   ]
  },
  {
   "cell_type": "code",
   "execution_count": 12,
   "id": "8d1c491d",
   "metadata": {},
   "outputs": [
    {
     "name": "stdout",
     "output_type": "stream",
     "text": [
      "Help on function full in module numpy:\n",
      "\n",
      "full(shape, fill_value, dtype=None, order='C', *, like=None)\n",
      "    Return a new array of given shape and type, filled with `fill_value`.\n",
      "    \n",
      "    Parameters\n",
      "    ----------\n",
      "    shape : int or sequence of ints\n",
      "        Shape of the new array, e.g., ``(2, 3)`` or ``2``.\n",
      "    fill_value : scalar or array_like\n",
      "        Fill value.\n",
      "    dtype : data-type, optional\n",
      "        The desired data-type for the array  The default, None, means\n",
      "         ``np.array(fill_value).dtype``.\n",
      "    order : {'C', 'F'}, optional\n",
      "        Whether to store multidimensional data in C- or Fortran-contiguous\n",
      "        (row- or column-wise) order in memory.\n",
      "    like : array_like, optional\n",
      "        Reference object to allow the creation of arrays which are not\n",
      "        NumPy arrays. If an array-like passed in as ``like`` supports\n",
      "        the ``__array_function__`` protocol, the result will be defined\n",
      "        by it. In this case, it ensures the creation of an array object\n",
      "        compatible with that passed in via this argument.\n",
      "    \n",
      "        .. versionadded:: 1.20.0\n",
      "    \n",
      "    Returns\n",
      "    -------\n",
      "    out : ndarray\n",
      "        Array of `fill_value` with the given shape, dtype, and order.\n",
      "    \n",
      "    See Also\n",
      "    --------\n",
      "    full_like : Return a new array with shape of input filled with value.\n",
      "    empty : Return a new uninitialized array.\n",
      "    ones : Return a new array setting values to one.\n",
      "    zeros : Return a new array setting values to zero.\n",
      "    \n",
      "    Examples\n",
      "    --------\n",
      "    >>> np.full((2, 2), np.inf)\n",
      "    array([[inf, inf],\n",
      "           [inf, inf]])\n",
      "    >>> np.full((2, 2), 10)\n",
      "    array([[10, 10],\n",
      "           [10, 10]])\n",
      "    \n",
      "    >>> np.full((2, 2), [1, 2])\n",
      "    array([[1, 2],\n",
      "           [1, 2]])\n",
      "\n"
     ]
    }
   ],
   "source": [
    "# documentation of full()\n",
    "help(np.full)"
   ]
  },
  {
   "cell_type": "code",
   "execution_count": null,
   "id": "0b2818e0",
   "metadata": {},
   "outputs": [],
   "source": []
  }
 ],
 "metadata": {
  "kernelspec": {
   "display_name": "Python 3 (ipykernel)",
   "language": "python",
   "name": "python3"
  },
  "language_info": {
   "codemirror_mode": {
    "name": "ipython",
    "version": 3
   },
   "file_extension": ".py",
   "mimetype": "text/x-python",
   "name": "python",
   "nbconvert_exporter": "python",
   "pygments_lexer": "ipython3",
   "version": "3.11.7"
  }
 },
 "nbformat": 4,
 "nbformat_minor": 5
}
