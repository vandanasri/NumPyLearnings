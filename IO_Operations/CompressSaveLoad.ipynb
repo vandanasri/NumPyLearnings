{
 "cells": [
  {
   "cell_type": "code",
   "execution_count": 38,
   "id": "46848440-9a2b-442c-82aa-cb630ba867a7",
   "metadata": {},
   "outputs": [
    {
     "data": {
      "text/plain": [
       "array([[1, 2, 3],\n",
       "       [4, 5, 6],\n",
       "       [7, 8, 9]])"
      ]
     },
     "execution_count": 38,
     "metadata": {},
     "output_type": "execute_result"
    }
   ],
   "source": [
    "import numpy as np\n",
    "\n",
    "#creating 2-d array\n",
    "a = np.array([[1,2,3],[4,5,6],[7,8,9]])\n",
    "a"
   ]
  },
  {
   "cell_type": "code",
   "execution_count": 40,
   "id": "4d231906-e799-4feb-b4bc-f85e7e5839aa",
   "metadata": {},
   "outputs": [
    {
     "data": {
      "text/plain": [
       "array([[10, 20, 30],\n",
       "       [40, 50, 60],\n",
       "       [70, 80, 90]])"
      ]
     },
     "execution_count": 40,
     "metadata": {},
     "output_type": "execute_result"
    }
   ],
   "source": [
    "b = np.array([[10,20,30],[40,50,60],[70,80,90]])\n",
    "b"
   ]
  },
  {
   "cell_type": "code",
   "execution_count": 42,
   "id": "c6c7a9fe-86b1-4c34-a085-be0828d65cab",
   "metadata": {},
   "outputs": [
    {
     "data": {
      "text/plain": [
       "array([[100, 200, 300],\n",
       "       [400, 500, 600],\n",
       "       [700, 800, 900]])"
      ]
     },
     "execution_count": 42,
     "metadata": {},
     "output_type": "execute_result"
    }
   ],
   "source": [
    "c = np.array([[100,200,300],[400,500,600],[700,800,900]])\n",
    "c"
   ]
  },
  {
   "cell_type": "code",
   "execution_count": 44,
   "id": "b544ca2e-abd5-4ced-b9ec-39111e38805a",
   "metadata": {},
   "outputs": [],
   "source": [
    "# saving this above multiple arrays into file- \"SavezTestFile_compressed.npz\" using savez(), in compressed format \n",
    "#override data, only single object of file created.\n",
    "#extension npz\n",
    "filename = 'SavezTestFile_compressed.npz'\n",
    "np.savez_compressed(filename,a,b,c)"
   ]
  },
  {
   "cell_type": "code",
   "execution_count": 46,
   "id": "330d3a01-74a2-4dad-8d82-c27d8db7dcc6",
   "metadata": {},
   "outputs": [
    {
     "data": {
      "text/plain": [
       "NpzFile 'SavezTestFile_compressed.npz' with keys: arr_0, arr_1, arr_2"
      ]
     },
     "execution_count": 46,
     "metadata": {},
     "output_type": "execute_result"
    }
   ],
   "source": [
    "# return npz file object\n",
    "fileObject = np.load(filename)\n",
    "fileObject"
   ]
  },
  {
   "cell_type": "code",
   "execution_count": 48,
   "id": "8f16e059-5bee-42bb-a89a-6682929bc49d",
   "metadata": {},
   "outputs": [
    {
     "data": {
      "text/plain": [
       "['arr_0', 'arr_1', 'arr_2']"
      ]
     },
     "execution_count": 48,
     "metadata": {},
     "output_type": "execute_result"
    }
   ],
   "source": [
    "fileObject.files"
   ]
  },
  {
   "cell_type": "code",
   "execution_count": 58,
   "id": "f3a3c035-7267-435c-b13f-7bc136c9bdf1",
   "metadata": {},
   "outputs": [
    {
     "name": "stdout",
     "output_type": "stream",
     "text": [
      "data for arr_0 is: \n",
      "[[1 2 3]\n",
      " [4 5 6]\n",
      " [7 8 9]] \n",
      "\n",
      "data for arr_1 is: \n",
      "[[10 20 30]\n",
      " [40 50 60]\n",
      " [70 80 90]] \n",
      "\n",
      "data for arr_2 is: \n",
      "[[100 200 300]\n",
      " [400 500 600]\n",
      " [700 800 900]] \n",
      "\n"
     ]
    }
   ],
   "source": [
    "for x in fileObject.files:\n",
    "    print(f\"data for {x} is: \\n{fileObject[x]} \\n\")"
   ]
  },
  {
   "cell_type": "code",
   "execution_count": null,
   "id": "ba93f9de-cded-499f-805c-350b27b776f0",
   "metadata": {},
   "outputs": [],
   "source": []
  }
 ],
 "metadata": {
  "kernelspec": {
   "display_name": "Python 3 (ipykernel)",
   "language": "python",
   "name": "python3"
  },
  "language_info": {
   "codemirror_mode": {
    "name": "ipython",
    "version": 3
   },
   "file_extension": ".py",
   "mimetype": "text/x-python",
   "name": "python",
   "nbconvert_exporter": "python",
   "pygments_lexer": "ipython3",
   "version": "3.11.7"
  }
 },
 "nbformat": 4,
 "nbformat_minor": 5
}
