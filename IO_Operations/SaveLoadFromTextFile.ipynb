{
 "cells": [
  {
   "cell_type": "code",
   "execution_count": 18,
   "id": "781c7a2d-3fdb-404d-8b69-5ff5222f95e1",
   "metadata": {},
   "outputs": [
    {
     "data": {
      "text/plain": [
       "array([[100, 200, 300],\n",
       "       [400, 500, 600],\n",
       "       [700, 800, 900]])"
      ]
     },
     "execution_count": 18,
     "metadata": {},
     "output_type": "execute_result"
    }
   ],
   "source": [
    "import numpy as np\n",
    "\n",
    "a = np.array([[100,200,300],[400,500,600],[700,800,900]])\n",
    "a"
   ]
  },
  {
   "cell_type": "code",
   "execution_count": 20,
   "id": "494809b0-883a-4bac-b0a1-f448f2cc2cd4",
   "metadata": {},
   "outputs": [],
   "source": [
    "fileName = 'SavingInText.txt'\n",
    "np.savetxt(fileName,a)"
   ]
  },
  {
   "cell_type": "code",
   "execution_count": 24,
   "id": "0f0d1c3e-a8cf-4497-8779-2de0f6928d86",
   "metadata": {},
   "outputs": [
    {
     "data": {
      "text/plain": [
       "array([[100., 200., 300.],\n",
       "       [400., 500., 600.],\n",
       "       [700., 800., 900.]])"
      ]
     },
     "execution_count": 24,
     "metadata": {},
     "output_type": "execute_result"
    }
   ],
   "source": [
    "np.loadtxt(fileName)"
   ]
  },
  {
   "cell_type": "code",
   "execution_count": null,
   "id": "63437dec-8fc9-4dc5-9df8-39b150cdce6d",
   "metadata": {},
   "outputs": [],
   "source": []
  }
 ],
 "metadata": {
  "kernelspec": {
   "display_name": "Python 3 (ipykernel)",
   "language": "python",
   "name": "python3"
  },
  "language_info": {
   "codemirror_mode": {
    "name": "ipython",
    "version": 3
   },
   "file_extension": ".py",
   "mimetype": "text/x-python",
   "name": "python",
   "nbconvert_exporter": "python",
   "pygments_lexer": "ipython3",
   "version": "3.11.7"
  }
 },
 "nbformat": 4,
 "nbformat_minor": 5
}
