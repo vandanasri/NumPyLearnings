{
 "cells": [
  {
   "cell_type": "code",
   "execution_count": 5,
   "id": "781c7a2d-3fdb-404d-8b69-5ff5222f95e1",
   "metadata": {},
   "outputs": [
    {
     "data": {
      "text/plain": [
       "array([[100, 200, 300],\n",
       "       [400, 500, 600],\n",
       "       [700, 800, 900]])"
      ]
     },
     "execution_count": 5,
     "metadata": {},
     "output_type": "execute_result"
    }
   ],
   "source": [
    "import numpy as np\n",
    "\n",
    "a = np.array([[100,200,300],[400,500,600],[700,800,900]])\n",
    "a"
   ]
  },
  {
   "cell_type": "code",
   "execution_count": 7,
   "id": "494809b0-883a-4bac-b0a1-f448f2cc2cd4",
   "metadata": {},
   "outputs": [],
   "source": [
    "fileName = 'SavingInText.txt'\n",
    "np.savetxt(fileName,a)"
   ]
  },
  {
   "cell_type": "code",
   "execution_count": 9,
   "id": "0f0d1c3e-a8cf-4497-8779-2de0f6928d86",
   "metadata": {},
   "outputs": [
    {
     "data": {
      "text/plain": [
       "array([[100., 200., 300.],\n",
       "       [400., 500., 600.],\n",
       "       [700., 800., 900.]])"
      ]
     },
     "execution_count": 9,
     "metadata": {},
     "output_type": "execute_result"
    }
   ],
   "source": [
    "np.loadtxt(fileName)"
   ]
  },
  {
   "cell_type": "code",
   "execution_count": 13,
   "id": "63437dec-8fc9-4dc5-9df8-39b150cdce6d",
   "metadata": {},
   "outputs": [
    {
     "data": {
      "text/plain": [
       "array([['100', 'Hello', '300'],\n",
       "       ['400', 'Hi', '600'],\n",
       "       ['700', 'Good', '900']], dtype='<U11')"
      ]
     },
     "execution_count": 13,
     "metadata": {},
     "output_type": "execute_result"
    }
   ],
   "source": [
    "b = np.array([[100,'Hello',300],[400,'Hi',600],[700,'Good',900]])\n",
    "b"
   ]
  },
  {
   "cell_type": "code",
   "execution_count": 19,
   "id": "5b0dfe02-9ed4-4fd9-ac77-e7b42af3db44",
   "metadata": {},
   "outputs": [],
   "source": [
    "#to store data other than default float then mention format\n",
    "newfilename = \"NewTextFile.txt\"\n",
    "np.savetxt(newfilename,b,fmt = '%s %s %s')"
   ]
  },
  {
   "cell_type": "code",
   "execution_count": 21,
   "id": "08d82fae-b97d-488b-810b-282682d19ee5",
   "metadata": {},
   "outputs": [
    {
     "data": {
      "text/plain": [
       "array([['100', 'Hello', '300'],\n",
       "       ['400', 'Hi', '600'],\n",
       "       ['700', 'Good', '900']], dtype='<U5')"
      ]
     },
     "execution_count": 21,
     "metadata": {},
     "output_type": "execute_result"
    }
   ],
   "source": [
    "#to load data other than default float then mention dtype\n",
    "np.loadtxt(newfilename, dtype= 'str')"
   ]
  },
  {
   "cell_type": "code",
   "execution_count": null,
   "id": "02cd882d-7b03-4b66-a6f1-d22b1bb9c0c2",
   "metadata": {},
   "outputs": [],
   "source": []
  }
 ],
 "metadata": {
  "kernelspec": {
   "display_name": "Python 3 (ipykernel)",
   "language": "python",
   "name": "python3"
  },
  "language_info": {
   "codemirror_mode": {
    "name": "ipython",
    "version": 3
   },
   "file_extension": ".py",
   "mimetype": "text/x-python",
   "name": "python",
   "nbconvert_exporter": "python",
   "pygments_lexer": "ipython3",
   "version": "3.11.7"
  }
 },
 "nbformat": 4,
 "nbformat_minor": 5
}
