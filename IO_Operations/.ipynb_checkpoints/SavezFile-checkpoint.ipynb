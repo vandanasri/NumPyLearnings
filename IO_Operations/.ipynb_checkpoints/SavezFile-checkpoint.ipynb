{
 "cells": [
  {
   "cell_type": "code",
   "execution_count": 41,
   "id": "baa52555-41b9-4230-835f-6ba36ce36e15",
   "metadata": {},
   "outputs": [
    {
     "data": {
      "text/plain": [
       "array([[1, 2, 3],\n",
       "       [4, 5, 6],\n",
       "       [7, 8, 9]])"
      ]
     },
     "execution_count": 41,
     "metadata": {},
     "output_type": "execute_result"
    }
   ],
   "source": [
    "import numpy as np\n",
    "\n",
    "#creating 2-d array\n",
    "a = np.array([[1,2,3],[4,5,6],[7,8,9]])\n",
    "a"
   ]
  },
  {
   "cell_type": "code",
   "execution_count": 49,
   "id": "ecced0f9-e3ac-4669-9122-c29add5ac0ad",
   "metadata": {},
   "outputs": [
    {
     "data": {
      "text/plain": [
       "array([[10, 20, 30],\n",
       "       [40, 50, 60],\n",
       "       [70, 80, 90]])"
      ]
     },
     "execution_count": 49,
     "metadata": {},
     "output_type": "execute_result"
    }
   ],
   "source": [
    "b = np.array([[10,20,30],[40,50,60],[70,80,90]])\n",
    "b"
   ]
  },
  {
   "cell_type": "code",
   "execution_count": 51,
   "id": "aa958d22-2276-42ba-9729-35f1ff11bb02",
   "metadata": {},
   "outputs": [],
   "source": [
    "# saving this above multiple arrays into file- \"SavezTestFile.npz\" using savez(), \n",
    "#override data, only single object of file created.\n",
    "#extension npz\n",
    "filename = 'SavezTestFile.npz'\n",
    "np.savez(filename,a,b)"
   ]
  },
  {
   "cell_type": "code",
   "execution_count": 55,
   "id": "77b1a37b-e860-40d2-80a9-8ea3fb582c55",
   "metadata": {},
   "outputs": [
    {
     "data": {
      "text/plain": [
       "NpzFile 'SavezTestFile.npz' with keys: arr_0, arr_1"
      ]
     },
     "execution_count": 55,
     "metadata": {},
     "output_type": "execute_result"
    }
   ],
   "source": [
    "# return npz file object\n",
    "fileObject = np.load(filename)\n",
    "fileObject"
   ]
  },
  {
   "cell_type": "code",
   "execution_count": 83,
   "id": "604405e6-56aa-4b80-96a6-450d212ad50e",
   "metadata": {},
   "outputs": [
    {
     "data": {
      "text/plain": [
       "['arr_0', 'arr_1']"
      ]
     },
     "execution_count": 83,
     "metadata": {},
     "output_type": "execute_result"
    }
   ],
   "source": [
    "#to get names of stored objects in file\n",
    "fileObject.files"
   ]
  },
  {
   "cell_type": "code",
   "execution_count": 85,
   "id": "c427026b-e9b8-4873-9487-a341cfba7922",
   "metadata": {},
   "outputs": [
    {
     "data": {
      "text/plain": [
       "array([[1, 2, 3],\n",
       "       [4, 5, 6],\n",
       "       [7, 8, 9]])"
      ]
     },
     "execution_count": 85,
     "metadata": {},
     "output_type": "execute_result"
    }
   ],
   "source": [
    "# to call the array at 0 position\n",
    "fileObject['arr_0']"
   ]
  },
  {
   "cell_type": "code",
   "execution_count": 87,
   "id": "e11cc43f-e184-4f26-938f-05ccae37cbe0",
   "metadata": {},
   "outputs": [
    {
     "data": {
      "text/plain": [
       "array([[10, 20, 30],\n",
       "       [40, 50, 60],\n",
       "       [70, 80, 90]])"
      ]
     },
     "execution_count": 87,
     "metadata": {},
     "output_type": "execute_result"
    }
   ],
   "source": [
    "# to call the array at 1 position\n",
    "fileObject['arr_1']"
   ]
  },
  {
   "cell_type": "code",
   "execution_count": null,
   "id": "b99b3716-7f5b-4c16-ae42-021cad623d1f",
   "metadata": {},
   "outputs": [],
   "source": []
  }
 ],
 "metadata": {
  "kernelspec": {
   "display_name": "Python 3 (ipykernel)",
   "language": "python",
   "name": "python3"
  },
  "language_info": {
   "codemirror_mode": {
    "name": "ipython",
    "version": 3
   },
   "file_extension": ".py",
   "mimetype": "text/x-python",
   "name": "python",
   "nbconvert_exporter": "python",
   "pygments_lexer": "ipython3",
   "version": "3.11.7"
  }
 },
 "nbformat": 4,
 "nbformat_minor": 5
}
