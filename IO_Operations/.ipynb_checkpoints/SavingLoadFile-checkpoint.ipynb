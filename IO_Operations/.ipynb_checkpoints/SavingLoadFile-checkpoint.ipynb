{
 "cells": [
  {
   "cell_type": "code",
   "execution_count": 17,
   "id": "c58f38c3-3c58-4efa-a355-39c2520744a2",
   "metadata": {},
   "outputs": [
    {
     "data": {
      "text/plain": [
       "array([[4, 5, 6],\n",
       "       [7, 8, 9]])"
      ]
     },
     "execution_count": 17,
     "metadata": {},
     "output_type": "execute_result"
    }
   ],
   "source": [
    "import numpy as np\n",
    "\n",
    "#creating 2-d array\n",
    "a = np.array([[4,5,6],[7,8,9]])\n",
    "a"
   ]
  },
  {
   "cell_type": "code",
   "execution_count": 27,
   "id": "8a7a3d69-cc0f-4296-ba06-3454f584aaee",
   "metadata": {},
   "outputs": [],
   "source": [
    "# saving this above array into file- \"FirstDummyFile.npy\" using save(), override data after manipulation\n",
    "filename = \"FirstDummyFile.npy\"\n",
    "np.save(filename,a)"
   ]
  },
  {
   "cell_type": "code",
   "execution_count": 29,
   "id": "0ec9e14a-0a7d-4807-b8df-ef17a242944a",
   "metadata": {},
   "outputs": [
    {
     "data": {
      "text/plain": [
       "array([[4, 5, 6],\n",
       "       [7, 8, 9]])"
      ]
     },
     "execution_count": 29,
     "metadata": {},
     "output_type": "execute_result"
    }
   ],
   "source": [
    "# to load file\n",
    "np.load(filename)"
   ]
  },
  {
   "cell_type": "code",
   "execution_count": null,
   "id": "267c6f5c-dfc3-4c0e-acc3-a1b4992a8356",
   "metadata": {},
   "outputs": [],
   "source": []
  },
  {
   "cell_type": "code",
   "execution_count": null,
   "id": "ceda2a18-c101-4b3b-bcfb-65304c3c3d34",
   "metadata": {},
   "outputs": [],
   "source": []
  }
 ],
 "metadata": {
  "kernelspec": {
   "display_name": "Python 3 (ipykernel)",
   "language": "python",
   "name": "python3"
  },
  "language_info": {
   "codemirror_mode": {
    "name": "ipython",
    "version": 3
   },
   "file_extension": ".py",
   "mimetype": "text/x-python",
   "name": "python",
   "nbconvert_exporter": "python",
   "pygments_lexer": "ipython3",
   "version": "3.11.7"
  }
 },
 "nbformat": 4,
 "nbformat_minor": 5
}
