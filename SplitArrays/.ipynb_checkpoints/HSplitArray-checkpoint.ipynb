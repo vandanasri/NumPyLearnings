{
 "cells": [
  {
   "cell_type": "code",
   "execution_count": 3,
   "id": "db18375d",
   "metadata": {},
   "outputs": [
    {
     "data": {
      "text/plain": [
       "array([[ 0,  1,  2,  3],\n",
       "       [ 4,  5,  6,  7],\n",
       "       [ 8,  9, 10, 11],\n",
       "       [12, 13, 14, 15]])"
      ]
     },
     "execution_count": 3,
     "metadata": {},
     "output_type": "execute_result"
    }
   ],
   "source": [
    "import numpy as np\n",
    "\n",
    "# input 2-D array \n",
    "a = np.arange(16).reshape(4,4)\n",
    "a"
   ]
  },
  {
   "cell_type": "code",
   "execution_count": 4,
   "id": "10c6cd16",
   "metadata": {},
   "outputs": [
    {
     "data": {
      "text/plain": [
       "[array([[ 0,  1],\n",
       "        [ 4,  5],\n",
       "        [ 8,  9],\n",
       "        [12, 13]]),\n",
       " array([[ 2,  3],\n",
       "        [ 6,  7],\n",
       "        [10, 11],\n",
       "        [14, 15]])]"
      ]
     },
     "execution_count": 4,
     "metadata": {},
     "output_type": "execute_result"
    }
   ],
   "source": [
    "#horizontal split ==> column wise\n",
    "np.hsplit(a,2)"
   ]
  },
  {
   "cell_type": "code",
   "execution_count": 5,
   "id": "b9c216e7",
   "metadata": {},
   "outputs": [
    {
     "data": {
      "text/plain": [
       "[array([[ 0],\n",
       "        [ 4],\n",
       "        [ 8],\n",
       "        [12]]),\n",
       " array([[ 1,  2],\n",
       "        [ 5,  6],\n",
       "        [ 9, 10],\n",
       "        [13, 14]]),\n",
       " array([[ 3],\n",
       "        [ 7],\n",
       "        [11],\n",
       "        [15]])]"
      ]
     },
     "execution_count": 5,
     "metadata": {},
     "output_type": "execute_result"
    }
   ],
   "source": [
    "#split based on indicies\n",
    "np.hsplit(a,(1,3))"
   ]
  },
  {
   "cell_type": "code",
   "execution_count": 30,
   "id": "cde82567",
   "metadata": {},
   "outputs": [
    {
     "data": {
      "text/plain": [
       "(4, 3, 4)"
      ]
     },
     "execution_count": 30,
     "metadata": {},
     "output_type": "execute_result"
    }
   ],
   "source": [
    "# input 3-D array\n",
    "b = np.array([[[13,14,15,0],[16,17,18,1],[0,1,2,4]],[[19,20,21,2],[22,23,24,3],[5,6,7,8]],[[25,26,27,4],[28,29,30,5],[9,10,11,12]],[[31,32,33,6],[34,35,36,7],[13,14,15,16]]])\n",
    "b.shape"
   ]
  },
  {
   "cell_type": "code",
   "execution_count": 32,
   "id": "cedc3c93",
   "metadata": {},
   "outputs": [
    {
     "data": {
      "text/plain": [
       "[array([[[13, 14, 15,  0],\n",
       "         [16, 17, 18,  1],\n",
       "         [ 0,  1,  2,  4]],\n",
       " \n",
       "        [[19, 20, 21,  2],\n",
       "         [22, 23, 24,  3],\n",
       "         [ 5,  6,  7,  8]],\n",
       " \n",
       "        [[25, 26, 27,  4],\n",
       "         [28, 29, 30,  5],\n",
       "         [ 9, 10, 11, 12]],\n",
       " \n",
       "        [[31, 32, 33,  6],\n",
       "         [34, 35, 36,  7],\n",
       "         [13, 14, 15, 16]]])]"
      ]
     },
     "execution_count": 32,
     "metadata": {},
     "output_type": "execute_result"
    }
   ],
   "source": [
    "np.hsplit(b,1)"
   ]
  },
  {
   "cell_type": "code",
   "execution_count": 33,
   "id": "ada96a96",
   "metadata": {},
   "outputs": [
    {
     "data": {
      "text/plain": [
       "[array([[[13, 14, 15,  0]],\n",
       " \n",
       "        [[19, 20, 21,  2]],\n",
       " \n",
       "        [[25, 26, 27,  4]],\n",
       " \n",
       "        [[31, 32, 33,  6]]]),\n",
       " array([[[16, 17, 18,  1]],\n",
       " \n",
       "        [[22, 23, 24,  3]],\n",
       " \n",
       "        [[28, 29, 30,  5]],\n",
       " \n",
       "        [[34, 35, 36,  7]]]),\n",
       " array([[[ 0,  1,  2,  4]],\n",
       " \n",
       "        [[ 5,  6,  7,  8]],\n",
       " \n",
       "        [[ 9, 10, 11, 12]],\n",
       " \n",
       "        [[13, 14, 15, 16]]])]"
      ]
     },
     "execution_count": 33,
     "metadata": {},
     "output_type": "execute_result"
    }
   ],
   "source": [
    "#split based on indicies\n",
    "np.hsplit(b,(1,2))"
   ]
  },
  {
   "cell_type": "code",
   "execution_count": null,
   "id": "65075b7e",
   "metadata": {},
   "outputs": [],
   "source": []
  }
 ],
 "metadata": {
  "kernelspec": {
   "display_name": "Python 3 (ipykernel)",
   "language": "python",
   "name": "python3"
  },
  "language_info": {
   "codemirror_mode": {
    "name": "ipython",
    "version": 3
   },
   "file_extension": ".py",
   "mimetype": "text/x-python",
   "name": "python",
   "nbconvert_exporter": "python",
   "pygments_lexer": "ipython3",
   "version": "3.11.7"
  }
 },
 "nbformat": 4,
 "nbformat_minor": 5
}
