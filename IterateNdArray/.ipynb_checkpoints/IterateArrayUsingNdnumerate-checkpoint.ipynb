{
 "cells": [
  {
   "cell_type": "code",
   "execution_count": null,
   "id": "c9ca95d7",
   "metadata": {},
   "outputs": [],
   "source": [
    "import numpy as np\n",
    "\n",
    "#iterating 1-D Array\n",
    "a = np.arange(10,40,2)\n",
    "for pos,element in np.ndnumerate(a):\n",
    "    print(f'{element} element present in index: {pos}')"
   ]
  },
  {
   "cell_type": "code",
   "execution_count": null,
   "id": "d446c6d6",
   "metadata": {},
   "outputs": [],
   "source": []
  }
 ],
 "metadata": {
  "kernelspec": {
   "display_name": "Python 3 (ipykernel)",
   "language": "python",
   "name": "python3"
  },
  "language_info": {
   "codemirror_mode": {
    "name": "ipython",
    "version": 3
   },
   "file_extension": ".py",
   "mimetype": "text/x-python",
   "name": "python",
   "nbconvert_exporter": "python",
   "pygments_lexer": "ipython3",
   "version": "3.11.7"
  }
 },
 "nbformat": 4,
 "nbformat_minor": 5
}
