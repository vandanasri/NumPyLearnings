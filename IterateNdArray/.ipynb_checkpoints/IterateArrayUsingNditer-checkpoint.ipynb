{
 "cells": [
  {
   "cell_type": "code",
   "execution_count": 1,
   "id": "dc200520",
   "metadata": {},
   "outputs": [
    {
     "name": "stdout",
     "output_type": "stream",
     "text": [
      "10\n",
      "12\n",
      "14\n",
      "16\n",
      "18\n",
      "20\n",
      "22\n",
      "24\n",
      "26\n",
      "28\n",
      "30\n",
      "32\n",
      "34\n",
      "36\n",
      "38\n"
     ]
    }
   ],
   "source": [
    "import numpy as np\n",
    "\n",
    "#iterating 1-D Array\n",
    "a = np.arange(10,40,2)\n",
    "for i in np.nditer(a):\n",
    "    print(i)"
   ]
  },
  {
   "cell_type": "code",
   "execution_count": 3,
   "id": "fdafac05",
   "metadata": {},
   "outputs": [
    {
     "name": "stdout",
     "output_type": "stream",
     "text": [
      "10\n",
      "40\n",
      "2\n",
      "1\n",
      "50\n",
      "2\n",
      "60\n",
      "100\n",
      "3\n"
     ]
    }
   ],
   "source": [
    "#iterating 2-D Array\n",
    "a = np.array([[10,40,2],[1,50,2],[60,100,3]])\n",
    "for i in np.nditer(a):\n",
    "    print(i)"
   ]
  },
  {
   "cell_type": "code",
   "execution_count": 4,
   "id": "5bf8da2e",
   "metadata": {},
   "outputs": [
    {
     "name": "stdout",
     "output_type": "stream",
     "text": [
      "10\n",
      "40\n",
      "2\n",
      "1\n",
      "50\n",
      "2\n",
      "60\n",
      "100\n",
      "3\n",
      "20\n",
      "100\n",
      "3\n"
     ]
    }
   ],
   "source": [
    "#iterating 3-D Array\n",
    "a = np.array([[[10,40,2],[1,50,2]],[[60,100,3],[20,100,3]]])\n",
    "for i in np.nditer(a):\n",
    "    print(i)"
   ]
  },
  {
   "cell_type": "code",
   "execution_count": 18,
   "id": "a62036ac",
   "metadata": {},
   "outputs": [
    {
     "name": "stdout",
     "output_type": "stream",
     "text": [
      "[[[ 10  40   2]\n",
      "  [  1  50   2]]\n",
      "\n",
      " [[ 60 100   3]\n",
      "  [ 20 100   3]]]\n",
      "\n",
      "b value ==>\n",
      "  [[[10 40  2]]]\n",
      "10\n",
      "40\n",
      "2\n"
     ]
    }
   ],
   "source": [
    "#iterating elements of sliced Array\n",
    "a = np.array([[[10,40,2],[1,50,2]],[[60,100,3],[20,100,3]]])\n",
    "print(a)\n",
    "b= a[:1,:1]\n",
    "print(\"\\nb value ==>\\n \" , b)\n",
    "for i in np.nditer(b):\n",
    "    print(i)"
   ]
  },
  {
   "cell_type": "code",
   "execution_count": 26,
   "id": "9790d518",
   "metadata": {},
   "outputs": [
    {
     "name": "stdout",
     "output_type": "stream",
     "text": [
      "10.0\n",
      "40.0\n",
      "2.0\n",
      "1.0\n",
      "50.0\n",
      "2.0\n",
      "60.0\n",
      "100.0\n",
      "3.0\n",
      "20.0\n",
      "100.0\n",
      "3.0\n"
     ]
    }
   ],
   "source": [
    "#iterating elements of an Array of required data type\n",
    "c = np.array([[[10,40,2],[1,50,2]],[[60,100,3],[20,100,3]]])\n",
    "for i in np.nditer(c,flags=['buffered'], op_dtypes=['float64']):\n",
    "    print(i)"
   ]
  },
  {
   "cell_type": "code",
   "execution_count": null,
   "id": "84759b8e",
   "metadata": {},
   "outputs": [],
   "source": []
  }
 ],
 "metadata": {
  "kernelspec": {
   "display_name": "Python 3 (ipykernel)",
   "language": "python",
   "name": "python3"
  },
  "language_info": {
   "codemirror_mode": {
    "name": "ipython",
    "version": 3
   },
   "file_extension": ".py",
   "mimetype": "text/x-python",
   "name": "python",
   "nbconvert_exporter": "python",
   "pygments_lexer": "ipython3",
   "version": "3.11.7"
  }
 },
 "nbformat": 4,
 "nbformat_minor": 5
}
