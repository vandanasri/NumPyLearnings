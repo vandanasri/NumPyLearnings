{
 "cells": [
  {
   "cell_type": "code",
   "execution_count": 5,
   "id": "3897afac-2a0a-48df-b1f2-34740c6ad0a3",
   "metadata": {},
   "outputs": [
    {
     "data": {
      "text/plain": [
       "array([[1, 1],\n",
       "       [2, 6]])"
      ]
     },
     "execution_count": 5,
     "metadata": {},
     "output_type": "execute_result"
    }
   ],
   "source": [
    "import numpy as np\n",
    "from numpy import linalg as la\n",
    "\n",
    "# equation => x+y = 28 and 2x+6y =10\n",
    "# here coefficient is \n",
    "coef = np.array([[1,1],[2,6]])\n",
    "coef"
   ]
  },
  {
   "cell_type": "code",
   "execution_count": 7,
   "id": "5a0de3fa-576c-4b5d-bc5e-389cbe6854cb",
   "metadata": {},
   "outputs": [
    {
     "data": {
      "text/plain": [
       "array([28, 10])"
      ]
     },
     "execution_count": 7,
     "metadata": {},
     "output_type": "execute_result"
    }
   ],
   "source": [
    "# here dependent is\n",
    "dep = np.array([28,10])\n",
    "dep"
   ]
  },
  {
   "cell_type": "code",
   "execution_count": 11,
   "id": "4c752a62-f804-484d-bb6e-d62e8eafc7db",
   "metadata": {},
   "outputs": [
    {
     "data": {
      "text/plain": [
       "array([ 39.5, -11.5])"
      ]
     },
     "execution_count": 11,
     "metadata": {},
     "output_type": "execute_result"
    }
   ],
   "source": [
    "# solve(coef,dep)\n",
    "sol = la.solve(coef,dep)\n",
    "sol"
   ]
  },
  {
   "cell_type": "code",
   "execution_count": 15,
   "id": "abbea471-3358-493b-84d6-2cb9e252ecaa",
   "metadata": {},
   "outputs": [
    {
     "data": {
      "text/plain": [
       "array([[[1, 2, 3],\n",
       "        [4, 5, 6],\n",
       "        [7, 8, 9]],\n",
       "\n",
       "       [[1, 2, 3],\n",
       "        [4, 5, 6],\n",
       "        [7, 8, 9]]])"
      ]
     },
     "execution_count": 15,
     "metadata": {},
     "output_type": "execute_result"
    }
   ],
   "source": [
    "# for 3-d array\n",
    "c = np.array([[[1,2,3],[4,5,6],[7,8,9]],[[1,2,3],[4,5,6],[7,8,9]]])\n",
    "c"
   ]
  },
  {
   "cell_type": "code",
   "execution_count": 37,
   "id": "ede0da48-7043-49da-a268-114bcaede9ed",
   "metadata": {},
   "outputs": [
    {
     "data": {
      "text/plain": [
       "array([[28, 10, 89],\n",
       "       [56,  8, 10]])"
      ]
     },
     "execution_count": 37,
     "metadata": {},
     "output_type": "execute_result"
    }
   ],
   "source": [
    "d =  np.array([[28,10,89], [56,8,10]])\n",
    "d"
   ]
  },
  {
   "cell_type": "code",
   "execution_count": 45,
   "id": "2a55f203-f19d-4f65-a388-772eac39108b",
   "metadata": {},
   "outputs": [
    {
     "data": {
      "text/plain": [
       "array([ 3.05794415e+17, -6.11588829e+17,  3.05794415e+17])"
      ]
     },
     "execution_count": 45,
     "metadata": {},
     "output_type": "execute_result"
    }
   ],
   "source": [
    "# break into two arrays\n",
    "# for first array\n",
    "sol0 = la.solve(c[0],d[0])\n",
    "sol0"
   ]
  },
  {
   "cell_type": "code",
   "execution_count": 47,
   "id": "b1ec4555-dd44-4dad-be31-aac168094824",
   "metadata": {},
   "outputs": [
    {
     "data": {
      "text/plain": [
       "array([ 1.57625987e+17, -3.15251974e+17,  1.57625987e+17])"
      ]
     },
     "execution_count": 47,
     "metadata": {},
     "output_type": "execute_result"
    }
   ],
   "source": [
    "#for second array\n",
    "sol1 = la.solve(c[1],d[1])\n",
    "sol1"
   ]
  },
  {
   "cell_type": "code",
   "execution_count": null,
   "id": "6cbb45e0-a537-4aff-8203-1bedaf215970",
   "metadata": {},
   "outputs": [],
   "source": []
  }
 ],
 "metadata": {
  "kernelspec": {
   "display_name": "Python 3 (ipykernel)",
   "language": "python",
   "name": "python3"
  },
  "language_info": {
   "codemirror_mode": {
    "name": "ipython",
    "version": 3
   },
   "file_extension": ".py",
   "mimetype": "text/x-python",
   "name": "python",
   "nbconvert_exporter": "python",
   "pygments_lexer": "ipython3",
   "version": "3.11.7"
  }
 },
 "nbformat": 4,
 "nbformat_minor": 5
}
