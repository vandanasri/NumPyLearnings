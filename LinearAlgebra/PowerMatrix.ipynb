{
 "cells": [
  {
   "cell_type": "code",
   "execution_count": 1,
   "id": "267f2417-fd86-4156-a7af-8c3900e84291",
   "metadata": {},
   "outputs": [
    {
     "data": {
      "text/plain": [
       "array([[1, 2],\n",
       "       [3, 4]])"
      ]
     },
     "execution_count": 1,
     "metadata": {},
     "output_type": "execute_result"
    }
   ],
   "source": [
    "import numpy as np\n",
    "from numpy import linalg as la\n",
    "\n",
    "a = np.array([[1,2],[3,4]])\n",
    "a"
   ]
  },
  {
   "cell_type": "code",
   "execution_count": 5,
   "id": "df479434-494a-40cb-a89c-94f2eda9d29e",
   "metadata": {},
   "outputs": [
    {
     "data": {
      "text/plain": [
       "array([[1, 0],\n",
       "       [0, 1]])"
      ]
     },
     "execution_count": 5,
     "metadata": {},
     "output_type": "execute_result"
    }
   ],
   "source": [
    "#power is zero (Identity matrix)\n",
    "la.matrix_power(a,0)"
   ]
  },
  {
   "cell_type": "code",
   "execution_count": 7,
   "id": "e05d9267-8c2c-4ff2-b571-04b6a5d4aae7",
   "metadata": {},
   "outputs": [
    {
     "data": {
      "text/plain": [
       "array([[ 7, 10],\n",
       "       [15, 22]])"
      ]
     },
     "execution_count": 7,
     "metadata": {},
     "output_type": "execute_result"
    }
   ],
   "source": [
    "#power greater than zero (normal power operation)\n",
    "la.matrix_power(a,2)"
   ]
  },
  {
   "cell_type": "code",
   "execution_count": 9,
   "id": "d1e458d3-2618-4a04-b52e-a4ff9c1dc953",
   "metadata": {},
   "outputs": [
    {
     "data": {
      "text/plain": [
       "array([[165751, 241570],\n",
       "       [362355, 528106]])"
      ]
     },
     "execution_count": 9,
     "metadata": {},
     "output_type": "execute_result"
    }
   ],
   "source": [
    "la.matrix_power(a,8)"
   ]
  },
  {
   "cell_type": "code",
   "execution_count": 11,
   "id": "fb42d429-dee0-4d32-8871-fde751050f5a",
   "metadata": {},
   "outputs": [
    {
     "data": {
      "text/plain": [
       "array([[ 5.5 , -2.5 ],\n",
       "       [-3.75,  1.75]])"
      ]
     },
     "execution_count": 11,
     "metadata": {},
     "output_type": "execute_result"
    }
   ],
   "source": [
    "#power less than zero (first inverse then power operation is performed)\n",
    "la.matrix_power(a,-2)"
   ]
  },
  {
   "cell_type": "code",
   "execution_count": 13,
   "id": "a060aba0-6f4b-4ea6-8fcb-8110bab963ce",
   "metadata": {},
   "outputs": [
    {
     "data": {
      "text/plain": [
       "array([[ 2062.9140625 ,  -943.6328125 ],\n",
       "       [-1415.44921875,   647.46484375]])"
      ]
     },
     "execution_count": 13,
     "metadata": {},
     "output_type": "execute_result"
    }
   ],
   "source": [
    "la.matrix_power(a,-8)"
   ]
  },
  {
   "cell_type": "code",
   "execution_count": 15,
   "id": "5fca33cd-c19a-4d71-8826-77f80057c3d1",
   "metadata": {},
   "outputs": [
    {
     "data": {
      "text/plain": [
       "array([[[1, 2, 3],\n",
       "        [4, 5, 6],\n",
       "        [7, 8, 9]],\n",
       "\n",
       "       [[1, 2, 3],\n",
       "        [4, 5, 6],\n",
       "        [7, 8, 9]]])"
      ]
     },
     "execution_count": 15,
     "metadata": {},
     "output_type": "execute_result"
    }
   ],
   "source": [
    "#3-D array\n",
    "b = np.array([[[1,2,3],[4,5,6],[7,8,9]],[[1,2,3],[4,5,6],[7,8,9]]])\n",
    "b"
   ]
  },
  {
   "cell_type": "code",
   "execution_count": 17,
   "id": "4173239f-9568-435f-b275-c6910c2e2051",
   "metadata": {},
   "outputs": [
    {
     "data": {
      "text/plain": [
       "array([[[1, 0, 0],\n",
       "        [0, 1, 0],\n",
       "        [0, 0, 1]],\n",
       "\n",
       "       [[1, 0, 0],\n",
       "        [0, 1, 0],\n",
       "        [0, 0, 1]]])"
      ]
     },
     "execution_count": 17,
     "metadata": {},
     "output_type": "execute_result"
    }
   ],
   "source": [
    "#power is zero for Identity for 3-D array\n",
    "la.matrix_power(b,0)"
   ]
  },
  {
   "cell_type": "code",
   "execution_count": 19,
   "id": "f7fc3db2-7168-4fd5-b60a-c593b00516c6",
   "metadata": {},
   "outputs": [
    {
     "data": {
      "text/plain": [
       "array([[[ 2.73099729e+129, -5.46199458e+129,  2.73099729e+129],\n",
       "        [-5.46199458e+129,  1.09239892e+130, -5.46199458e+129],\n",
       "        [ 2.73099729e+129, -5.46199458e+129,  2.73099729e+129]],\n",
       "\n",
       "       [[ 2.73099729e+129, -5.46199458e+129,  2.73099729e+129],\n",
       "        [-5.46199458e+129,  1.09239892e+130, -5.46199458e+129],\n",
       "        [ 2.73099729e+129, -5.46199458e+129,  2.73099729e+129]]])"
      ]
     },
     "execution_count": 19,
     "metadata": {},
     "output_type": "execute_result"
    }
   ],
   "source": [
    "#power less than zero for 3-D array\n",
    "la.matrix_power(b,-8)"
   ]
  },
  {
   "cell_type": "code",
   "execution_count": 21,
   "id": "c0e9c205-add7-4454-b22f-5275cdc1340a",
   "metadata": {},
   "outputs": [
    {
     "data": {
      "text/plain": [
       "array([[[  510008400,   626654232,   743300064],\n",
       "        [ 1154967822,  1419124617,  1683281412],\n",
       "        [ 1799927244, -2083372294, -1671704536]],\n",
       "\n",
       "       [[  510008400,   626654232,   743300064],\n",
       "        [ 1154967822,  1419124617,  1683281412],\n",
       "        [ 1799927244, -2083372294, -1671704536]]])"
      ]
     },
     "execution_count": 21,
     "metadata": {},
     "output_type": "execute_result"
    }
   ],
   "source": [
    "#power greater than zero for 3-D array\n",
    "la.matrix_power(b,8)"
   ]
  },
  {
   "cell_type": "code",
   "execution_count": null,
   "id": "b8e90ad1-dcf6-464c-a4c4-282b4192092b",
   "metadata": {},
   "outputs": [],
   "source": []
  }
 ],
 "metadata": {
  "kernelspec": {
   "display_name": "Python 3 (ipykernel)",
   "language": "python",
   "name": "python3"
  },
  "language_info": {
   "codemirror_mode": {
    "name": "ipython",
    "version": 3
   },
   "file_extension": ".py",
   "mimetype": "text/x-python",
   "name": "python",
   "nbconvert_exporter": "python",
   "pygments_lexer": "ipython3",
   "version": "3.11.7"
  }
 },
 "nbformat": 4,
 "nbformat_minor": 5
}
