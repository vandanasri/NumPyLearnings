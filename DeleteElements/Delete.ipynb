{
 "cells": [
  {
   "cell_type": "code",
   "execution_count": 1,
   "id": "28f307b7",
   "metadata": {},
   "outputs": [
    {
     "data": {
      "text/plain": [
       "array([5, 3.2, 6, 8, 10, 16.8, 9, 18, 4.5, True, 'Hello', False, 0],\n",
       "      dtype=object)"
      ]
     },
     "execution_count": 1,
     "metadata": {},
     "output_type": "execute_result"
    }
   ],
   "source": [
    "import numpy as np\n",
    " \n",
    "#For 1-D arrays\n",
    "a = np.array([5,3.2,6,8,10,16.8,9,18,4.5,True,'Hello',False,0],dtype='object')\n",
    "a"
   ]
  },
  {
   "cell_type": "code",
   "execution_count": 2,
   "id": "f7777316",
   "metadata": {},
   "outputs": [
    {
     "data": {
      "text/plain": [
       "array([5, 3.2, 6, 8, 10, 16.8, 9, 18, 4.5, True, False, 0], dtype=object)"
      ]
     },
     "execution_count": 2,
     "metadata": {},
     "output_type": "execute_result"
    }
   ],
   "source": [
    "#delete value at index = 10\n",
    "np.delete(a,10)"
   ]
  },
  {
   "cell_type": "code",
   "execution_count": 3,
   "id": "016f3150",
   "metadata": {},
   "outputs": [
    {
     "data": {
      "text/plain": [
       "array([5, 6, 10, 16.8, 18, 4.5, True, 'Hello', False, 0], dtype=object)"
      ]
     },
     "execution_count": 3,
     "metadata": {},
     "output_type": "execute_result"
    }
   ],
   "source": [
    "# delete value at index = [1,3,6]\n",
    "np.delete(a,[1,3,6])"
   ]
  },
  {
   "cell_type": "code",
   "execution_count": 5,
   "id": "6abb4a2e",
   "metadata": {},
   "outputs": [
    {
     "data": {
      "text/plain": [
       "array([5, 3.2, 18, 4.5, True, 'Hello', False, 0], dtype=object)"
      ]
     },
     "execution_count": 5,
     "metadata": {},
     "output_type": "execute_result"
    }
   ],
   "source": [
    "# delete element from 2 to 7 using slice\n",
    "np.delete(a,np.s_[2:7])"
   ]
  },
  {
   "cell_type": "code",
   "execution_count": 7,
   "id": "9e314654",
   "metadata": {},
   "outputs": [
    {
     "data": {
      "text/plain": [
       "array([], dtype=object)"
      ]
     },
     "execution_count": 7,
     "metadata": {},
     "output_type": "execute_result"
    }
   ],
   "source": [
    "# delete all the elements\n",
    "np.delete(a,np.s_[:])"
   ]
  },
  {
   "cell_type": "code",
   "execution_count": 11,
   "id": "1f376357",
   "metadata": {},
   "outputs": [
    {
     "data": {
      "text/plain": [
       "array([5, 3.2, 9, 18, 4.5, True, 'Hello', False, 0], dtype=object)"
      ]
     },
     "execution_count": 11,
     "metadata": {},
     "output_type": "execute_result"
    }
   ],
   "source": [
    "np.delete(a,range(2,6))"
   ]
  },
  {
   "cell_type": "code",
   "execution_count": 12,
   "id": "d472b5df",
   "metadata": {},
   "outputs": [
    {
     "data": {
      "text/plain": [
       "array([[13,  2,  3, 54],\n",
       "       [15, 26, 17,  8],\n",
       "       [39, 12, 78, 10]])"
      ]
     },
     "execution_count": 12,
     "metadata": {},
     "output_type": "execute_result"
    }
   ],
   "source": [
    "# 2-D arrays\n",
    "b = np.array([[13, 2, 3, 54], [15, 26, 17, 8], [39, 12, 78, 10]])\n",
    "b"
   ]
  },
  {
   "cell_type": "code",
   "execution_count": 13,
   "id": "3f75cbd4",
   "metadata": {},
   "outputs": [
    {
     "data": {
      "text/plain": [
       "array([13,  2,  3, 15, 26, 17,  8, 39, 12, 78, 10])"
      ]
     },
     "execution_count": 13,
     "metadata": {},
     "output_type": "execute_result"
    }
   ],
   "source": [
    "# if axis not provided then 2-D arrary convert into 1-D array and the delete\n",
    "np.delete(b,3)"
   ]
  },
  {
   "cell_type": "code",
   "execution_count": 15,
   "id": "e3b01d05",
   "metadata": {},
   "outputs": [
    {
     "data": {
      "text/plain": [
       "array([[13,  2,  3, 54],\n",
       "       [39, 12, 78, 10]])"
      ]
     },
     "execution_count": 15,
     "metadata": {},
     "output_type": "execute_result"
    }
   ],
   "source": [
    "#delete axis=0\n",
    "np.delete(b,1,axis=0)"
   ]
  },
  {
   "cell_type": "code",
   "execution_count": 16,
   "id": "09bea577",
   "metadata": {},
   "outputs": [
    {
     "data": {
      "text/plain": [
       "array([[13,  3, 54],\n",
       "       [15, 17,  8],\n",
       "       [39, 78, 10]])"
      ]
     },
     "execution_count": 16,
     "metadata": {},
     "output_type": "execute_result"
    }
   ],
   "source": [
    "#delete axis=1\n",
    "np.delete(b,1,axis=1)"
   ]
  },
  {
   "cell_type": "code",
   "execution_count": 18,
   "id": "564ec788",
   "metadata": {},
   "outputs": [
    {
     "data": {
      "text/plain": [
       "array([[15, 26, 17,  8]])"
      ]
     },
     "execution_count": 18,
     "metadata": {},
     "output_type": "execute_result"
    }
   ],
   "source": [
    "#delete axis=0\n",
    "np.delete(b,[0,2],axis=0)"
   ]
  },
  {
   "cell_type": "code",
   "execution_count": 20,
   "id": "d4543e71",
   "metadata": {},
   "outputs": [
    {
     "data": {
      "text/plain": [
       "array([[ 2, 54],\n",
       "       [26,  8],\n",
       "       [12, 10]])"
      ]
     },
     "execution_count": 20,
     "metadata": {},
     "output_type": "execute_result"
    }
   ],
   "source": [
    "#delete axis=1\n",
    "np.delete(b,[0,2],axis=1)"
   ]
  },
  {
   "cell_type": "code",
   "execution_count": 21,
   "id": "c9075ca8",
   "metadata": {},
   "outputs": [
    {
     "data": {
      "text/plain": [
       "array([[[13,  2,  3, 54],\n",
       "        [15, 26, 17,  8]],\n",
       "\n",
       "       [[39, 12, 78, 10],\n",
       "        [ 0,  1, 16, 77]]])"
      ]
     },
     "execution_count": 21,
     "metadata": {},
     "output_type": "execute_result"
    }
   ],
   "source": [
    "# 3-D arrays\n",
    "c = np.array([[[13, 2, 3, 54], [15, 26, 17, 8]], [[39, 12, 78, 10],[0, 1, 16, 77]]])\n",
    "c"
   ]
  },
  {
   "cell_type": "code",
   "execution_count": 22,
   "id": "94639c19",
   "metadata": {},
   "outputs": [
    {
     "data": {
      "text/plain": [
       "array([13,  2,  3, 54, 15, 17,  8, 39, 12, 78, 10,  0,  1, 16, 77])"
      ]
     },
     "execution_count": 22,
     "metadata": {},
     "output_type": "execute_result"
    }
   ],
   "source": [
    "#delete with axis=None\n",
    "np.delete(c,5)"
   ]
  },
  {
   "cell_type": "code",
   "execution_count": 24,
   "id": "13a56b65",
   "metadata": {},
   "outputs": [
    {
     "data": {
      "text/plain": [
       "array([[[13,  2,  3, 54],\n",
       "        [15, 26, 17,  8]]])"
      ]
     },
     "execution_count": 24,
     "metadata": {},
     "output_type": "execute_result"
    }
   ],
   "source": [
    "#delete axis=0\n",
    "np.delete(c,1,axis=0)"
   ]
  },
  {
   "cell_type": "code",
   "execution_count": 25,
   "id": "6fbab2b2",
   "metadata": {},
   "outputs": [
    {
     "data": {
      "text/plain": [
       "array([[[13,  2,  3, 54]],\n",
       "\n",
       "       [[39, 12, 78, 10]]])"
      ]
     },
     "execution_count": 25,
     "metadata": {},
     "output_type": "execute_result"
    }
   ],
   "source": [
    "#delete axis=1\n",
    "np.delete(c,1,axis=1)"
   ]
  },
  {
   "cell_type": "code",
   "execution_count": 26,
   "id": "e7ab6828",
   "metadata": {},
   "outputs": [
    {
     "data": {
      "text/plain": [
       "array([[[13,  3, 54],\n",
       "        [15, 17,  8]],\n",
       "\n",
       "       [[39, 78, 10],\n",
       "        [ 0, 16, 77]]])"
      ]
     },
     "execution_count": 26,
     "metadata": {},
     "output_type": "execute_result"
    }
   ],
   "source": [
    "#delete axis=2\n",
    "np.delete(c,1,axis=2)"
   ]
  },
  {
   "cell_type": "code",
   "execution_count": null,
   "id": "6505ee6f",
   "metadata": {},
   "outputs": [],
   "source": []
  }
 ],
 "metadata": {
  "kernelspec": {
   "display_name": "Python 3 (ipykernel)",
   "language": "python",
   "name": "python3"
  },
  "language_info": {
   "codemirror_mode": {
    "name": "ipython",
    "version": 3
   },
   "file_extension": ".py",
   "mimetype": "text/x-python",
   "name": "python",
   "nbconvert_exporter": "python",
   "pygments_lexer": "ipython3",
   "version": "3.11.7"
  }
 },
 "nbformat": 4,
 "nbformat_minor": 5
}
