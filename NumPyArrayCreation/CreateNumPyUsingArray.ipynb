{
 "cells": [
  {
   "cell_type": "code",
   "execution_count": 3,
   "id": "8530b462",
   "metadata": {},
   "outputs": [
    {
     "data": {
      "text/plain": [
       "array([10, 20, 30, 40])"
      ]
     },
     "execution_count": 3,
     "metadata": {},
     "output_type": "execute_result"
    }
   ],
   "source": [
    "import numpy as np\n",
    "\n",
    "#creating an 1-D array using list\n",
    "l=[10,20,30,40]\n",
    "a = np.array(l)\n",
    "a"
   ]
  },
  {
   "cell_type": "code",
   "execution_count": 5,
   "id": "81adc8c2",
   "metadata": {},
   "outputs": [
    {
     "data": {
      "text/plain": [
       "array([50, 60, 70, 80])"
      ]
     },
     "execution_count": 5,
     "metadata": {},
     "output_type": "execute_result"
    }
   ],
   "source": [
    "#creating an array using tuple\n",
    "t = (50,60,70,80)\n",
    "b= np.array(t)\n",
    "b"
   ]
  },
  {
   "cell_type": "code",
   "execution_count": 7,
   "id": "afacedf3",
   "metadata": {},
   "outputs": [
    {
     "data": {
      "text/plain": [
       "1"
      ]
     },
     "execution_count": 7,
     "metadata": {},
     "output_type": "execute_result"
    }
   ],
   "source": [
    "#Get dimension of array\n",
    "a.ndim"
   ]
  },
  {
   "cell_type": "code",
   "execution_count": 9,
   "id": "97067fbd",
   "metadata": {},
   "outputs": [
    {
     "data": {
      "text/plain": [
       "(4,)"
      ]
     },
     "execution_count": 9,
     "metadata": {},
     "output_type": "execute_result"
    }
   ],
   "source": [
    "#Get the shape of an array\n",
    "a.shape"
   ]
  },
  {
   "cell_type": "code",
   "execution_count": 11,
   "id": "a3f8f726",
   "metadata": {},
   "outputs": [
    {
     "data": {
      "text/plain": [
       "4"
      ]
     },
     "execution_count": 11,
     "metadata": {},
     "output_type": "execute_result"
    }
   ],
   "source": [
    "#Get size of an array\n",
    "a.size"
   ]
  },
  {
   "cell_type": "code",
   "execution_count": 13,
   "id": "8c1daa6e",
   "metadata": {},
   "outputs": [
    {
     "data": {
      "text/plain": [
       "dtype('int32')"
      ]
     },
     "execution_count": 13,
     "metadata": {},
     "output_type": "execute_result"
    }
   ],
   "source": [
    "#check type of element present in an array\n",
    "a.dtype"
   ]
  },
  {
   "cell_type": "code",
   "execution_count": 15,
   "id": "b6856415",
   "metadata": {},
   "outputs": [
    {
     "data": {
      "text/plain": [
       "array([[10, 20, 30],\n",
       "       [40, 50, 60],\n",
       "       [70, 80, 90]])"
      ]
     },
     "execution_count": 15,
     "metadata": {},
     "output_type": "execute_result"
    }
   ],
   "source": [
    "#creating 2-D Array using list\n",
    "td = [[10,20,30],[40,50,60],[70,80,90]]\n",
    "tda = np.array(td)\n",
    "tda"
   ]
  },
  {
   "cell_type": "code",
   "execution_count": 17,
   "id": "88e5e21a",
   "metadata": {},
   "outputs": [
    {
     "data": {
      "text/plain": [
       "2"
      ]
     },
     "execution_count": 17,
     "metadata": {},
     "output_type": "execute_result"
    }
   ],
   "source": [
    "# Get dimension of 2-D array\n",
    "tda.ndim"
   ]
  },
  {
   "cell_type": "code",
   "execution_count": 19,
   "id": "886ddb1b",
   "metadata": {},
   "outputs": [
    {
     "data": {
      "text/plain": [
       "numpy.ndarray"
      ]
     },
     "execution_count": 19,
     "metadata": {},
     "output_type": "execute_result"
    }
   ],
   "source": [
    "# Get type of array\n",
    "type(tda)"
   ]
  },
  {
   "cell_type": "code",
   "execution_count": 21,
   "id": "e3aea12d",
   "metadata": {},
   "outputs": [
    {
     "data": {
      "text/plain": [
       "dtype('int32')"
      ]
     },
     "execution_count": 21,
     "metadata": {},
     "output_type": "execute_result"
    }
   ],
   "source": [
    "# Get type of element present in an 2-D array\n",
    "tda.dtype"
   ]
  },
  {
   "cell_type": "code",
   "execution_count": 23,
   "id": "f21a6e6c",
   "metadata": {},
   "outputs": [
    {
     "data": {
      "text/plain": [
       "(3, 3)"
      ]
     },
     "execution_count": 23,
     "metadata": {},
     "output_type": "execute_result"
    }
   ],
   "source": [
    "#Get the shape of a 2-D array\n",
    "tda.shape"
   ]
  },
  {
   "cell_type": "code",
   "execution_count": 25,
   "id": "fbd12adb",
   "metadata": {},
   "outputs": [
    {
     "data": {
      "text/plain": [
       "9"
      ]
     },
     "execution_count": 25,
     "metadata": {},
     "output_type": "execute_result"
    }
   ],
   "source": [
    "#Get size of a 2-D array\n",
    "tda.size"
   ]
  },
  {
   "cell_type": "code",
   "execution_count": 33,
   "id": "efa25990-a560-487e-a54d-bea47788a8b3",
   "metadata": {},
   "outputs": [
    {
     "data": {
      "text/plain": [
       "array([[[10, 20, 30],\n",
       "        [40, 50, 60],\n",
       "        [70, 80, 90]],\n",
       "\n",
       "       [['A', 'B', 'C'],\n",
       "        ['D', 'E', 'F'],\n",
       "        ['G', 'H', 'I']]], dtype=object)"
      ]
     },
     "execution_count": 33,
     "metadata": {},
     "output_type": "execute_result"
    }
   ],
   "source": [
    "#creating 3-D array using list\n",
    "th = [[[10,20,30],[40,50,60],[70,80,90]], [['A','B','C'],['D','E','F'],['G','H','I']]]\n",
    "tha = np.array(th, dtype = object)\n",
    "tha"
   ]
  },
  {
   "cell_type": "code",
   "execution_count": 39,
   "id": "fb4d2230-a1f0-4dfa-b107-b119e4505157",
   "metadata": {},
   "outputs": [
    {
     "data": {
      "text/plain": [
       "3"
      ]
     },
     "execution_count": 39,
     "metadata": {},
     "output_type": "execute_result"
    }
   ],
   "source": [
    "tha.ndim"
   ]
  },
  {
   "cell_type": "code",
   "execution_count": 47,
   "id": "f636783a-74bc-41e4-8e84-75d354a6e0a0",
   "metadata": {},
   "outputs": [
    {
     "data": {
      "text/plain": [
       "array([list([[10, 20, 30], [40, 50, 60], [70, 80, 90]]),\n",
       "       list([['A', 'B', 'C'], ['D', 'E', 'F']])], dtype=object)"
      ]
     },
     "execution_count": 47,
     "metadata": {},
     "output_type": "execute_result"
    }
   ],
   "source": [
    "#if number of rows doesnot match in both 2-D arrays\n",
    "ther = [[[10,20,30],[40,50,60],[70,80,90]], [['A','B','C'],['D','E','F']]]\n",
    "the = np.array(ther, dtype = object)\n",
    "the"
   ]
  },
  {
   "cell_type": "code",
   "execution_count": 49,
   "id": "e4db3026-9571-451b-81cc-d337badeda6c",
   "metadata": {},
   "outputs": [
    {
     "data": {
      "text/plain": [
       "1"
      ]
     },
     "execution_count": 49,
     "metadata": {},
     "output_type": "execute_result"
    }
   ],
   "source": [
    "the.ndim"
   ]
  },
  {
   "cell_type": "code",
   "execution_count": 57,
   "id": "8acb4bcb-ce10-4983-9361-b9740c1f11ac",
   "metadata": {},
   "outputs": [
    {
     "data": {
      "text/plain": [
       "array([[list([10, 20, 30]), list([40, 50, 60]), list([70, 80, 90])],\n",
       "       [list(['A', 'C']), list(['D', 'F']), list(['G', 'I'])]],\n",
       "      dtype=object)"
      ]
     },
     "execution_count": 57,
     "metadata": {},
     "output_type": "execute_result"
    }
   ],
   "source": [
    "#if number of columns doesnot match in both 2-D arrays\n",
    "thc = [[[10,20,30],[40,50,60],[70,80,90]], [['A','C'],['D','F'],['G','I']]]\n",
    "thr = np.array(thc, dtype = object)\n",
    "thr"
   ]
  },
  {
   "cell_type": "code",
   "execution_count": 55,
   "id": "cd13b459-5e6d-4561-bd44-fd8912ad53eb",
   "metadata": {},
   "outputs": [
    {
     "data": {
      "text/plain": [
       "2"
      ]
     },
     "execution_count": 55,
     "metadata": {},
     "output_type": "execute_result"
    }
   ],
   "source": [
    "thr.ndim"
   ]
  },
  {
   "cell_type": "code",
   "execution_count": 28,
   "id": "82f85417",
   "metadata": {},
   "outputs": [
    {
     "data": {
      "text/plain": [
       "array(['45', '2.0', 'True', 'Hello'], dtype='<U32')"
      ]
     },
     "execution_count": 28,
     "metadata": {},
     "output_type": "execute_result"
    }
   ],
   "source": [
    "ele = (45,2.0,True,'Hello')\n",
    "np.array(ele)"
   ]
  },
  {
   "cell_type": "code",
   "execution_count": 30,
   "id": "52c59f43-ef06-4ef1-8282-c98868ec680c",
   "metadata": {},
   "outputs": [
    {
     "data": {
      "text/plain": [
       "array([45, 2.0, True, 'Hello'], dtype=object)"
      ]
     },
     "execution_count": 30,
     "metadata": {},
     "output_type": "execute_result"
    }
   ],
   "source": [
    "np.array(ele,dtype = object)"
   ]
  },
  {
   "cell_type": "code",
   "execution_count": null,
   "id": "352838ab-d38b-4c91-9b80-8899de700a4e",
   "metadata": {},
   "outputs": [],
   "source": []
  }
 ],
 "metadata": {
  "kernelspec": {
   "display_name": "Python 3 (ipykernel)",
   "language": "python",
   "name": "python3"
  },
  "language_info": {
   "codemirror_mode": {
    "name": "ipython",
    "version": 3
   },
   "file_extension": ".py",
   "mimetype": "text/x-python",
   "name": "python",
   "nbconvert_exporter": "python",
   "pygments_lexer": "ipython3",
   "version": "3.11.7"
  }
 },
 "nbformat": 4,
 "nbformat_minor": 5
}
