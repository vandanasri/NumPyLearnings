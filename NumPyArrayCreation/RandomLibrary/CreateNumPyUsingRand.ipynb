{
 "cells": [
  {
   "cell_type": "code",
   "execution_count": 2,
   "id": "68991dc7",
   "metadata": {},
   "outputs": [
    {
     "data": {
      "text/plain": [
       "0.9184589883360951"
      ]
     },
     "execution_count": 2,
     "metadata": {},
     "output_type": "execute_result"
    }
   ],
   "source": [
    "from numpy import random as rn\n",
    "\n",
    "#Generate single float value\n",
    "rn.rand()"
   ]
  },
  {
   "cell_type": "code",
   "execution_count": 3,
   "id": "72a12a87",
   "metadata": {},
   "outputs": [
    {
     "data": {
      "text/plain": [
       "array([0.59802913, 0.8907357 , 0.87516831, 0.99284337, 0.14054317,\n",
       "       0.84542735, 0.82835289, 0.01456081, 0.83017937, 0.69954745,\n",
       "       0.04216125, 0.44896201, 0.85047489, 0.87813022, 0.92830557,\n",
       "       0.71294305, 0.44228574, 0.80829304, 0.3433283 , 0.82493305])"
      ]
     },
     "execution_count": 3,
     "metadata": {},
     "output_type": "execute_result"
    }
   ],
   "source": [
    "#Creating 1-D array\n",
    "rn.rand(20)"
   ]
  },
  {
   "cell_type": "code",
   "execution_count": 5,
   "id": "a4d242dc",
   "metadata": {},
   "outputs": [
    {
     "data": {
      "text/plain": [
       "array([[[0.79910544, 0.16852884, 0.71692619, 0.39963854, 0.19003162],\n",
       "        [0.19600051, 0.14783419, 0.432722  , 0.94335229, 0.3016237 ],\n",
       "        [0.30503847, 0.53953977, 0.81904033, 0.50626713, 0.12534543]],\n",
       "\n",
       "       [[0.9638744 , 0.01953703, 0.01703758, 0.09593264, 0.11444142],\n",
       "        [0.38322712, 0.94150859, 0.68319375, 0.40521834, 0.746475  ],\n",
       "        [0.15617341, 0.98739443, 0.12083848, 0.77815731, 0.73138485]],\n",
       "\n",
       "       [[0.9137067 , 0.72619096, 0.30477596, 0.47212924, 0.28287945],\n",
       "        [0.12928772, 0.92332695, 0.05222096, 0.06057595, 0.258871  ],\n",
       "        [0.99413343, 0.74078283, 0.34547857, 0.8219511 , 0.21850726]]])"
      ]
     },
     "execution_count": 5,
     "metadata": {},
     "output_type": "execute_result"
    }
   ],
   "source": [
    "#Creating 2-D array, values will always be between 0to1\n",
    "rn.rand(3,3,5)"
   ]
  },
  {
   "cell_type": "code",
   "execution_count": null,
   "id": "c90ed5af",
   "metadata": {},
   "outputs": [],
   "source": []
  }
 ],
 "metadata": {
  "kernelspec": {
   "display_name": "Python 3 (ipykernel)",
   "language": "python",
   "name": "python3"
  },
  "language_info": {
   "codemirror_mode": {
    "name": "ipython",
    "version": 3
   },
   "file_extension": ".py",
   "mimetype": "text/x-python",
   "name": "python",
   "nbconvert_exporter": "python",
   "pygments_lexer": "ipython3",
   "version": "3.11.7"
  }
 },
 "nbformat": 4,
 "nbformat_minor": 5
}
