{
 "cells": [
  {
   "cell_type": "code",
   "execution_count": 2,
   "id": "3646a464",
   "metadata": {},
   "outputs": [
    {
     "data": {
      "text/plain": [
       "0.9184589883360951"
      ]
     },
     "execution_count": 2,
     "metadata": {},
     "output_type": "execute_result"
    }
   ],
   "source": [
    "from numpy import random as rn\n",
    "\n",
    "#Generate single float value\n",
    "rn.rand()"
   ]
  },
  {
   "cell_type": "code",
   "execution_count": 3,
   "id": "9a55cb27",
   "metadata": {},
   "outputs": [
    {
     "data": {
      "text/plain": [
       "array([0.59802913, 0.8907357 , 0.87516831, 0.99284337, 0.14054317,\n",
       "       0.84542735, 0.82835289, 0.01456081, 0.83017937, 0.69954745,\n",
       "       0.04216125, 0.44896201, 0.85047489, 0.87813022, 0.92830557,\n",
       "       0.71294305, 0.44228574, 0.80829304, 0.3433283 , 0.82493305])"
      ]
     },
     "execution_count": 3,
     "metadata": {},
     "output_type": "execute_result"
    }
   ],
   "source": [
    "#Creating 1-D array\n",
    "rn.rand(20)"
   ]
  },
  {
   "cell_type": "code",
   "execution_count": null,
   "id": "2050da21",
   "metadata": {},
   "outputs": [],
   "source": []
  }
 ],
 "metadata": {
  "kernelspec": {
   "display_name": "Python 3 (ipykernel)",
   "language": "python",
   "name": "python3"
  },
  "language_info": {
   "codemirror_mode": {
    "name": "ipython",
    "version": 3
   },
   "file_extension": ".py",
   "mimetype": "text/x-python",
   "name": "python",
   "nbconvert_exporter": "python",
   "pygments_lexer": "ipython3",
   "version": "3.11.7"
  }
 },
 "nbformat": 4,
 "nbformat_minor": 5
}
