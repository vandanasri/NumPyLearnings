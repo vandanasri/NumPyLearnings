{
 "cells": [
  {
   "cell_type": "code",
   "execution_count": 17,
   "id": "f373b22d",
   "metadata": {},
   "outputs": [
    {
     "data": {
      "text/plain": [
       "0.091329950272172"
      ]
     },
     "execution_count": 17,
     "metadata": {},
     "output_type": "execute_result"
    }
   ],
   "source": [
    "import numpy as np\n",
    "from numpy import random as rn\n",
    "\n",
    "#passing no parameter\n",
    "rn.normal()"
   ]
  },
  {
   "cell_type": "code",
   "execution_count": 18,
   "id": "95c1e181",
   "metadata": {},
   "outputs": [
    {
     "data": {
      "text/plain": [
       "10.709863518309398"
      ]
     },
     "execution_count": 18,
     "metadata": {},
     "output_type": "execute_result"
    }
   ],
   "source": [
    "#passing mean value\n",
    "rn.normal(10)"
   ]
  },
  {
   "cell_type": "code",
   "execution_count": 19,
   "id": "ee1c4725",
   "metadata": {},
   "outputs": [
    {
     "data": {
      "text/plain": [
       "array([10.32639863,  8.6831623 , 13.49217418,  2.2004045 ,  7.95652678,\n",
       "        8.41561162, 10.94446222,  8.27963854,  2.41571114,  5.75248314])"
      ]
     },
     "execution_count": 19,
     "metadata": {},
     "output_type": "execute_result"
    }
   ],
   "source": [
    "#passing mean = 10, variance = 4 1-D array\n",
    "rn.normal(10,4,size=10)"
   ]
  },
  {
   "cell_type": "code",
   "execution_count": 20,
   "id": "4ea10b07",
   "metadata": {},
   "outputs": [
    {
     "data": {
      "text/plain": [
       "array([[ 5.59010863,  5.51703008,  5.67562028],\n",
       "       [-2.21891357,  2.16801908,  6.97115029],\n",
       "       [ 2.57286732, -0.9273342 ,  1.17593575]])"
      ]
     },
     "execution_count": 20,
     "metadata": {},
     "output_type": "execute_result"
    }
   ],
   "source": [
    "#creating 2-D array by passing mean=5, variance= 5\n",
    "arr = rn.normal(5,5,size=(3,3))\n",
    "arr"
   ]
  },
  {
   "cell_type": "code",
   "execution_count": 21,
   "id": "0692e3e9",
   "metadata": {},
   "outputs": [
    {
     "data": {
      "text/plain": [
       "2.947164851350375"
      ]
     },
     "execution_count": 21,
     "metadata": {},
     "output_type": "execute_result"
    }
   ],
   "source": [
    "arr.mean()"
   ]
  },
  {
   "cell_type": "code",
   "execution_count": 22,
   "id": "3760b9ad",
   "metadata": {},
   "outputs": [
    {
     "data": {
      "text/plain": [
       "9.201201712401987"
      ]
     },
     "execution_count": 22,
     "metadata": {},
     "output_type": "execute_result"
    }
   ],
   "source": [
    "arr.var()"
   ]
  },
  {
   "cell_type": "code",
   "execution_count": 23,
   "id": "8cd51d59",
   "metadata": {},
   "outputs": [
    {
     "data": {
      "text/plain": [
       "3.0333482675752856"
      ]
     },
     "execution_count": 23,
     "metadata": {},
     "output_type": "execute_result"
    }
   ],
   "source": [
    "arr.std()"
   ]
  },
  {
   "cell_type": "code",
   "execution_count": 39,
   "id": "67fa3339",
   "metadata": {},
   "outputs": [
    {
     "data": {
      "image/png": "[encoded data removed]",
      "text/plain": [
       "<Figure size 640x480 with 1 Axes>"
      ]
     },
     "metadata": {},
     "output_type": "display_data"
    }
   ],
   "source": [
    "# Ploting graph\n",
    "import matplotlib.pyplot as plt\n",
    "\n",
    "count, bins, ignored = plt.hist(rn.normal(10,4,size=1000),15,density=True)\n",
    "plt.plot(bins,np.ones_like(bins),linewidth=2, color='r')\n",
    "plt.show()"
   ]
  },
  {
   "cell_type": "code",
   "execution_count": null,
   "id": "dcb5c837",
   "metadata": {},
   "outputs": [],
   "source": []
  },
  {
   "cell_type": "code",
   "execution_count": null,
   "id": "33430f71",
   "metadata": {},
   "outputs": [],
   "source": []
  }
 ],
 "metadata": {
  "kernelspec": {
   "display_name": "Python 3 (ipykernel)",
   "language": "python",
   "name": "python3"
  },
  "language_info": {
   "codemirror_mode": {
    "name": "ipython",
    "version": 3
   },
   "file_extension": ".py",
   "mimetype": "text/x-python",
   "name": "python",
   "nbconvert_exporter": "python",
   "pygments_lexer": "ipython3",
   "version": "3.11.7"
  }
 },
 "nbformat": 4,
 "nbformat_minor": 5
}
