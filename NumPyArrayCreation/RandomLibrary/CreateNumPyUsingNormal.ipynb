{
 "cells": [
  {
   "cell_type": "code",
   "execution_count": 1,
   "id": "43c10430",
   "metadata": {},
   "outputs": [
    {
     "data": {
      "text/plain": [
       "1.152618044091964"
      ]
     },
     "execution_count": 1,
     "metadata": {},
     "output_type": "execute_result"
    }
   ],
   "source": [
    "from numpy import random as rn\n",
    "\n",
    "#passing no parameter\n",
    "rn.normal()"
   ]
  },
  {
   "cell_type": "code",
   "execution_count": 3,
   "id": "8bdc183f",
   "metadata": {},
   "outputs": [
    {
     "data": {
      "text/plain": [
       "10.539656944615183"
      ]
     },
     "execution_count": 3,
     "metadata": {},
     "output_type": "execute_result"
    }
   ],
   "source": [
    "#passing mean value\n",
    "rn.normal(10)"
   ]
  },
  {
   "cell_type": "code",
   "execution_count": 4,
   "id": "db960cae",
   "metadata": {},
   "outputs": [
    {
     "data": {
      "text/plain": [
       "array([10.48508559, 19.03748409, 13.46432272, 15.47451225, 15.90738629,\n",
       "        9.8207174 ,  7.08896742,  6.28554887, 13.95839783,  9.94720171])"
      ]
     },
     "execution_count": 4,
     "metadata": {},
     "output_type": "execute_result"
    }
   ],
   "source": [
    "#passing mean = 10, variance = 4 1-D array\n",
    "rn.normal(10,4,size=10)"
   ]
  },
  {
   "cell_type": "code",
   "execution_count": null,
   "id": "494ca742",
   "metadata": {},
   "outputs": [],
   "source": []
  }
 ],
 "metadata": {
  "kernelspec": {
   "display_name": "Python 3 (ipykernel)",
   "language": "python",
   "name": "python3"
  },
  "language_info": {
   "codemirror_mode": {
    "name": "ipython",
    "version": 3
   },
   "file_extension": ".py",
   "mimetype": "text/x-python",
   "name": "python",
   "nbconvert_exporter": "python",
   "pygments_lexer": "ipython3",
   "version": "3.11.7"
  }
 },
 "nbformat": 4,
 "nbformat_minor": 5
}
