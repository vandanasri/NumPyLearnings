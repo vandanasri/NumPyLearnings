{
 "cells": [
  {
   "cell_type": "code",
   "execution_count": 1,
   "id": "d65a60fd",
   "metadata": {},
   "outputs": [
    {
     "data": {
      "text/plain": [
       "1.152618044091964"
      ]
     },
     "execution_count": 1,
     "metadata": {},
     "output_type": "execute_result"
    }
   ],
   "source": [
    "from numpy import random as rn\n",
    "\n",
    "#passing no parameter\n",
    "rn.normal()"
   ]
  },
  {
   "cell_type": "code",
   "execution_count": 2,
   "id": "86a67b49",
   "metadata": {},
   "outputs": [
    {
     "data": {
      "text/plain": [
       "10.292188306582418"
      ]
     },
     "execution_count": 2,
     "metadata": {},
     "output_type": "execute_result"
    }
   ],
   "source": [
    "#passing single value\n",
    "rn.normal(10)"
   ]
  },
  {
   "cell_type": "code",
   "execution_count": null,
   "id": "83133c01",
   "metadata": {},
   "outputs": [],
   "source": []
  }
 ],
 "metadata": {
  "kernelspec": {
   "display_name": "Python 3 (ipykernel)",
   "language": "python",
   "name": "python3"
  },
  "language_info": {
   "codemirror_mode": {
    "name": "ipython",
    "version": 3
   },
   "file_extension": ".py",
   "mimetype": "text/x-python",
   "name": "python",
   "nbconvert_exporter": "python",
   "pygments_lexer": "ipython3",
   "version": "3.11.7"
  }
 },
 "nbformat": 4,
 "nbformat_minor": 5
}
