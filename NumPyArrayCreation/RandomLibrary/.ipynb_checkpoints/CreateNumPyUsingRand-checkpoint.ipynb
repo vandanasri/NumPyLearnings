{
 "cells": [
  {
   "cell_type": "code",
   "execution_count": 2,
   "id": "74840414",
   "metadata": {},
   "outputs": [
    {
     "data": {
      "text/plain": [
       "0.9184589883360951"
      ]
     },
     "execution_count": 2,
     "metadata": {},
     "output_type": "execute_result"
    }
   ],
   "source": [
    "from numpy import random as rn\n",
    "\n",
    "#Generate single float value\n",
    "rn.rand()"
   ]
  },
  {
   "cell_type": "code",
   "execution_count": null,
   "id": "aa38d2b3",
   "metadata": {},
   "outputs": [],
   "source": []
  }
 ],
 "metadata": {
  "kernelspec": {
   "display_name": "Python 3 (ipykernel)",
   "language": "python",
   "name": "python3"
  },
  "language_info": {
   "codemirror_mode": {
    "name": "ipython",
    "version": 3
   },
   "file_extension": ".py",
   "mimetype": "text/x-python",
   "name": "python",
   "nbconvert_exporter": "python",
   "pygments_lexer": "ipython3",
   "version": "3.11.7"
  }
 },
 "nbformat": 4,
 "nbformat_minor": 5
}
