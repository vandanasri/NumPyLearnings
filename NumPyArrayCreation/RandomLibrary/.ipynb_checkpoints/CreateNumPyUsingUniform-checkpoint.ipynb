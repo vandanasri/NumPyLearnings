{
 "cells": [
  {
   "cell_type": "code",
   "execution_count": 2,
   "id": "591f2b83",
   "metadata": {},
   "outputs": [
    {
     "data": {
      "text/plain": [
       "0.10244022109411832"
      ]
     },
     "execution_count": 2,
     "metadata": {},
     "output_type": "execute_result"
    }
   ],
   "source": [
    "from numpy import random as rn\n",
    "\n",
    "#passing no parameter\n",
    "rn.uniform()"
   ]
  },
  {
   "cell_type": "code",
   "execution_count": 4,
   "id": "81212dc9",
   "metadata": {},
   "outputs": [
    {
     "data": {
      "text/plain": [
       "4.132259062098738"
      ]
     },
     "execution_count": 4,
     "metadata": {},
     "output_type": "execute_result"
    }
   ],
   "source": [
    "#passing single value\n",
    "rn.uniform(10)"
   ]
  },
  {
   "cell_type": "code",
   "execution_count": 5,
   "id": "a1ff6052",
   "metadata": {},
   "outputs": [
    {
     "data": {
      "text/plain": [
       "2.2575507373163974"
      ]
     },
     "execution_count": 5,
     "metadata": {},
     "output_type": "execute_result"
    }
   ],
   "source": [
    "#range in between 2 to 3\n",
    "rn.uniform(2,3)"
   ]
  },
  {
   "cell_type": "code",
   "execution_count": 6,
   "id": "f47e7bea",
   "metadata": {},
   "outputs": [
    {
     "data": {
      "text/plain": [
       "array([[2.18473153, 2.32091893, 2.1466388 ],\n",
       "       [2.16634099, 2.79607946, 2.6746047 ]])"
      ]
     },
     "execution_count": 6,
     "metadata": {},
     "output_type": "execute_result"
    }
   ],
   "source": [
    "#creating 1-D array\n",
    "rn.uniform(2,3, size=(2,3))"
   ]
  },
  {
   "cell_type": "code",
   "execution_count": null,
   "id": "7765bc74",
   "metadata": {},
   "outputs": [],
   "source": []
  }
 ],
 "metadata": {
  "kernelspec": {
   "display_name": "Python 3 (ipykernel)",
   "language": "python",
   "name": "python3"
  },
  "language_info": {
   "codemirror_mode": {
    "name": "ipython",
    "version": 3
   },
   "file_extension": ".py",
   "mimetype": "text/x-python",
   "name": "python",
   "nbconvert_exporter": "python",
   "pygments_lexer": "ipython3",
   "version": "3.11.7"
  }
 },
 "nbformat": 4,
 "nbformat_minor": 5
}
