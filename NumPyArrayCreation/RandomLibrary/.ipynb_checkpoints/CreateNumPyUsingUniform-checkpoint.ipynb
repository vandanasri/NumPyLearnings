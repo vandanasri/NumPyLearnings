{
 "cells": [
  {
   "cell_type": "code",
   "execution_count": 2,
   "id": "d364bfb8",
   "metadata": {},
   "outputs": [
    {
     "data": {
      "text/plain": [
       "0.10244022109411832"
      ]
     },
     "execution_count": 2,
     "metadata": {},
     "output_type": "execute_result"
    }
   ],
   "source": [
    "from numpy import random as rn\n",
    "\n",
    "#passing no parameter\n",
    "rn.uniform()"
   ]
  },
  {
   "cell_type": "code",
   "execution_count": 4,
   "id": "23b0d9fa",
   "metadata": {},
   "outputs": [
    {
     "data": {
      "text/plain": [
       "4.132259062098738"
      ]
     },
     "execution_count": 4,
     "metadata": {},
     "output_type": "execute_result"
    }
   ],
   "source": [
    "#passing single value\n",
    "rn.uniform(10)"
   ]
  },
  {
   "cell_type": "code",
   "execution_count": 5,
   "id": "c8a1ec9e",
   "metadata": {},
   "outputs": [
    {
     "data": {
      "text/plain": [
       "2.2575507373163974"
      ]
     },
     "execution_count": 5,
     "metadata": {},
     "output_type": "execute_result"
    }
   ],
   "source": [
    "#range in between 2 to 3\n",
    "rn.uniform(2,3)"
   ]
  },
  {
   "cell_type": "code",
   "execution_count": 6,
   "id": "3582a75f",
   "metadata": {},
   "outputs": [
    {
     "data": {
      "text/plain": [
       "array([[2.18473153, 2.32091893, 2.1466388 ],\n",
       "       [2.16634099, 2.79607946, 2.6746047 ]])"
      ]
     },
     "execution_count": 6,
     "metadata": {},
     "output_type": "execute_result"
    }
   ],
   "source": [
    "#creating 1-D array\n",
    "rn.uniform(2,3, size=(2,3))"
   ]
  },
  {
   "cell_type": "code",
   "execution_count": 8,
   "id": "2649bb74",
   "metadata": {},
   "outputs": [
    {
     "data": {
      "text/plain": [
       "array([2.91256638, 2.29039788, 2.33603763, 2.04490598, 2.47003972])"
      ]
     },
     "execution_count": 8,
     "metadata": {},
     "output_type": "execute_result"
    }
   ],
   "source": [
    "#creating 1-D array\n",
    "rn.uniform(2,3, size=(5))"
   ]
  },
  {
   "cell_type": "code",
   "execution_count": 9,
   "id": "8c837901",
   "metadata": {},
   "outputs": [
    {
     "data": {
      "text/plain": [
       "array([[[2.65093951, 2.31047744, 2.55213876],\n",
       "        [2.95527906, 2.16881071, 2.57879687]],\n",
       "\n",
       "       [[2.31588456, 2.08430815, 2.39685189],\n",
       "        [2.20021767, 2.26158991, 2.42232194]]])"
      ]
     },
     "execution_count": 9,
     "metadata": {},
     "output_type": "execute_result"
    }
   ],
   "source": [
    "#creating 2-D array\n",
    "rn.uniform(2,3, size=(2,2,3))"
   ]
  },
  {
   "cell_type": "code",
   "execution_count": null,
   "id": "414a4295",
   "metadata": {},
   "outputs": [],
   "source": []
  }
 ],
 "metadata": {
  "kernelspec": {
   "display_name": "Python 3 (ipykernel)",
   "language": "python",
   "name": "python3"
  },
  "language_info": {
   "codemirror_mode": {
    "name": "ipython",
    "version": 3
   },
   "file_extension": ".py",
   "mimetype": "text/x-python",
   "name": "python",
   "nbconvert_exporter": "python",
   "pygments_lexer": "ipython3",
   "version": "3.11.7"
  }
 },
 "nbformat": 4,
 "nbformat_minor": 5
}
