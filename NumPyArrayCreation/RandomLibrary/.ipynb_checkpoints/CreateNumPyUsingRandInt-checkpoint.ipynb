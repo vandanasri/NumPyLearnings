{
 "cells": [
  {
   "cell_type": "code",
   "execution_count": 6,
   "id": "bff8cfdb",
   "metadata": {},
   "outputs": [],
   "source": [
    "from numpy import random as rn\n"
   ]
  },
  {
   "cell_type": "code",
   "execution_count": 10,
   "id": "5d8305e0",
   "metadata": {},
   "outputs": [
    {
     "data": {
      "text/plain": [
       "44"
      ]
     },
     "execution_count": 10,
     "metadata": {},
     "output_type": "execute_result"
    }
   ],
   "source": [
    "#generate single random array between 30 and 60\n",
    "rn.randint(30,60)"
   ]
  },
  {
   "cell_type": "code",
   "execution_count": 14,
   "id": "1a6a7306",
   "metadata": {},
   "outputs": [
    {
     "data": {
      "text/plain": [
       "array([46, 32, 55, 53])"
      ]
     },
     "execution_count": 14,
     "metadata": {},
     "output_type": "execute_result"
    }
   ],
   "source": [
    "# create 1-D array with size 4\n",
    "rn.randint(30,60,size = 4)"
   ]
  },
  {
   "cell_type": "code",
   "execution_count": 15,
   "id": "1de2a853",
   "metadata": {
    "scrolled": true
   },
   "outputs": [
    {
     "data": {
      "text/plain": [
       "array([53, 34, 33, 36, 53, 34, 37, 45, 45, 52, 50, 54, 37, 32, 41, 36, 51,\n",
       "       51, 33, 33, 32, 34, 35, 43, 49, 34, 55, 50, 58, 35])"
      ]
     },
     "execution_count": 15,
     "metadata": {},
     "output_type": "execute_result"
    }
   ],
   "source": [
    "# create 1-D array with size 30\n",
    "rn.randint(30,60,30)"
   ]
  },
  {
   "cell_type": "code",
   "execution_count": 16,
   "id": "c597f473",
   "metadata": {},
   "outputs": [
    {
     "data": {
      "text/plain": [
       "array([46, 32, 46, 36, 31, 37, 49, 45, 42, 58, 47, 57, 52, 54, 44, 56, 43,\n",
       "       57, 41, 35, 34, 37, 54, 38, 56, 50, 42, 58, 50, 54, 36, 37, 45, 59,\n",
       "       33, 39, 44, 34, 59, 39, 41, 34, 36, 33, 30, 31, 37, 59, 47, 51, 40,\n",
       "       57, 45, 30, 45, 46, 40, 59, 56, 54, 48, 35, 53, 57, 53, 43, 55, 44,\n",
       "       39, 39, 48, 52, 38, 34, 34, 38, 36, 58, 39, 46, 51, 57, 30, 41, 32,\n",
       "       51, 47, 58, 32, 54, 35, 52, 44, 32, 55, 44, 30, 48, 43, 45])"
      ]
     },
     "execution_count": 16,
     "metadata": {},
     "output_type": "execute_result"
    }
   ],
   "source": [
    "# create 1-D array with size 100\n",
    "rn.randint(30,60,100)"
   ]
  },
  {
   "cell_type": "code",
   "execution_count": 18,
   "id": "bb8e7944",
   "metadata": {},
   "outputs": [
    {
     "data": {
      "text/plain": [
       "array([[ 3, 38, 15, 40],\n",
       "       [12, 36,  3, 11],\n",
       "       [45, 48, 30, 38]])"
      ]
     },
     "execution_count": 18,
     "metadata": {},
     "output_type": "execute_result"
    }
   ],
   "source": [
    "#Creating a 2-D array in a from 0 to 50 with size(3,4)\n",
    "rn.randint(50,size=(3,4))"
   ]
  },
  {
   "cell_type": "code",
   "execution_count": 22,
   "id": "2eb432a2",
   "metadata": {},
   "outputs": [
    {
     "data": {
      "text/plain": [
       "array([[[11, 23, 39, 21, 34],\n",
       "        [32, 20, 34, 21, 29],\n",
       "        [16, 21, 20, 11, 43],\n",
       "        [ 6, 49, 47, 33, 14]],\n",
       "\n",
       "       [[20, 19, 37, 16, 23],\n",
       "        [ 9, 17,  1, 15,  1],\n",
       "        [24,  2, 23, 12, 21],\n",
       "        [35, 42, 33, 48, 15]],\n",
       "\n",
       "       [[23, 41, 39, 16, 10],\n",
       "        [38, 24, 45, 26, 24],\n",
       "        [34, 38, 40, 46,  0],\n",
       "        [46, 12,  9, 43, 19]]])"
      ]
     },
     "execution_count": 22,
     "metadata": {},
     "output_type": "execute_result"
    }
   ],
   "source": [
    "#Creating a 3-D array in a from 0 to 50 with size(3,4,5)\n",
    "rn.randint(50,size=(3,4,5))"
   ]
  },
  {
   "cell_type": "code",
   "execution_count": 26,
   "id": "4a2d0771",
   "metadata": {},
   "outputs": [
    {
     "data": {
      "text/plain": [
       "array([[4, 2, 2, 1, 5],\n",
       "       [7, 5, 3, 9, 8],\n",
       "       [8, 5, 1, 9, 4],\n",
       "       [0, 0, 0, 3, 7]])"
      ]
     },
     "execution_count": 26,
     "metadata": {},
     "output_type": "execute_result"
    }
   ],
   "source": [
    "#check default dtype of nd array\n",
    "arr= rn.randint(10,size=(4,5))\n",
    "arr"
   ]
  },
  {
   "cell_type": "code",
   "execution_count": 27,
   "id": "b07c9350",
   "metadata": {},
   "outputs": [
    {
     "data": {
      "text/plain": [
       "numpy.ndarray"
      ]
     },
     "execution_count": 27,
     "metadata": {},
     "output_type": "execute_result"
    }
   ],
   "source": [
    "type(arr)"
   ]
  },
  {
   "cell_type": "code",
   "execution_count": 28,
   "id": "c1d9af32",
   "metadata": {},
   "outputs": [
    {
     "data": {
      "text/plain": [
       "dtype('int64')"
      ]
     },
     "execution_count": 28,
     "metadata": {},
     "output_type": "execute_result"
    }
   ],
   "source": [
    "arr.dtype"
   ]
  },
  {
   "cell_type": "code",
   "execution_count": 35,
   "id": "4c43e3fe",
   "metadata": {},
   "outputs": [
    {
     "data": {
      "text/plain": [
       "array([[1, 1, 2, 3, 7],\n",
       "       [3, 8, 0, 8, 4],\n",
       "       [8, 1, 0, 5, 8],\n",
       "       [4, 2, 6, 5, 1]], dtype=int8)"
      ]
     },
     "execution_count": 35,
     "metadata": {},
     "output_type": "execute_result"
    }
   ],
   "source": [
    "#creating new dtype='int8' of nd array\n",
    "newarr= rn.randint(10,size=(4,5), dtype='int8')\n",
    "newarr"
   ]
  },
  {
   "cell_type": "code",
   "execution_count": 33,
   "id": "38481871",
   "metadata": {},
   "outputs": [
    {
     "data": {
      "text/plain": [
       "288"
      ]
     },
     "execution_count": 33,
     "metadata": {},
     "output_type": "execute_result"
    }
   ],
   "source": [
    "#checking the memory utilization size of both ndarray with different dtype \n",
    "\n",
    "import sys\n",
    "\n",
    "sys.getsizeof(arr)"
   ]
  },
  {
   "cell_type": "code",
   "execution_count": 34,
   "id": "cc0805de",
   "metadata": {},
   "outputs": [
    {
     "data": {
      "text/plain": [
       "148"
      ]
     },
     "execution_count": 34,
     "metadata": {},
     "output_type": "execute_result"
    }
   ],
   "source": [
    "sys.getsizeof(newarr)"
   ]
  },
  {
   "cell_type": "code",
   "execution_count": 36,
   "id": "2d7c730b",
   "metadata": {},
   "outputs": [
    {
     "data": {
      "text/plain": [
       "array([[4., 2., 2., 1., 5.],\n",
       "       [7., 5., 3., 9., 8.],\n",
       "       [8., 5., 1., 9., 4.],\n",
       "       [0., 0., 0., 3., 7.]])"
      ]
     },
     "execution_count": 36,
     "metadata": {},
     "output_type": "execute_result"
    }
   ],
   "source": [
    "#converting int nd array to float\n",
    "\n",
    "arr.astype(float)"
   ]
  },
  {
   "cell_type": "code",
   "execution_count": 37,
   "id": "57db8b46",
   "metadata": {
    "scrolled": true
   },
   "outputs": [
    {
     "data": {
      "text/plain": [
       "288"
      ]
     },
     "execution_count": 37,
     "metadata": {},
     "output_type": "execute_result"
    }
   ],
   "source": [
    "sys.getsizeof(arr.astype(float))"
   ]
  },
  {
   "cell_type": "code",
   "execution_count": null,
   "id": "044caeeb",
   "metadata": {},
   "outputs": [],
   "source": []
  }
 ],
 "metadata": {
  "kernelspec": {
   "display_name": "Python 3 (ipykernel)",
   "language": "python",
   "name": "python3"
  },
  "language_info": {
   "codemirror_mode": {
    "name": "ipython",
    "version": 3
   },
   "file_extension": ".py",
   "mimetype": "text/x-python",
   "name": "python",
   "nbconvert_exporter": "python",
   "pygments_lexer": "ipython3",
   "version": "3.11.7"
  }
 },
 "nbformat": 4,
 "nbformat_minor": 5
}
