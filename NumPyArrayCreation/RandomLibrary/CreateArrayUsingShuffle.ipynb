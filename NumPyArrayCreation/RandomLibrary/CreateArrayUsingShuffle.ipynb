{
 "cells": [
  {
   "cell_type": "code",
   "execution_count": 19,
   "id": "4ab3d58c",
   "metadata": {},
   "outputs": [
    {
     "data": {
      "text/plain": [
       "array([ 0,  1,  2,  3,  4,  5,  6,  7,  8,  9, 10, 11, 12, 13, 14, 15, 16,\n",
       "       17, 18, 19])"
      ]
     },
     "execution_count": 19,
     "metadata": {},
     "output_type": "execute_result"
    }
   ],
   "source": [
    "import numpy\n",
    "from numpy import random as rn\n",
    "\n",
    "a= numpy.arange(20)\n",
    "a"
   ]
  },
  {
   "cell_type": "code",
   "execution_count": 20,
   "id": "efb1fffe",
   "metadata": {},
   "outputs": [
    {
     "data": {
      "text/plain": [
       "array([ 1, 11,  8,  3,  6, 19, 17, 14,  2,  7,  9,  0, 16, 10, 15, 12, 18,\n",
       "        5, 13,  4])"
      ]
     },
     "execution_count": 20,
     "metadata": {},
     "output_type": "execute_result"
    }
   ],
   "source": [
    "#shuffle-- the array modify the sequence of inline elements in different order\n",
    "\n",
    "rn.shuffle(a)\n",
    "a"
   ]
  },
  {
   "cell_type": "code",
   "execution_count": 28,
   "id": "3b319c5d",
   "metadata": {},
   "outputs": [
    {
     "data": {
      "text/plain": [
       "array([[19, 19, 11, 17],\n",
       "       [15, 17, 18, 17],\n",
       "       [18, 15, 11, 10]])"
      ]
     },
     "execution_count": 28,
     "metadata": {},
     "output_type": "execute_result"
    }
   ],
   "source": [
    "b=rn.randint(10,20,size=(3,4))\n",
    "b"
   ]
  },
  {
   "cell_type": "code",
   "execution_count": 31,
   "id": "ba630036",
   "metadata": {},
   "outputs": [
    {
     "data": {
      "text/plain": [
       "array([[18, 15, 11, 10],\n",
       "       [15, 17, 18, 17],\n",
       "       [19, 19, 11, 17]])"
      ]
     },
     "execution_count": 31,
     "metadata": {},
     "output_type": "execute_result"
    }
   ],
   "source": [
    "# shuffle 2-D array - only row order changed but internal element order remain same.\n",
    "rn.shuffle(b)\n",
    "b"
   ]
  },
  {
   "cell_type": "code",
   "execution_count": 34,
   "id": "674f09a6",
   "metadata": {},
   "outputs": [
    {
     "data": {
      "text/plain": [
       "array([[10, 10, 18, 12, 14, 11],\n",
       "       [12, 10, 16, 10, 17, 17],\n",
       "       [17, 15, 18, 14, 10, 14],\n",
       "       [11, 14, 15, 15, 11, 17],\n",
       "       [17, 11, 15, 13, 11, 12],\n",
       "       [10, 12, 18, 18, 16, 15],\n",
       "       [13, 14, 13, 13, 18, 15],\n",
       "       [11, 14, 12, 11, 11, 11]])"
      ]
     },
     "execution_count": 34,
     "metadata": {},
     "output_type": "execute_result"
    }
   ],
   "source": [
    "c=rn.randint(10,20,size=(8,6))\n",
    "c"
   ]
  },
  {
   "cell_type": "code",
   "execution_count": 35,
   "id": "2c10a641",
   "metadata": {},
   "outputs": [
    {
     "data": {
      "text/plain": [
       "array([[11, 14, 15, 15, 11, 17],\n",
       "       [11, 14, 12, 11, 11, 11],\n",
       "       [10, 12, 18, 18, 16, 15],\n",
       "       [13, 14, 13, 13, 18, 15],\n",
       "       [10, 10, 18, 12, 14, 11],\n",
       "       [17, 11, 15, 13, 11, 12],\n",
       "       [12, 10, 16, 10, 17, 17],\n",
       "       [17, 15, 18, 14, 10, 14]])"
      ]
     },
     "execution_count": 35,
     "metadata": {},
     "output_type": "execute_result"
    }
   ],
   "source": [
    "# only row order changed but internal element order remain same.\n",
    "rn.shuffle(c)\n",
    "c"
   ]
  },
  {
   "cell_type": "code",
   "execution_count": null,
   "id": "851393cf",
   "metadata": {},
   "outputs": [],
   "source": []
  }
 ],
 "metadata": {
  "kernelspec": {
   "display_name": "Python 3 (ipykernel)",
   "language": "python",
   "name": "python3"
  },
  "language_info": {
   "codemirror_mode": {
    "name": "ipython",
    "version": 3
   },
   "file_extension": ".py",
   "mimetype": "text/x-python",
   "name": "python",
   "nbconvert_exporter": "python",
   "pygments_lexer": "ipython3",
   "version": "3.11.7"
  }
 },
 "nbformat": 4,
 "nbformat_minor": 5
}
