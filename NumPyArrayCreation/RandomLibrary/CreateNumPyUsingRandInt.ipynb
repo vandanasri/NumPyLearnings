{
 "cells": [
  {
   "cell_type": "code",
   "execution_count": 6,
   "id": "679db30f",
   "metadata": {},
   "outputs": [],
   "source": [
    "from numpy import random as rn\n"
   ]
  },
  {
   "cell_type": "code",
   "execution_count": 10,
   "id": "25920d3e",
   "metadata": {},
   "outputs": [
    {
     "data": {
      "text/plain": [
       "44"
      ]
     },
     "execution_count": 10,
     "metadata": {},
     "output_type": "execute_result"
    }
   ],
   "source": [
    "#generate single random array between 30 and 60\n",
    "rn.randint(30,60)"
   ]
  },
  {
   "cell_type": "code",
   "execution_count": 14,
   "id": "af24232c",
   "metadata": {},
   "outputs": [
    {
     "data": {
      "text/plain": [
       "array([46, 32, 55, 53])"
      ]
     },
     "execution_count": 14,
     "metadata": {},
     "output_type": "execute_result"
    }
   ],
   "source": [
    "# create 1-D array with size 4\n",
    "rn.randint(30,60,size = 4)"
   ]
  },
  {
   "cell_type": "code",
   "execution_count": 15,
   "id": "e5479dd7",
   "metadata": {},
   "outputs": [
    {
     "data": {
      "text/plain": [
       "array([53, 34, 33, 36, 53, 34, 37, 45, 45, 52, 50, 54, 37, 32, 41, 36, 51,\n",
       "       51, 33, 33, 32, 34, 35, 43, 49, 34, 55, 50, 58, 35])"
      ]
     },
     "execution_count": 15,
     "metadata": {},
     "output_type": "execute_result"
    }
   ],
   "source": [
    "# create 1-D array with size 30\n",
    "rn.randint(30,60,30)"
   ]
  },
  {
   "cell_type": "code",
   "execution_count": 16,
   "id": "6b5ad941",
   "metadata": {},
   "outputs": [
    {
     "data": {
      "text/plain": [
       "array([46, 32, 46, 36, 31, 37, 49, 45, 42, 58, 47, 57, 52, 54, 44, 56, 43,\n",
       "       57, 41, 35, 34, 37, 54, 38, 56, 50, 42, 58, 50, 54, 36, 37, 45, 59,\n",
       "       33, 39, 44, 34, 59, 39, 41, 34, 36, 33, 30, 31, 37, 59, 47, 51, 40,\n",
       "       57, 45, 30, 45, 46, 40, 59, 56, 54, 48, 35, 53, 57, 53, 43, 55, 44,\n",
       "       39, 39, 48, 52, 38, 34, 34, 38, 36, 58, 39, 46, 51, 57, 30, 41, 32,\n",
       "       51, 47, 58, 32, 54, 35, 52, 44, 32, 55, 44, 30, 48, 43, 45])"
      ]
     },
     "execution_count": 16,
     "metadata": {},
     "output_type": "execute_result"
    }
   ],
   "source": [
    "# create 1-D array with size 100\n",
    "rn.randint(30,60,100)"
   ]
  },
  {
   "cell_type": "code",
   "execution_count": null,
   "id": "14fe3270",
   "metadata": {},
   "outputs": [],
   "source": []
  }
 ],
 "metadata": {
  "kernelspec": {
   "display_name": "Python 3 (ipykernel)",
   "language": "python",
   "name": "python3"
  },
  "language_info": {
   "codemirror_mode": {
    "name": "ipython",
    "version": 3
   },
   "file_extension": ".py",
   "mimetype": "text/x-python",
   "name": "python",
   "nbconvert_exporter": "python",
   "pygments_lexer": "ipython3",
   "version": "3.11.7"
  }
 },
 "nbformat": 4,
 "nbformat_minor": 5
}
