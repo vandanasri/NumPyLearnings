{
 "cells": [
  {
   "cell_type": "code",
   "execution_count": 1,
   "id": "4967e9a0",
   "metadata": {},
   "outputs": [
    {
     "data": {
      "text/plain": [
       "-2.675614333404383"
      ]
     },
     "execution_count": 1,
     "metadata": {},
     "output_type": "execute_result"
    }
   ],
   "source": [
    "from numpy import random as rn\n",
    "\n",
    "#Generate single float value\n",
    "rn.randn()"
   ]
  },
  {
   "cell_type": "code",
   "execution_count": 2,
   "id": "46737692",
   "metadata": {},
   "outputs": [
    {
     "data": {
      "text/plain": [
       "array([-0.33509226,  1.44761751,  0.01176509,  0.83018327,  1.45058248,\n",
       "       -1.39407228, -0.36074185,  0.15514142, -0.0638184 ,  0.35368372,\n",
       "       -1.04103582,  0.10636944, -1.4088707 , -2.26138495, -0.07184831,\n",
       "       -1.69265643, -0.58524054,  0.2113149 , -1.07761869,  0.82501027])"
      ]
     },
     "execution_count": 2,
     "metadata": {},
     "output_type": "execute_result"
    }
   ],
   "source": [
    "#Creating 1-D array\n",
    "rn.randn(20)"
   ]
  },
  {
   "cell_type": "code",
   "execution_count": 3,
   "id": "f1a29245",
   "metadata": {},
   "outputs": [
    {
     "data": {
      "text/plain": [
       "array([[[ 1.17528306, -2.45681952, -0.61906763,  0.19010005,\n",
       "         -1.4563792 ],\n",
       "        [-2.19007385, -0.35265436,  0.78554971, -3.50700349,\n",
       "         -0.03659225],\n",
       "        [-0.08103347, -1.80342139, -2.06644522, -1.0809291 ,\n",
       "          0.61452924]],\n",
       "\n",
       "       [[-1.04783434, -0.66668834,  0.64334733,  2.29849293,\n",
       "         -0.17127506],\n",
       "        [ 1.90215428, -2.24630381, -0.56260509, -0.89765329,\n",
       "          0.56734573],\n",
       "        [ 0.24493859,  0.88234112, -0.13697699,  0.79236689,\n",
       "         -0.40860086]],\n",
       "\n",
       "       [[-0.83407791,  0.60548531,  1.36178592, -1.27027084,\n",
       "         -0.0618097 ],\n",
       "        [-1.09917785, -0.37379715, -0.54663158,  0.42947746,\n",
       "          1.68981755],\n",
       "        [ 1.04027027, -1.5661402 , -0.86003895,  0.07075845,\n",
       "         -0.39112616]]])"
      ]
     },
     "execution_count": 3,
     "metadata": {},
     "output_type": "execute_result"
    }
   ],
   "source": [
    "#Creating 2-D array, values will always be between 0to1\n",
    "rn.randn(3,3,5)"
   ]
  },
  {
   "cell_type": "code",
   "execution_count": null,
   "id": "049dd23f",
   "metadata": {},
   "outputs": [],
   "source": []
  }
 ],
 "metadata": {
  "kernelspec": {
   "display_name": "Python 3 (ipykernel)",
   "language": "python",
   "name": "python3"
  },
  "language_info": {
   "codemirror_mode": {
    "name": "ipython",
    "version": 3
   },
   "file_extension": ".py",
   "mimetype": "text/x-python",
   "name": "python",
   "nbconvert_exporter": "python",
   "pygments_lexer": "ipython3",
   "version": "3.11.7"
  }
 },
 "nbformat": 4,
 "nbformat_minor": 5
}
