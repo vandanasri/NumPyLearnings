{
 "cells": [
  {
   "cell_type": "code",
   "execution_count": 4,
   "id": "8530b462",
   "metadata": {},
   "outputs": [
    {
     "data": {
      "text/plain": [
       "array([10, 20, 30, 40])"
      ]
     },
     "execution_count": 4,
     "metadata": {},
     "output_type": "execute_result"
    }
   ],
   "source": [
    "import numpy as np\n",
    "\n",
    "#creating an 1-D array using list\n",
    "l=[10,20,30,40]\n",
    "a = np.array(l)\n",
    "a"
   ]
  },
  {
   "cell_type": "code",
   "execution_count": 6,
   "id": "81adc8c2",
   "metadata": {},
   "outputs": [
    {
     "data": {
      "text/plain": [
       "array([50, 60, 70, 80])"
      ]
     },
     "execution_count": 6,
     "metadata": {},
     "output_type": "execute_result"
    }
   ],
   "source": [
    "#creating an array using tuple\n",
    "t = (50,60,70,80)\n",
    "b= np.array(t)\n",
    "b"
   ]
  },
  {
   "cell_type": "code",
   "execution_count": 8,
   "id": "afacedf3",
   "metadata": {},
   "outputs": [
    {
     "data": {
      "text/plain": [
       "1"
      ]
     },
     "execution_count": 8,
     "metadata": {},
     "output_type": "execute_result"
    }
   ],
   "source": [
    "#Get dimension of array\n",
    "a.ndim"
   ]
  },
  {
   "cell_type": "code",
   "execution_count": 10,
   "id": "97067fbd",
   "metadata": {},
   "outputs": [
    {
     "data": {
      "text/plain": [
       "(4,)"
      ]
     },
     "execution_count": 10,
     "metadata": {},
     "output_type": "execute_result"
    }
   ],
   "source": [
    "#Get the shape of an array\n",
    "a.shape"
   ]
  },
  {
   "cell_type": "code",
   "execution_count": 12,
   "id": "a3f8f726",
   "metadata": {},
   "outputs": [
    {
     "data": {
      "text/plain": [
       "4"
      ]
     },
     "execution_count": 12,
     "metadata": {},
     "output_type": "execute_result"
    }
   ],
   "source": [
    "#Get size of an array\n",
    "a.size"
   ]
  },
  {
   "cell_type": "code",
   "execution_count": 14,
   "id": "8c1daa6e",
   "metadata": {},
   "outputs": [
    {
     "data": {
      "text/plain": [
       "dtype('int32')"
      ]
     },
     "execution_count": 14,
     "metadata": {},
     "output_type": "execute_result"
    }
   ],
   "source": [
    "#check type of element present in an array\n",
    "a.dtype"
   ]
  },
  {
   "cell_type": "code",
   "execution_count": 16,
   "id": "b6856415",
   "metadata": {},
   "outputs": [
    {
     "data": {
      "text/plain": [
       "array([[10, 20, 30],\n",
       "       [40, 50, 60],\n",
       "       [70, 80, 90]])"
      ]
     },
     "execution_count": 16,
     "metadata": {},
     "output_type": "execute_result"
    }
   ],
   "source": [
    "#creating 2-D Array using list\n",
    "td = [[10,20,30],[40,50,60],[70,80,90]]\n",
    "tda = np.array(td)\n",
    "tda"
   ]
  },
  {
   "cell_type": "code",
   "execution_count": 18,
   "id": "88e5e21a",
   "metadata": {},
   "outputs": [
    {
     "data": {
      "text/plain": [
       "2"
      ]
     },
     "execution_count": 18,
     "metadata": {},
     "output_type": "execute_result"
    }
   ],
   "source": [
    "# Get dimension of 2-D array\n",
    "tda.ndim"
   ]
  },
  {
   "cell_type": "code",
   "execution_count": 20,
   "id": "886ddb1b",
   "metadata": {},
   "outputs": [
    {
     "data": {
      "text/plain": [
       "numpy.ndarray"
      ]
     },
     "execution_count": 20,
     "metadata": {},
     "output_type": "execute_result"
    }
   ],
   "source": [
    "# Get type of array\n",
    "type(tda)"
   ]
  },
  {
   "cell_type": "code",
   "execution_count": 22,
   "id": "e3aea12d",
   "metadata": {},
   "outputs": [
    {
     "data": {
      "text/plain": [
       "dtype('int32')"
      ]
     },
     "execution_count": 22,
     "metadata": {},
     "output_type": "execute_result"
    }
   ],
   "source": [
    "# Get type of element present in an 2-D array\n",
    "tda.dtype"
   ]
  },
  {
   "cell_type": "code",
   "execution_count": 24,
   "id": "f21a6e6c",
   "metadata": {},
   "outputs": [
    {
     "data": {
      "text/plain": [
       "(3, 3)"
      ]
     },
     "execution_count": 24,
     "metadata": {},
     "output_type": "execute_result"
    }
   ],
   "source": [
    "#Get the shape of a 2-D array\n",
    "tda.shape"
   ]
  },
  {
   "cell_type": "code",
   "execution_count": 26,
   "id": "fbd12adb",
   "metadata": {},
   "outputs": [
    {
     "data": {
      "text/plain": [
       "9"
      ]
     },
     "execution_count": 26,
     "metadata": {},
     "output_type": "execute_result"
    }
   ],
   "source": [
    "#Get size of a 2-D array\n",
    "tda.size"
   ]
  },
  {
   "cell_type": "code",
   "execution_count": 28,
   "id": "82f85417",
   "metadata": {},
   "outputs": [
    {
     "data": {
      "text/plain": [
       "array(['45', '2.0', 'True', 'Hello'], dtype='<U32')"
      ]
     },
     "execution_count": 28,
     "metadata": {},
     "output_type": "execute_result"
    }
   ],
   "source": [
    "ele = (45,2.0,True,'Hello')\n",
    "np.array(ele)"
   ]
  },
  {
   "cell_type": "code",
   "execution_count": 30,
   "id": "52c59f43-ef06-4ef1-8282-c98868ec680c",
   "metadata": {},
   "outputs": [
    {
     "data": {
      "text/plain": [
       "array([45, 2.0, True, 'Hello'], dtype=object)"
      ]
     },
     "execution_count": 30,
     "metadata": {},
     "output_type": "execute_result"
    }
   ],
   "source": [
    "np.array(ele,dtype = object)"
   ]
  },
  {
   "cell_type": "code",
   "execution_count": null,
   "id": "352838ab-d38b-4c91-9b80-8899de700a4e",
   "metadata": {},
   "outputs": [],
   "source": []
  }
 ],
 "metadata": {
  "kernelspec": {
   "display_name": "Python 3 (ipykernel)",
   "language": "python",
   "name": "python3"
  },
  "language_info": {
   "codemirror_mode": {
    "name": "ipython",
    "version": 3
   },
   "file_extension": ".py",
   "mimetype": "text/x-python",
   "name": "python",
   "nbconvert_exporter": "python",
   "pygments_lexer": "ipython3",
   "version": "3.11.7"
  }
 },
 "nbformat": 4,
 "nbformat_minor": 5
}
