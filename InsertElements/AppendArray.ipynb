{
 "cells": [
  {
   "cell_type": "code",
   "execution_count": 1,
   "id": "93abe986",
   "metadata": {},
   "outputs": [
    {
     "data": {
      "text/plain": [
       "array([5, 3.2, 6, 8, 10, 16.8, 9, 18, 4.5, True, 'Hello', False, 0],\n",
       "      dtype=object)"
      ]
     },
     "execution_count": 1,
     "metadata": {},
     "output_type": "execute_result"
    }
   ],
   "source": [
    "import numpy as np\n",
    "\n",
    "#For 1-D arrays\n",
    "a = np.array([5,3.2,6,8,10,16.8,9,18,4.5,True,'Hello',False,0],dtype='object')\n",
    "a"
   ]
  },
  {
   "cell_type": "code",
   "execution_count": 3,
   "id": "20875ab9",
   "metadata": {},
   "outputs": [
    {
     "data": {
      "text/plain": [
       "array([5, 3.2, 6, 8, 10, 16.8, 9, 18, 4.5, True, 'Hello', False, 0,\n",
       "       'Last'], dtype=object)"
      ]
     },
     "execution_count": 3,
     "metadata": {},
     "output_type": "execute_result"
    }
   ],
   "source": [
    "#insert before 3rd index and value is 'One'\n",
    "np.append(a,'Last')"
   ]
  },
  {
   "cell_type": "code",
   "execution_count": 5,
   "id": "cce3c311",
   "metadata": {},
   "outputs": [
    {
     "data": {
      "text/plain": [
       "array([5, 3.2, 6, 8, 10, 16.8, 9, 18, 4.5, True, 'Hello', False, 0,\n",
       "       (3+5j)], dtype=object)"
      ]
     },
     "execution_count": 5,
     "metadata": {},
     "output_type": "execute_result"
    }
   ],
   "source": [
    "#insert before index 5 and 8\n",
    "x=3+5j\n",
    "np.append(a,x)"
   ]
  },
  {
   "cell_type": "code",
   "execution_count": 6,
   "id": "963b61af",
   "metadata": {},
   "outputs": [
    {
     "data": {
      "text/plain": [
       "array([5, 3.2, 6, 8, 10, 16.8, 9, 18, 4.5, True, 'Hello', False, 0, 5, 8],\n",
       "      dtype=object)"
      ]
     },
     "execution_count": 6,
     "metadata": {},
     "output_type": "execute_result"
    }
   ],
   "source": [
    "np.append(a,[5,8])"
   ]
  },
  {
   "cell_type": "code",
   "execution_count": 7,
   "id": "48466500",
   "metadata": {},
   "outputs": [
    {
     "data": {
      "text/plain": [
       "array([[13,  2,  3, 54],\n",
       "       [15, 26, 17,  8],\n",
       "       [39, 12, 78, 10]])"
      ]
     },
     "execution_count": 7,
     "metadata": {},
     "output_type": "execute_result"
    }
   ],
   "source": [
    "# 2-D arrays\n",
    "c = np.array([[13, 2, 3, 54], [15, 26, 17, 8], [39, 12, 78, 10]])\n",
    "c"
   ]
  },
  {
   "cell_type": "code",
   "execution_count": 11,
   "id": "5dea8fd2",
   "metadata": {},
   "outputs": [
    {
     "data": {
      "text/plain": [
       "array([ 13,   2,   3,  54,  15,  26,  17,   8,  39,  12,  78,  10, 818])"
      ]
     },
     "execution_count": 11,
     "metadata": {},
     "output_type": "execute_result"
    }
   ],
   "source": [
    "# if no axis given then none will be consider and convert array into 1-D array\n",
    "np.append(c,818)"
   ]
  },
  {
   "cell_type": "code",
   "execution_count": 14,
   "id": "914e0ba3",
   "metadata": {},
   "outputs": [
    {
     "data": {
      "text/plain": [
       "array([[ 13,   2,   3,  54],\n",
       "       [ 15,  26,  17,   8],\n",
       "       [ 39,  12,  78,  10],\n",
       "       [818, 800,   2,   3]])"
      ]
     },
     "execution_count": 14,
     "metadata": {},
     "output_type": "execute_result"
    }
   ],
   "source": [
    "np.append(c,[[818,800,2,3]],axis=0)"
   ]
  },
  {
   "cell_type": "code",
   "execution_count": 17,
   "id": "fc3f8e71",
   "metadata": {},
   "outputs": [
    {
     "data": {
      "text/plain": [
       "array([[ 13,   2,   3,  54,  13],\n",
       "       [ 15,  26,  17,   8, 800],\n",
       "       [ 39,  12,  78,  10,   2]])"
      ]
     },
     "execution_count": 17,
     "metadata": {},
     "output_type": "execute_result"
    }
   ],
   "source": [
    "np.append(c,[[13],[800],[2]],axis=1)"
   ]
  },
  {
   "cell_type": "code",
   "execution_count": null,
   "id": "a36e6d53",
   "metadata": {},
   "outputs": [],
   "source": []
  }
 ],
 "metadata": {
  "kernelspec": {
   "display_name": "Python 3 (ipykernel)",
   "language": "python",
   "name": "python3"
  },
  "language_info": {
   "codemirror_mode": {
    "name": "ipython",
    "version": 3
   },
   "file_extension": ".py",
   "mimetype": "text/x-python",
   "name": "python",
   "nbconvert_exporter": "python",
   "pygments_lexer": "ipython3",
   "version": "3.11.7"
  }
 },
 "nbformat": 4,
 "nbformat_minor": 5
}
