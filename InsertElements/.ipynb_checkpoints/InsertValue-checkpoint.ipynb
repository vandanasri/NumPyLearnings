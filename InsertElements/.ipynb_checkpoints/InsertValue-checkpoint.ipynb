{
 "cells": [
  {
   "cell_type": "code",
   "execution_count": 1,
   "id": "7a52c397",
   "metadata": {},
   "outputs": [
    {
     "data": {
      "text/plain": [
       "array([5, 3.2, 6, 8, 10, 16.8, 9, 18, 4.5, True, 'Hello', False, 0],\n",
       "      dtype=object)"
      ]
     },
     "execution_count": 1,
     "metadata": {},
     "output_type": "execute_result"
    }
   ],
   "source": [
    "import numpy as np\n",
    "\n",
    "#For 1-D arrays\n",
    "a = np.array([5,3.2,6,8,10,16.8,9,18,4.5,True,'Hello',False,0],dtype='object')\n",
    "a"
   ]
  },
  {
   "cell_type": "code",
   "execution_count": 6,
   "id": "fe987177",
   "metadata": {},
   "outputs": [
    {
     "data": {
      "text/plain": [
       "array([5, 3.2, 6, 'One', 8, 10, 16.8, 9, 18, 4.5, True, 'Hello', False, 0],\n",
       "      dtype=object)"
      ]
     },
     "execution_count": 6,
     "metadata": {},
     "output_type": "execute_result"
    }
   ],
   "source": [
    "#insert before 3rd index and value is 'One'\n",
    "np.insert(a,3,'One')"
   ]
  },
  {
   "cell_type": "code",
   "execution_count": 26,
   "id": "aee717b9",
   "metadata": {},
   "outputs": [
    {
     "data": {
      "text/plain": [
       "array([5, 3.2, 6, 8, 10, (3+5j), 16.8, 9, 18, (3+5j), 4.5, True, 'Hello',\n",
       "       False, 0], dtype=object)"
      ]
     },
     "execution_count": 26,
     "metadata": {},
     "output_type": "execute_result"
    }
   ],
   "source": [
    "#insert before index 5 and 8\n",
    "x=3+5j\n",
    "np.insert(a,[5,8],x)"
   ]
  },
  {
   "cell_type": "code",
   "execution_count": 8,
   "id": "a38fa891",
   "metadata": {},
   "outputs": [
    {
     "data": {
      "text/plain": [
       "array([5, 3.2, 6, 8, 10, 'One', 16.8, 9, 18, 'Two', 4.5, True, 'Hello',\n",
       "       False, 0], dtype=object)"
      ]
     },
     "execution_count": 8,
     "metadata": {},
     "output_type": "execute_result"
    }
   ],
   "source": [
    "#insert 2 different values before index 5 and 8\n",
    "np.insert(a,[5,8],['One','Two'])"
   ]
  },
  {
   "cell_type": "code",
   "execution_count": 10,
   "id": "1a12f6b8",
   "metadata": {},
   "outputs": [
    {
     "data": {
      "text/plain": [
       "array([0, 1, 2, 3, 4, 5, 6])"
      ]
     },
     "execution_count": 10,
     "metadata": {},
     "output_type": "execute_result"
    }
   ],
   "source": [
    "b = np.array([0,1,2,3,4,5,6])\n",
    "b"
   ]
  },
  {
   "cell_type": "code",
   "execution_count": 16,
   "id": "a8143990",
   "metadata": {},
   "outputs": [
    {
     "data": {
      "text/plain": [
       "array([0, 1, 2, 7, 3, 4, 5, 6])"
      ]
     },
     "execution_count": 16,
     "metadata": {},
     "output_type": "execute_result"
    }
   ],
   "source": [
    "# insert with operation\n",
    "np.insert(b,3,2+5)"
   ]
  },
  {
   "cell_type": "code",
   "execution_count": 24,
   "id": "89dc673b",
   "metadata": {},
   "outputs": [
    {
     "data": {
      "text/plain": [
       "array([0, 1, 2, 8, 3, 4, 5, 6])"
      ]
     },
     "execution_count": 24,
     "metadata": {},
     "output_type": "execute_result"
    }
   ],
   "source": [
    "# insert with float value, but string and complex will through error\n",
    "np.insert(b,3,8.9)"
   ]
  },
  {
   "cell_type": "code",
   "execution_count": 27,
   "id": "70da951b",
   "metadata": {},
   "outputs": [
    {
     "data": {
      "text/plain": [
       "array([[13,  2,  3, 54],\n",
       "       [15, 26, 17,  8],\n",
       "       [39, 12, 78, 10]])"
      ]
     },
     "execution_count": 27,
     "metadata": {},
     "output_type": "execute_result"
    }
   ],
   "source": [
    "# 2-D arrays\n",
    "c = np.array([[13, 2, 3, 54], [15, 26, 17, 8], [39, 12, 78, 10]])\n",
    "c"
   ]
  },
  {
   "cell_type": "code",
   "execution_count": 28,
   "id": "9b601179",
   "metadata": {},
   "outputs": [
    {
     "data": {
      "text/plain": [
       "array([ 13,   2,   3, 818,  54,  15,  26,  17,   8,  39,  12,  78,  10])"
      ]
     },
     "execution_count": 28,
     "metadata": {},
     "output_type": "execute_result"
    }
   ],
   "source": [
    "# insert value axis = None, 2-D array converted into 1-D array\n",
    "np.insert(c,3,818)"
   ]
  },
  {
   "cell_type": "code",
   "execution_count": 35,
   "id": "9d094cb4",
   "metadata": {},
   "outputs": [
    {
     "data": {
      "text/plain": [
       "array([[ 13,   2,   3, 818,  54],\n",
       "       [ 15,  26,  17, 818,   8],\n",
       "       [ 39,  12,  78, 818,  10]])"
      ]
     },
     "execution_count": 35,
     "metadata": {},
     "output_type": "execute_result"
    }
   ],
   "source": [
    "# insert value axis = 1 or -1, column wise inserted, with single value braodcasting is done\n",
    "np.insert(c,3,818, axis = -1)"
   ]
  },
  {
   "cell_type": "code",
   "execution_count": 40,
   "id": "821ab3d7",
   "metadata": {},
   "outputs": [
    {
     "data": {
      "text/plain": [
       "array([[13,  2,  3, 54],\n",
       "       [15, 26, 17,  8],\n",
       "       [39, 12, 78, 10],\n",
       "       [81, 82, 83, 84],\n",
       "       [85, 86, 87, 88]])"
      ]
     },
     "execution_count": 40,
     "metadata": {},
     "output_type": "execute_result"
    }
   ],
   "source": [
    "# insert value axis = 0 or -2, row wise inserted\n",
    "np.insert(c,3,[[81,82,83,84],[85,86,87,88]], axis = -2)"
   ]
  },
  {
   "cell_type": "code",
   "execution_count": 75,
   "id": "3049ebee",
   "metadata": {},
   "outputs": [
    {
     "data": {
      "text/plain": [
       "array([[[13,  2,  3, 54],\n",
       "        [15, 26, 17,  8]],\n",
       "\n",
       "       [[39, 12, 78, 10],\n",
       "        [ 0,  1, 16, 77]]])"
      ]
     },
     "execution_count": 75,
     "metadata": {},
     "output_type": "execute_result"
    }
   ],
   "source": [
    "#Insert 3-D arrays\n",
    "d = np.array([[[13, 2, 3, 54], [15, 26, 17, 8]], [[39, 12, 78, 10],[0, 1, 16, 77]]])\n",
    "d"
   ]
  },
  {
   "cell_type": "code",
   "execution_count": 77,
   "id": "c344acf0",
   "metadata": {},
   "outputs": [
    {
     "data": {
      "text/plain": [
       "array([[[13, 67,  2,  3, 54],\n",
       "        [15, 67, 26, 17,  8]],\n",
       "\n",
       "       [[39, 67, 12, 78, 10],\n",
       "        [ 0, 67,  1, 16, 77]]])"
      ]
     },
     "execution_count": 77,
     "metadata": {},
     "output_type": "execute_result"
    }
   ],
   "source": [
    "# insert value axis = 2 or -1, row wise inserted in 3-D array\n",
    "np.insert(d,1,67,axis= 2)"
   ]
  },
  {
   "cell_type": "code",
   "execution_count": 71,
   "id": "2e5bb125",
   "metadata": {},
   "outputs": [
    {
     "data": {
      "text/plain": [
       "array([[[13,  2,  3, 54],\n",
       "        [15, 26, 17,  8]],\n",
       "\n",
       "       [[39, 12, 78, 10],\n",
       "        [ 0,  1, 16, 77]],\n",
       "\n",
       "       [[81, 82, 83, 84],\n",
       "        [81, 82, 83, 84]]])"
      ]
     },
     "execution_count": 71,
     "metadata": {},
     "output_type": "execute_result"
    }
   ],
   "source": [
    "np.insert(d,2,[81,82,83,84],axis= -3)"
   ]
  },
  {
   "cell_type": "code",
   "execution_count": 72,
   "id": "2af9b56e",
   "metadata": {},
   "outputs": [
    {
     "data": {
      "text/plain": [
       "array([[[13,  2,  3, 54],\n",
       "        [66, 66, 66, 66],\n",
       "        [15, 26, 17,  8]],\n",
       "\n",
       "       [[39, 12, 78, 10],\n",
       "        [66, 66, 66, 66],\n",
       "        [ 0,  1, 16, 77]]])"
      ]
     },
     "execution_count": 72,
     "metadata": {},
     "output_type": "execute_result"
    }
   ],
   "source": [
    "np.insert(d,1,66,axis= 1)"
   ]
  },
  {
   "cell_type": "code",
   "execution_count": 73,
   "id": "9495860f",
   "metadata": {},
   "outputs": [
    {
     "data": {
      "text/plain": [
       "array([[[13,  2,  3, 54],\n",
       "        [66, 66, 66, 66],\n",
       "        [15, 26, 17,  8]],\n",
       "\n",
       "       [[39, 12, 78, 10],\n",
       "        [66, 66, 66, 66],\n",
       "        [ 0,  1, 16, 77]]])"
      ]
     },
     "execution_count": 73,
     "metadata": {},
     "output_type": "execute_result"
    }
   ],
   "source": [
    "np.insert(d,1,66,axis= -2)"
   ]
  },
  {
   "cell_type": "code",
   "execution_count": 70,
   "id": "920e24fd",
   "metadata": {},
   "outputs": [
    {
     "data": {
      "text/plain": [
       "array([[[ 13,   2,   3,  54],\n",
       "        [ 15,  26,  17,   8]],\n",
       "\n",
       "       [[555, 555, 555, 555],\n",
       "        [555, 555, 555, 555]],\n",
       "\n",
       "       [[ 39,  12,  78,  10],\n",
       "        [  0,   1,  16,  77]]])"
      ]
     },
     "execution_count": 70,
     "metadata": {},
     "output_type": "execute_result"
    }
   ],
   "source": [
    "np.insert(d,1,555,axis= 0)"
   ]
  },
  {
   "cell_type": "code",
   "execution_count": 97,
   "id": "50d4b68a",
   "metadata": {},
   "outputs": [
    {
     "data": {
      "text/plain": [
       "array([[[[ 0,  1,  2],\n",
       "         [ 3,  4,  5]],\n",
       "\n",
       "        [[ 6,  7,  8],\n",
       "         [ 9, 10, 11]],\n",
       "\n",
       "        [[12, 13, 14],\n",
       "         [15, 16, 17]]],\n",
       "\n",
       "\n",
       "       [[[18, 19, 20],\n",
       "         [21, 22, 23]],\n",
       "\n",
       "        [[24, 25, 26],\n",
       "         [27, 28, 29]],\n",
       "\n",
       "        [[30, 31, 32],\n",
       "         [33, 34, 35]]],\n",
       "\n",
       "\n",
       "       [[[36, 37, 38],\n",
       "         [39, 40, 41]],\n",
       "\n",
       "        [[42, 43, 44],\n",
       "         [45, 46, 47]],\n",
       "\n",
       "        [[48, 49, 50],\n",
       "         [51, 52, 53]]],\n",
       "\n",
       "\n",
       "       [[[54, 55, 56],\n",
       "         [57, 58, 59]],\n",
       "\n",
       "        [[60, 61, 62],\n",
       "         [63, 64, 65]],\n",
       "\n",
       "        [[66, 67, 68],\n",
       "         [69, 70, 71]]]])"
      ]
     },
     "execution_count": 97,
     "metadata": {},
     "output_type": "execute_result"
    }
   ],
   "source": [
    "# insert 4-D arrays\n",
    "e = np.arange(72).reshape(4,3,2,3)\n",
    "e"
   ]
  },
  {
   "cell_type": "code",
   "execution_count": 81,
   "id": "a28a3202",
   "metadata": {},
   "outputs": [
    {
     "data": {
      "text/plain": [
       "array([[[[  0,   1,   2],\n",
       "         [  3,   4,   5]],\n",
       "\n",
       "        [[  6,   7,   8],\n",
       "         [  9,  10,  11]],\n",
       "\n",
       "        [[ 12,  13,  14],\n",
       "         [ 15,  16,  17]]],\n",
       "\n",
       "\n",
       "       [[[555, 555, 555],\n",
       "         [555, 555, 555]],\n",
       "\n",
       "        [[555, 555, 555],\n",
       "         [555, 555, 555]],\n",
       "\n",
       "        [[555, 555, 555],\n",
       "         [555, 555, 555]]],\n",
       "\n",
       "\n",
       "       [[[ 18,  19,  20],\n",
       "         [ 21,  22,  23]],\n",
       "\n",
       "        [[ 24,  25,  26],\n",
       "         [ 27,  28,  29]],\n",
       "\n",
       "        [[ 30,  31,  32],\n",
       "         [ 33,  34,  35]]],\n",
       "\n",
       "\n",
       "       [[[ 36,  37,  38],\n",
       "         [ 39,  40,  41]],\n",
       "\n",
       "        [[ 42,  43,  44],\n",
       "         [ 45,  46,  47]],\n",
       "\n",
       "        [[ 48,  49,  50],\n",
       "         [ 51,  52,  53]]],\n",
       "\n",
       "\n",
       "       [[[ 54,  55,  56],\n",
       "         [ 57,  58,  59]],\n",
       "\n",
       "        [[ 60,  61,  62],\n",
       "         [ 63,  64,  65]],\n",
       "\n",
       "        [[ 66,  67,  68],\n",
       "         [ 69,  70,  71]]]])"
      ]
     },
     "execution_count": 81,
     "metadata": {},
     "output_type": "execute_result"
    }
   ],
   "source": [
    "np.insert(e,1,555,axis= 0)"
   ]
  },
  {
   "cell_type": "code",
   "execution_count": 82,
   "id": "beb83721",
   "metadata": {},
   "outputs": [
    {
     "data": {
      "text/plain": [
       "array([[[[  0,   1,   2],\n",
       "         [555, 555, 555],\n",
       "         [  3,   4,   5]],\n",
       "\n",
       "        [[  6,   7,   8],\n",
       "         [555, 555, 555],\n",
       "         [  9,  10,  11]],\n",
       "\n",
       "        [[ 12,  13,  14],\n",
       "         [555, 555, 555],\n",
       "         [ 15,  16,  17]]],\n",
       "\n",
       "\n",
       "       [[[ 18,  19,  20],\n",
       "         [555, 555, 555],\n",
       "         [ 21,  22,  23]],\n",
       "\n",
       "        [[ 24,  25,  26],\n",
       "         [555, 555, 555],\n",
       "         [ 27,  28,  29]],\n",
       "\n",
       "        [[ 30,  31,  32],\n",
       "         [555, 555, 555],\n",
       "         [ 33,  34,  35]]],\n",
       "\n",
       "\n",
       "       [[[ 36,  37,  38],\n",
       "         [555, 555, 555],\n",
       "         [ 39,  40,  41]],\n",
       "\n",
       "        [[ 42,  43,  44],\n",
       "         [555, 555, 555],\n",
       "         [ 45,  46,  47]],\n",
       "\n",
       "        [[ 48,  49,  50],\n",
       "         [555, 555, 555],\n",
       "         [ 51,  52,  53]]],\n",
       "\n",
       "\n",
       "       [[[ 54,  55,  56],\n",
       "         [555, 555, 555],\n",
       "         [ 57,  58,  59]],\n",
       "\n",
       "        [[ 60,  61,  62],\n",
       "         [555, 555, 555],\n",
       "         [ 63,  64,  65]],\n",
       "\n",
       "        [[ 66,  67,  68],\n",
       "         [555, 555, 555],\n",
       "         [ 69,  70,  71]]]])"
      ]
     },
     "execution_count": 82,
     "metadata": {},
     "output_type": "execute_result"
    }
   ],
   "source": [
    "np.insert(e,1,555,axis= -2)"
   ]
  },
  {
   "cell_type": "code",
   "execution_count": 83,
   "id": "64d96cb3",
   "metadata": {},
   "outputs": [
    {
     "data": {
      "text/plain": [
       "array([[[[  0,   1,   2],\n",
       "         [555, 555, 555],\n",
       "         [  3,   4,   5]],\n",
       "\n",
       "        [[  6,   7,   8],\n",
       "         [555, 555, 555],\n",
       "         [  9,  10,  11]],\n",
       "\n",
       "        [[ 12,  13,  14],\n",
       "         [555, 555, 555],\n",
       "         [ 15,  16,  17]]],\n",
       "\n",
       "\n",
       "       [[[ 18,  19,  20],\n",
       "         [555, 555, 555],\n",
       "         [ 21,  22,  23]],\n",
       "\n",
       "        [[ 24,  25,  26],\n",
       "         [555, 555, 555],\n",
       "         [ 27,  28,  29]],\n",
       "\n",
       "        [[ 30,  31,  32],\n",
       "         [555, 555, 555],\n",
       "         [ 33,  34,  35]]],\n",
       "\n",
       "\n",
       "       [[[ 36,  37,  38],\n",
       "         [555, 555, 555],\n",
       "         [ 39,  40,  41]],\n",
       "\n",
       "        [[ 42,  43,  44],\n",
       "         [555, 555, 555],\n",
       "         [ 45,  46,  47]],\n",
       "\n",
       "        [[ 48,  49,  50],\n",
       "         [555, 555, 555],\n",
       "         [ 51,  52,  53]]],\n",
       "\n",
       "\n",
       "       [[[ 54,  55,  56],\n",
       "         [555, 555, 555],\n",
       "         [ 57,  58,  59]],\n",
       "\n",
       "        [[ 60,  61,  62],\n",
       "         [555, 555, 555],\n",
       "         [ 63,  64,  65]],\n",
       "\n",
       "        [[ 66,  67,  68],\n",
       "         [555, 555, 555],\n",
       "         [ 69,  70,  71]]]])"
      ]
     },
     "execution_count": 83,
     "metadata": {},
     "output_type": "execute_result"
    }
   ],
   "source": [
    "np.insert(e,1,555,axis= 2)"
   ]
  },
  {
   "cell_type": "code",
   "execution_count": 86,
   "id": "b0ca44a0",
   "metadata": {},
   "outputs": [
    {
     "data": {
      "text/plain": [
       "array([[[[  0,   1,   2],\n",
       "         [  3,   4,   5]],\n",
       "\n",
       "        [[555, 555, 555],\n",
       "         [555, 555, 555]],\n",
       "\n",
       "        [[  6,   7,   8],\n",
       "         [  9,  10,  11]],\n",
       "\n",
       "        [[ 12,  13,  14],\n",
       "         [ 15,  16,  17]]],\n",
       "\n",
       "\n",
       "       [[[ 18,  19,  20],\n",
       "         [ 21,  22,  23]],\n",
       "\n",
       "        [[555, 555, 555],\n",
       "         [555, 555, 555]],\n",
       "\n",
       "        [[ 24,  25,  26],\n",
       "         [ 27,  28,  29]],\n",
       "\n",
       "        [[ 30,  31,  32],\n",
       "         [ 33,  34,  35]]],\n",
       "\n",
       "\n",
       "       [[[ 36,  37,  38],\n",
       "         [ 39,  40,  41]],\n",
       "\n",
       "        [[555, 555, 555],\n",
       "         [555, 555, 555]],\n",
       "\n",
       "        [[ 42,  43,  44],\n",
       "         [ 45,  46,  47]],\n",
       "\n",
       "        [[ 48,  49,  50],\n",
       "         [ 51,  52,  53]]],\n",
       "\n",
       "\n",
       "       [[[ 54,  55,  56],\n",
       "         [ 57,  58,  59]],\n",
       "\n",
       "        [[555, 555, 555],\n",
       "         [555, 555, 555]],\n",
       "\n",
       "        [[ 60,  61,  62],\n",
       "         [ 63,  64,  65]],\n",
       "\n",
       "        [[ 66,  67,  68],\n",
       "         [ 69,  70,  71]]]])"
      ]
     },
     "execution_count": 86,
     "metadata": {},
     "output_type": "execute_result"
    }
   ],
   "source": [
    "np.insert(e,1,555,axis= -3)"
   ]
  },
  {
   "cell_type": "code",
   "execution_count": 87,
   "id": "9a6a72c4",
   "metadata": {},
   "outputs": [
    {
     "data": {
      "text/plain": [
       "array([[[[  0, 555,   1,   2],\n",
       "         [  3, 555,   4,   5]],\n",
       "\n",
       "        [[  6, 555,   7,   8],\n",
       "         [  9, 555,  10,  11]],\n",
       "\n",
       "        [[ 12, 555,  13,  14],\n",
       "         [ 15, 555,  16,  17]]],\n",
       "\n",
       "\n",
       "       [[[ 18, 555,  19,  20],\n",
       "         [ 21, 555,  22,  23]],\n",
       "\n",
       "        [[ 24, 555,  25,  26],\n",
       "         [ 27, 555,  28,  29]],\n",
       "\n",
       "        [[ 30, 555,  31,  32],\n",
       "         [ 33, 555,  34,  35]]],\n",
       "\n",
       "\n",
       "       [[[ 36, 555,  37,  38],\n",
       "         [ 39, 555,  40,  41]],\n",
       "\n",
       "        [[ 42, 555,  43,  44],\n",
       "         [ 45, 555,  46,  47]],\n",
       "\n",
       "        [[ 48, 555,  49,  50],\n",
       "         [ 51, 555,  52,  53]]],\n",
       "\n",
       "\n",
       "       [[[ 54, 555,  55,  56],\n",
       "         [ 57, 555,  58,  59]],\n",
       "\n",
       "        [[ 60, 555,  61,  62],\n",
       "         [ 63, 555,  64,  65]],\n",
       "\n",
       "        [[ 66, 555,  67,  68],\n",
       "         [ 69, 555,  70,  71]]]])"
      ]
     },
     "execution_count": 87,
     "metadata": {},
     "output_type": "execute_result"
    }
   ],
   "source": [
    "np.insert(e,1,555,axis= 3)"
   ]
  },
  {
   "cell_type": "code",
   "execution_count": 85,
   "id": "19879308",
   "metadata": {},
   "outputs": [
    {
     "data": {
      "text/plain": [
       "array([[[[  0,   1,   2],\n",
       "         [  3,   4,   5]],\n",
       "\n",
       "        [[  6,   7,   8],\n",
       "         [  9,  10,  11]],\n",
       "\n",
       "        [[ 12,  13,  14],\n",
       "         [ 15,  16,  17]]],\n",
       "\n",
       "\n",
       "       [[[555, 555, 555],\n",
       "         [555, 555, 555]],\n",
       "\n",
       "        [[555, 555, 555],\n",
       "         [555, 555, 555]],\n",
       "\n",
       "        [[555, 555, 555],\n",
       "         [555, 555, 555]]],\n",
       "\n",
       "\n",
       "       [[[ 18,  19,  20],\n",
       "         [ 21,  22,  23]],\n",
       "\n",
       "        [[ 24,  25,  26],\n",
       "         [ 27,  28,  29]],\n",
       "\n",
       "        [[ 30,  31,  32],\n",
       "         [ 33,  34,  35]]],\n",
       "\n",
       "\n",
       "       [[[ 36,  37,  38],\n",
       "         [ 39,  40,  41]],\n",
       "\n",
       "        [[ 42,  43,  44],\n",
       "         [ 45,  46,  47]],\n",
       "\n",
       "        [[ 48,  49,  50],\n",
       "         [ 51,  52,  53]]],\n",
       "\n",
       "\n",
       "       [[[ 54,  55,  56],\n",
       "         [ 57,  58,  59]],\n",
       "\n",
       "        [[ 60,  61,  62],\n",
       "         [ 63,  64,  65]],\n",
       "\n",
       "        [[ 66,  67,  68],\n",
       "         [ 69,  70,  71]]]])"
      ]
     },
     "execution_count": 85,
     "metadata": {},
     "output_type": "execute_result"
    }
   ],
   "source": [
    "np.insert(e,1,555,axis= -4)"
   ]
  },
  {
   "cell_type": "code",
   "execution_count": 96,
   "id": "6b36cf06",
   "metadata": {},
   "outputs": [
    {
     "data": {
      "text/plain": [
       "array([[[[  0, 555,   1,   2],\n",
       "         [  3, 555,   4,   5]],\n",
       "\n",
       "        [[  6, 555,   7,   8],\n",
       "         [  9, 555,  10,  11]],\n",
       "\n",
       "        [[ 12, 555,  13,  14],\n",
       "         [ 15, 555,  16,  17]]],\n",
       "\n",
       "\n",
       "       [[[ 18, 555,  19,  20],\n",
       "         [ 21, 555,  22,  23]],\n",
       "\n",
       "        [[ 24, 555,  25,  26],\n",
       "         [ 27, 555,  28,  29]],\n",
       "\n",
       "        [[ 30, 555,  31,  32],\n",
       "         [ 33, 555,  34,  35]]],\n",
       "\n",
       "\n",
       "       [[[ 36, 555,  37,  38],\n",
       "         [ 39, 555,  40,  41]],\n",
       "\n",
       "        [[ 42, 555,  43,  44],\n",
       "         [ 45, 555,  46,  47]],\n",
       "\n",
       "        [[ 48, 555,  49,  50],\n",
       "         [ 51, 555,  52,  53]]],\n",
       "\n",
       "\n",
       "       [[[ 54, 555,  55,  56],\n",
       "         [ 57, 555,  58,  59]],\n",
       "\n",
       "        [[ 60, 555,  61,  62],\n",
       "         [ 63, 555,  64,  65]],\n",
       "\n",
       "        [[ 66, 555,  67,  68],\n",
       "         [ 69, 555,  70,  71]]]])"
      ]
     },
     "execution_count": 96,
     "metadata": {},
     "output_type": "execute_result"
    }
   ],
   "source": [
    "np.insert(e,1,555,axis= -1)"
   ]
  },
  {
   "cell_type": "code",
   "execution_count": 93,
   "id": "6015f980",
   "metadata": {},
   "outputs": [
    {
     "data": {
      "text/plain": [
       "array([[[[  0,   1,   2],\n",
       "         [  3,   4,   5]],\n",
       "\n",
       "        [[555, 555, 555],\n",
       "         [555, 555, 555]],\n",
       "\n",
       "        [[  6,   7,   8],\n",
       "         [  9,  10,  11]],\n",
       "\n",
       "        [[ 12,  13,  14],\n",
       "         [ 15,  16,  17]]],\n",
       "\n",
       "\n",
       "       [[[ 18,  19,  20],\n",
       "         [ 21,  22,  23]],\n",
       "\n",
       "        [[555, 555, 555],\n",
       "         [555, 555, 555]],\n",
       "\n",
       "        [[ 24,  25,  26],\n",
       "         [ 27,  28,  29]],\n",
       "\n",
       "        [[ 30,  31,  32],\n",
       "         [ 33,  34,  35]]],\n",
       "\n",
       "\n",
       "       [[[ 36,  37,  38],\n",
       "         [ 39,  40,  41]],\n",
       "\n",
       "        [[555, 555, 555],\n",
       "         [555, 555, 555]],\n",
       "\n",
       "        [[ 42,  43,  44],\n",
       "         [ 45,  46,  47]],\n",
       "\n",
       "        [[ 48,  49,  50],\n",
       "         [ 51,  52,  53]]],\n",
       "\n",
       "\n",
       "       [[[ 54,  55,  56],\n",
       "         [ 57,  58,  59]],\n",
       "\n",
       "        [[555, 555, 555],\n",
       "         [555, 555, 555]],\n",
       "\n",
       "        [[ 60,  61,  62],\n",
       "         [ 63,  64,  65]],\n",
       "\n",
       "        [[ 66,  67,  68],\n",
       "         [ 69,  70,  71]]]])"
      ]
     },
     "execution_count": 93,
     "metadata": {},
     "output_type": "execute_result"
    }
   ],
   "source": [
    "np.insert(e,1,555,axis= 1)"
   ]
  },
  {
   "cell_type": "code",
   "execution_count": null,
   "id": "13177cb9",
   "metadata": {},
   "outputs": [],
   "source": []
  }
 ],
 "metadata": {
  "kernelspec": {
   "display_name": "Python 3 (ipykernel)",
   "language": "python",
   "name": "python3"
  },
  "language_info": {
   "codemirror_mode": {
    "name": "ipython",
    "version": 3
   },
   "file_extension": ".py",
   "mimetype": "text/x-python",
   "name": "python",
   "nbconvert_exporter": "python",
   "pygments_lexer": "ipython3",
   "version": "3.11.7"
  }
 },
 "nbformat": 4,
 "nbformat_minor": 5
}
