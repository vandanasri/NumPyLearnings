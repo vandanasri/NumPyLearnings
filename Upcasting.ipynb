{
 "cells": [
  {
   "cell_type": "code",
   "execution_count": 1,
   "id": "95a31252",
   "metadata": {},
   "outputs": [
    {
     "data": {
      "text/plain": [
       "array([10.4, 30. , 60. ])"
      ]
     },
     "execution_count": 1,
     "metadata": {},
     "output_type": "execute_result"
    }
   ],
   "source": [
    "import numpy as np\n",
    "\n",
    "#upcasting of an array with float\n",
    "c = [10.4,30,60]\n",
    "np.array(c)"
   ]
  },
  {
   "cell_type": "code",
   "execution_count": 2,
   "id": "08634eb8",
   "metadata": {},
   "outputs": [
    {
     "data": {
      "text/plain": [
       "array(['10', 'Hello', '30.6'], dtype='<U32')"
      ]
     },
     "execution_count": 2,
     "metadata": {},
     "output_type": "execute_result"
    }
   ],
   "source": [
    "#upcasting of an array with string\n",
    "d=[10,'Hello',30.6]\n",
    "np.array(d)"
   ]
  },
  {
   "cell_type": "code",
   "execution_count": 5,
   "id": "01a23b01",
   "metadata": {},
   "outputs": [
    {
     "data": {
      "text/plain": [
       "array([10, 30, 60, 70])"
      ]
     },
     "execution_count": 5,
     "metadata": {},
     "output_type": "execute_result"
    }
   ],
   "source": [
    "#define dtype as int while creating an array\n",
    "l = [10.4,30,60,70.6]\n",
    "a = np.array(l,dtype=int)\n",
    "a"
   ]
  },
  {
   "cell_type": "code",
   "execution_count": 6,
   "id": "e57c08b3",
   "metadata": {},
   "outputs": [
    {
     "data": {
      "text/plain": [
       "array([10.4, 30. , 60. , 70.6])"
      ]
     },
     "execution_count": 6,
     "metadata": {},
     "output_type": "execute_result"
    }
   ],
   "source": [
    "#define dtype as float while creating an array\n",
    "l = [10.4,30,60,70.6]\n",
    "f = np.array(l,dtype=float)\n",
    "f"
   ]
  },
  {
   "cell_type": "code",
   "execution_count": 8,
   "id": "e236b36b",
   "metadata": {},
   "outputs": [
    {
     "data": {
      "text/plain": [
       "array([ True, False,  True,  True,  True, False])"
      ]
     },
     "execution_count": 8,
     "metadata": {},
     "output_type": "execute_result"
    }
   ],
   "source": [
    "#define dtype as bool while creating an array\n",
    "l = [10.4,0,30,60,70.6,0]\n",
    "b = np.array(l,dtype=bool)\n",
    "b"
   ]
  },
  {
   "cell_type": "code",
   "execution_count": 10,
   "id": "b17e0f5d",
   "metadata": {},
   "outputs": [
    {
     "data": {
      "text/plain": [
       "array([10.4+0.j,  0. +0.j, 30. +0.j, 60. +0.j, 70.6+0.j,  0. +0.j])"
      ]
     },
     "execution_count": 10,
     "metadata": {},
     "output_type": "execute_result"
    }
   ],
   "source": [
    "#define dtype as complex while creating an array\n",
    "l = [10.4,0,30,60,70.6,0]\n",
    "c = np.array(l,dtype=complex)\n",
    "c"
   ]
  },
  {
   "cell_type": "code",
   "execution_count": 11,
   "id": "cf113a07",
   "metadata": {},
   "outputs": [
    {
     "data": {
      "text/plain": [
       "array(['10.4', '0', '30', '60', '70.6', '0'], dtype='<U4')"
      ]
     },
     "execution_count": 11,
     "metadata": {},
     "output_type": "execute_result"
    }
   ],
   "source": [
    "#define dtype as string while creating an array\n",
    "l = [10.4,0,30,60,70.6,0]\n",
    "c = np.array(l,dtype=str)\n",
    "c"
   ]
  },
  {
   "cell_type": "code",
   "execution_count": 14,
   "id": "c035c92b",
   "metadata": {},
   "outputs": [
    {
     "data": {
      "text/plain": [
       "array([1, 0, 1, 1, 1, 0])"
      ]
     },
     "execution_count": 14,
     "metadata": {},
     "output_type": "execute_result"
    }
   ],
   "source": [
    "#define dtype as int while creating an array\n",
    "l = [ True, False,  True,  True,  True, False]\n",
    "c = np.array(l,dtype=int)\n",
    "c"
   ]
  },
  {
   "cell_type": "code",
   "execution_count": 15,
   "id": "acbdb61c",
   "metadata": {},
   "outputs": [
    {
     "data": {
      "text/plain": [
       "array(['True', 'False', 'True', 'True', 'True', 'False'], dtype='<U5')"
      ]
     },
     "execution_count": 15,
     "metadata": {},
     "output_type": "execute_result"
    }
   ],
   "source": [
    "#define dtype as int while creating an array\n",
    "l = [ True, False,  True,  True,  True, False]\n",
    "c = np.array(l,dtype=str)\n",
    "c"
   ]
  },
  {
   "cell_type": "code",
   "execution_count": 19,
   "id": "51842e26",
   "metadata": {},
   "outputs": [
    {
     "data": {
      "text/plain": [
       "array(['(10.4+0j)', '0j', '(30+0j)', '(60+0j)', '(70.6+0j)', '0j'],\n",
       "      dtype='<U9')"
      ]
     },
     "execution_count": 19,
     "metadata": {},
     "output_type": "execute_result"
    }
   ],
   "source": [
    "#define dtype as int while creating an array\n",
    "l = [10.4+0.j,  0. +0.j, 30. +0.j, 60. +0.j, 70.6+0.j,  0. +0.j]\n",
    "c = np.array(l,dtype=str)\n",
    "c"
   ]
  },
  {
   "cell_type": "code",
   "execution_count": 20,
   "id": "5b238c47",
   "metadata": {},
   "outputs": [
    {
     "data": {
      "text/plain": [
       "array([10, 'Hello', 30.6, (10.4+0j), False], dtype=object)"
      ]
     },
     "execution_count": 20,
     "metadata": {},
     "output_type": "execute_result"
    }
   ],
   "source": [
    "#define dtype as object while creating an array\n",
    "l = [10,'Hello',30.6,10.4+0.j,False]\n",
    "a = np.array(l,dtype=object)\n",
    "a"
   ]
  },
  {
   "cell_type": "code",
   "execution_count": null,
   "id": "367e642b",
   "metadata": {},
   "outputs": [],
   "source": []
  }
 ],
 "metadata": {
  "kernelspec": {
   "display_name": "Python 3 (ipykernel)",
   "language": "python",
   "name": "python3"
  },
  "language_info": {
   "codemirror_mode": {
    "name": "ipython",
    "version": 3
   },
   "file_extension": ".py",
   "mimetype": "text/x-python",
   "name": "python",
   "nbconvert_exporter": "python",
   "pygments_lexer": "ipython3",
   "version": "3.11.7"
  }
 },
 "nbformat": 4,
 "nbformat_minor": 5
}
