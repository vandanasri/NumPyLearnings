{
 "cells": [
  {
   "cell_type": "code",
   "execution_count": 1,
   "id": "272920fc-3e2a-4e95-850b-efaa90b4a9d9",
   "metadata": {},
   "outputs": [
    {
     "data": {
      "text/plain": [
       "array([10, 20, 30, 40, 50])"
      ]
     },
     "execution_count": 1,
     "metadata": {},
     "output_type": "execute_result"
    }
   ],
   "source": [
    "import numpy as np\n",
    "\n",
    "#for 1-D array\n",
    "a = np.array([10,20,30,40,50])\n",
    "a"
   ]
  },
  {
   "cell_type": "code",
   "execution_count": 3,
   "id": "90e3cc62-5211-4263-a7e4-fd0e86c4ac77",
   "metadata": {},
   "outputs": [
    {
     "data": {
      "text/plain": [
       "200.0"
      ]
     },
     "execution_count": 3,
     "metadata": {},
     "output_type": "execute_result"
    }
   ],
   "source": [
    "np.var(a)"
   ]
  },
  {
   "cell_type": "code",
   "execution_count": 5,
   "id": "b3f0cecc-e498-4086-97c4-7b1a25135c2d",
   "metadata": {},
   "outputs": [
    {
     "data": {
      "text/plain": [
       "200.0"
      ]
     },
     "execution_count": 5,
     "metadata": {},
     "output_type": "execute_result"
    }
   ],
   "source": [
    "a.var()"
   ]
  },
  {
   "cell_type": "code",
   "execution_count": 7,
   "id": "d819a8be-5f3b-466f-aa07-668a20aea801",
   "metadata": {},
   "outputs": [
    {
     "data": {
      "text/plain": [
       "200"
      ]
     },
     "execution_count": 7,
     "metadata": {},
     "output_type": "execute_result"
    }
   ],
   "source": [
    "# variance with dtype\n",
    "np.var(a, dtype= int)"
   ]
  },
  {
   "cell_type": "code",
   "execution_count": 9,
   "id": "b8efa09a-cecb-40fe-87c4-f6aeaa5cc939",
   "metadata": {},
   "outputs": [
    {
     "data": {
      "text/plain": [
       "array([[100,   1, 600],\n",
       "       [400, 500, 300],\n",
       "       [700, 200, 900],\n",
       "       [800,   9,  20]])"
      ]
     },
     "execution_count": 9,
     "metadata": {},
     "output_type": "execute_result"
    }
   ],
   "source": [
    "#for 2-D array\n",
    "b = np.array([[100,1,600],[400,500,300],[700,200,900],[800,9,20]])\n",
    "b"
   ]
  },
  {
   "cell_type": "code",
   "execution_count": 11,
   "id": "5e8e8bb8-3733-4991-9acc-2819a18f3be2",
   "metadata": {},
   "outputs": [
    {
     "data": {
      "text/plain": [
       "95033.91666666667"
      ]
     },
     "execution_count": 11,
     "metadata": {},
     "output_type": "execute_result"
    }
   ],
   "source": [
    "# without axis\n",
    "np.var(b)"
   ]
  },
  {
   "cell_type": "code",
   "execution_count": 13,
   "id": "27befcd7-5c8f-4e9a-83c2-3f09bb86eec2",
   "metadata": {},
   "outputs": [
    {
     "data": {
      "text/plain": [
       "95034"
      ]
     },
     "execution_count": 13,
     "metadata": {},
     "output_type": "execute_result"
    }
   ],
   "source": [
    "# without axis with datatype\n",
    "np.var(b, dtype = int)"
   ]
  },
  {
   "cell_type": "code",
   "execution_count": 15,
   "id": "bfa8057f-a0f1-4c5b-8dd4-73f3ee078d2a",
   "metadata": {},
   "outputs": [
    {
     "data": {
      "text/plain": [
       "array([ 75000.  ,  41014.25, 108075.  ])"
      ]
     },
     "execution_count": 15,
     "metadata": {},
     "output_type": "execute_result"
    }
   ],
   "source": [
    "# with axis = 0 (row vise)\n",
    "np.var(b, axis=0)"
   ]
  },
  {
   "cell_type": "code",
   "execution_count": 17,
   "id": "be7d8b85-ff89-4157-8ad6-05b5b8a63a34",
   "metadata": {},
   "outputs": [
    {
     "data": {
      "text/plain": [
       "array([ 68734,   6666,  86666, 137133])"
      ]
     },
     "execution_count": 17,
     "metadata": {},
     "output_type": "execute_result"
    }
   ],
   "source": [
    "# with axis = 1 (column vise) and dtype\n",
    "np.var(b, axis=1, dtype=int)"
   ]
  },
  {
   "cell_type": "code",
   "execution_count": null,
   "id": "0d37042d-359a-4655-b8e1-b39d9e93fd0d",
   "metadata": {},
   "outputs": [],
   "source": []
  }
 ],
 "metadata": {
  "kernelspec": {
   "display_name": "Python 3 (ipykernel)",
   "language": "python",
   "name": "python3"
  },
  "language_info": {
   "codemirror_mode": {
    "name": "ipython",
    "version": 3
   },
   "file_extension": ".py",
   "mimetype": "text/x-python",
   "name": "python",
   "nbconvert_exporter": "python",
   "pygments_lexer": "ipython3",
   "version": "3.11.7"
  }
 },
 "nbformat": 4,
 "nbformat_minor": 5
}
