{
 "cells": [
  {
   "cell_type": "code",
   "execution_count": 1,
   "id": "9a31a24c-b76e-4c47-b0e8-d60830be64e6",
   "metadata": {},
   "outputs": [
    {
     "data": {
      "text/plain": [
       "array([10, 20, 30, 40, 50])"
      ]
     },
     "execution_count": 1,
     "metadata": {},
     "output_type": "execute_result"
    }
   ],
   "source": [
    "import numpy as np\n",
    "\n",
    "#for 1-D array\n",
    "a = np.array([10,20,30,40,50])\n",
    "a"
   ]
  },
  {
   "cell_type": "code",
   "execution_count": 11,
   "id": "14fc91ad-ef70-423e-836c-2442cab664e0",
   "metadata": {},
   "outputs": [
    {
     "data": {
      "text/plain": [
       "14.142135623730951"
      ]
     },
     "execution_count": 11,
     "metadata": {},
     "output_type": "execute_result"
    }
   ],
   "source": [
    "np.std(a)"
   ]
  },
  {
   "cell_type": "code",
   "execution_count": 13,
   "id": "db83e226-8f9a-4e35-9b8c-86a2f5e1c166",
   "metadata": {},
   "outputs": [
    {
     "data": {
      "text/plain": [
       "14.142135623730951"
      ]
     },
     "execution_count": 13,
     "metadata": {},
     "output_type": "execute_result"
    }
   ],
   "source": [
    "a.std()"
   ]
  },
  {
   "cell_type": "code",
   "execution_count": 15,
   "id": "736cc4fd-35e3-42bd-9c9e-78b45350333f",
   "metadata": {},
   "outputs": [
    {
     "data": {
      "text/plain": [
       "14"
      ]
     },
     "execution_count": 15,
     "metadata": {},
     "output_type": "execute_result"
    }
   ],
   "source": [
    "# with datatype\n",
    "np.std(a, dtype = int)"
   ]
  },
  {
   "cell_type": "code",
   "execution_count": 17,
   "id": "a25414d3-0486-4c90-a641-f230f3a41a29",
   "metadata": {},
   "outputs": [
    {
     "data": {
      "text/plain": [
       "array([[100,   1, 600],\n",
       "       [400, 500, 300],\n",
       "       [700, 200, 900],\n",
       "       [800,   9,  20]])"
      ]
     },
     "execution_count": 17,
     "metadata": {},
     "output_type": "execute_result"
    }
   ],
   "source": [
    "#for 2-D array\n",
    "b = np.array([[100,1,600],[400,500,300],[700,200,900],[800,9,20]])\n",
    "b"
   ]
  },
  {
   "cell_type": "code",
   "execution_count": 19,
   "id": "2accae1c-df94-40d8-a7a3-0b0a5fec47c5",
   "metadata": {},
   "outputs": [
    {
     "data": {
      "text/plain": [
       "308.275715337207"
      ]
     },
     "execution_count": 19,
     "metadata": {},
     "output_type": "execute_result"
    }
   ],
   "source": [
    "# without axis\n",
    "np.std(b)"
   ]
  },
  {
   "cell_type": "code",
   "execution_count": 21,
   "id": "e78c977a-ade9-4eff-b81b-93a8f5eb9242",
   "metadata": {},
   "outputs": [
    {
     "data": {
      "text/plain": [
       "308"
      ]
     },
     "execution_count": 21,
     "metadata": {},
     "output_type": "execute_result"
    }
   ],
   "source": [
    "# without axis with datatype\n",
    "np.std(b, dtype = int)"
   ]
  },
  {
   "cell_type": "code",
   "execution_count": 35,
   "id": "3847476b-99db-41b1-90be-f98510d7b835",
   "metadata": {},
   "outputs": [
    {
     "data": {
      "text/plain": [
       "array([273.86127875, 202.51975212, 328.74762357])"
      ]
     },
     "execution_count": 35,
     "metadata": {},
     "output_type": "execute_result"
    }
   ],
   "source": [
    "# with axis = 0 (row vise)\n",
    "np.std(b, axis=0)"
   ]
  },
  {
   "cell_type": "code",
   "execution_count": 47,
   "id": "47d3fa70-975e-4605-a65f-7ee7d9b143cc",
   "metadata": {},
   "outputs": [
    {
     "data": {
      "text/plain": [
       "array([262.17085184,  81.64965809, 294.39202888, 370.31548112])"
      ]
     },
     "execution_count": 47,
     "metadata": {},
     "output_type": "execute_result"
    }
   ],
   "source": [
    "# with axis = 1 (column vise) and dtype\n",
    "np.std(b, axis=1)"
   ]
  },
  {
   "cell_type": "code",
   "execution_count": null,
   "id": "3229632c-cfdd-4f44-8d33-6610ca7a16fd",
   "metadata": {},
   "outputs": [],
   "source": []
  }
 ],
 "metadata": {
  "kernelspec": {
   "display_name": "Python 3 (ipykernel)",
   "language": "python",
   "name": "python3"
  },
  "language_info": {
   "codemirror_mode": {
    "name": "ipython",
    "version": 3
   },
   "file_extension": ".py",
   "mimetype": "text/x-python",
   "name": "python",
   "nbconvert_exporter": "python",
   "pygments_lexer": "ipython3",
   "version": "3.11.7"
  }
 },
 "nbformat": 4,
 "nbformat_minor": 5
}
