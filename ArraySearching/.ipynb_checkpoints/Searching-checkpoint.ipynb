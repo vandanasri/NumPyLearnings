{
 "cells": [
  {
   "cell_type": "code",
   "execution_count": 3,
   "id": "43392111",
   "metadata": {},
   "outputs": [
    {
     "data": {
      "text/plain": [
       "array([5, 3.2, 6, 8, 10, 16.8, 9, 18, 4.5, True, 'Hello', False, 0],\n",
       "      dtype=object)"
      ]
     },
     "execution_count": 3,
     "metadata": {},
     "output_type": "execute_result"
    }
   ],
   "source": [
    "import numpy as np\n",
    "\n",
    "#Searching for 1-D arrays\n",
    "a = np.array([5,3.2,6,8,10,16.8,9,18,4.5,True,'Hello',False,0],dtype='object')\n",
    "a"
   ]
  },
  {
   "cell_type": "code",
   "execution_count": 5,
   "id": "a8ff60a7",
   "metadata": {},
   "outputs": [
    {
     "data": {
      "text/plain": [
       "(array([10]),)"
      ]
     },
     "execution_count": 5,
     "metadata": {},
     "output_type": "execute_result"
    }
   ],
   "source": [
    "# searching the index of 'Hello'\n",
    "np.where(a=='Hello')"
   ]
  },
  {
   "cell_type": "code",
   "execution_count": 14,
   "id": "f491ff33",
   "metadata": {},
   "outputs": [
    {
     "data": {
      "text/plain": [
       "array([5, 3.2, 6, 8, 10, 16.8, 9, 18, 4.5, True, False, 0], dtype=object)"
      ]
     },
     "execution_count": 14,
     "metadata": {},
     "output_type": "execute_result"
    }
   ],
   "source": [
    "b = np.array([5,3.2,6,8,10,16.8,9,18,4.5,True,False,0],dtype='object')\n",
    "b"
   ]
  },
  {
   "cell_type": "code",
   "execution_count": 15,
   "id": "3da95960",
   "metadata": {},
   "outputs": [
    {
     "data": {
      "text/plain": [
       "(array([0, 1, 5, 6, 8, 9]),)"
      ]
     },
     "execution_count": 15,
     "metadata": {},
     "output_type": "execute_result"
    }
   ],
   "source": [
    "# find indicies which are not divisible by 2\n",
    "np.where(b%2 != 0)"
   ]
  },
  {
   "cell_type": "code",
   "execution_count": 16,
   "id": "b5a89465",
   "metadata": {},
   "outputs": [
    {
     "data": {
      "text/plain": [
       "array([5, 3.2, 16.8, 9, 4.5, True], dtype=object)"
      ]
     },
     "execution_count": 16,
     "metadata": {},
     "output_type": "execute_result"
    }
   ],
   "source": [
    "#find element not indecies condition based\n",
    "b[np.where(b%2 != 0)]"
   ]
  },
  {
   "cell_type": "code",
   "execution_count": 17,
   "id": "ac05f204",
   "metadata": {},
   "outputs": [
    {
     "data": {
      "text/plain": [
       "array([ True,  True, False, False, False,  True,  True, False,  True,\n",
       "        True, False, False])"
      ]
     },
     "execution_count": 17,
     "metadata": {},
     "output_type": "execute_result"
    }
   ],
   "source": [
    "# replace using where with x & y value\n",
    "np.where(b%2 !=0,True,False)"
   ]
  },
  {
   "cell_type": "code",
   "execution_count": 19,
   "id": "cc14bdf3",
   "metadata": {},
   "outputs": [
    {
     "data": {
      "text/plain": [
       "array([[13,  2,  3, 54],\n",
       "       [15, 26, 17,  8],\n",
       "       [39, 12, 78, 10]])"
      ]
     },
     "execution_count": 19,
     "metadata": {},
     "output_type": "execute_result"
    }
   ],
   "source": [
    "#Searching 2-D arrays\n",
    "c = np.array([[13, 2, 3, 54], [15, 26, 17, 8], [39, 12, 78, 10]])\n",
    "c"
   ]
  },
  {
   "cell_type": "code",
   "execution_count": 20,
   "id": "820ee5a2",
   "metadata": {},
   "outputs": [
    {
     "data": {
      "text/plain": [
       "(array([0, 0, 1, 1, 2]), array([0, 2, 0, 2, 0]))"
      ]
     },
     "execution_count": 20,
     "metadata": {},
     "output_type": "execute_result"
    }
   ],
   "source": [
    "# find indicies which are not divisible by 2\n",
    "np.where(c%2 != 0)"
   ]
  },
  {
   "cell_type": "code",
   "execution_count": 21,
   "id": "1ce4cebe",
   "metadata": {},
   "outputs": [
    {
     "data": {
      "text/plain": [
       "array([13,  3, 15, 17, 39])"
      ]
     },
     "execution_count": 21,
     "metadata": {},
     "output_type": "execute_result"
    }
   ],
   "source": [
    "#find value\n",
    "c[np.where(c%2 != 0)]"
   ]
  },
  {
   "cell_type": "code",
   "execution_count": 22,
   "id": "bac1a01d",
   "metadata": {},
   "outputs": [
    {
     "data": {
      "text/plain": [
       "array([[[13,  2,  3, 54],\n",
       "        [15, 26, 17,  8]],\n",
       "\n",
       "       [[39, 12, 78, 10],\n",
       "        [ 0,  1, 16, 77]]])"
      ]
     },
     "execution_count": 22,
     "metadata": {},
     "output_type": "execute_result"
    }
   ],
   "source": [
    "#Searching 3-D arrays\n",
    "d = np.array([[[13, 2, 3, 54], [15, 26, 17, 8]], [[39, 12, 78, 10],[0, 1, 16, 77]]])\n",
    "d"
   ]
  },
  {
   "cell_type": "code",
   "execution_count": 23,
   "id": "318dddb9",
   "metadata": {},
   "outputs": [
    {
     "data": {
      "text/plain": [
       "(array([0, 0, 0, 0, 1, 1, 1]),\n",
       " array([0, 0, 1, 1, 0, 1, 1]),\n",
       " array([0, 2, 0, 2, 0, 1, 3]))"
      ]
     },
     "execution_count": 23,
     "metadata": {},
     "output_type": "execute_result"
    }
   ],
   "source": [
    "# find indicies which are not divisible by 2\n",
    "np.where(d%2 != 0)"
   ]
  },
  {
   "cell_type": "code",
   "execution_count": 24,
   "id": "4cff6eab",
   "metadata": {},
   "outputs": [
    {
     "data": {
      "text/plain": [
       "array([13,  3, 15, 17, 39,  1, 77])"
      ]
     },
     "execution_count": 24,
     "metadata": {},
     "output_type": "execute_result"
    }
   ],
   "source": [
    "#find value\n",
    "d[np.where(d%2 != 0)]"
   ]
  },
  {
   "cell_type": "code",
   "execution_count": null,
   "id": "b87fcb57",
   "metadata": {},
   "outputs": [],
   "source": []
  }
 ],
 "metadata": {
  "kernelspec": {
   "display_name": "Python 3 (ipykernel)",
   "language": "python",
   "name": "python3"
  },
  "language_info": {
   "codemirror_mode": {
    "name": "ipython",
    "version": 3
   },
   "file_extension": ".py",
   "mimetype": "text/x-python",
   "name": "python",
   "nbconvert_exporter": "python",
   "pygments_lexer": "ipython3",
   "version": "3.11.7"
  }
 },
 "nbformat": 4,
 "nbformat_minor": 5
}
