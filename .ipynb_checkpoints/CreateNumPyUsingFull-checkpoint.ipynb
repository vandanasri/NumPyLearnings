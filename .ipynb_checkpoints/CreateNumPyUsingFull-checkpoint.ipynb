{
 "cells": [
  {
   "cell_type": "code",
   "execution_count": 4,
   "id": "dd5bf167",
   "metadata": {},
   "outputs": [
    {
     "data": {
      "text/plain": [
       "array([[5, 5, 5],\n",
       "       [5, 5, 5],\n",
       "       [5, 5, 5]])"
      ]
     },
     "execution_count": 4,
     "metadata": {},
     "output_type": "execute_result"
    }
   ],
   "source": [
    "import numpy as np\n",
    "\n",
    "#creating array using full() with shape(3,3) & value should be 5\n",
    "np.full((3,3), 5)"
   ]
  },
  {
   "cell_type": "code",
   "execution_count": 5,
   "id": "ef07d00a",
   "metadata": {},
   "outputs": [
    {
     "data": {
      "text/plain": [
       "array([7, 7, 7])"
      ]
     },
     "execution_count": 5,
     "metadata": {},
     "output_type": "execute_result"
    }
   ],
   "source": [
    "#creating 1-d array with value 7\n",
    "np.full((3,),7)"
   ]
  },
  {
   "cell_type": "code",
   "execution_count": 6,
   "id": "b32be9a3",
   "metadata": {},
   "outputs": [
    {
     "data": {
      "text/plain": [
       "array([[[6, 6, 6, 6, 6],\n",
       "        [6, 6, 6, 6, 6],\n",
       "        [6, 6, 6, 6, 6]],\n",
       "\n",
       "       [[6, 6, 6, 6, 6],\n",
       "        [6, 6, 6, 6, 6],\n",
       "        [6, 6, 6, 6, 6]]])"
      ]
     },
     "execution_count": 6,
     "metadata": {},
     "output_type": "execute_result"
    }
   ],
   "source": [
    "#creating 3-d array with value 6\n",
    "np.full((2,3,5),6)"
   ]
  },
  {
   "cell_type": "code",
   "execution_count": 8,
   "id": "5c59e946",
   "metadata": {},
   "outputs": [
    {
     "data": {
      "text/plain": [
       "30"
      ]
     },
     "execution_count": 8,
     "metadata": {},
     "output_type": "execute_result"
    }
   ],
   "source": [
    "np.full((2,3,5),6).size"
   ]
  },
  {
   "cell_type": "code",
   "execution_count": 9,
   "id": "55e71e12",
   "metadata": {},
   "outputs": [
    {
     "data": {
      "text/plain": [
       "array([[[6, 6, 6, 6, 6, 6, 6],\n",
       "        [6, 6, 6, 6, 6, 6, 6],\n",
       "        [6, 6, 6, 6, 6, 6, 6],\n",
       "        [6, 6, 6, 6, 6, 6, 6],\n",
       "        [6, 6, 6, 6, 6, 6, 6]],\n",
       "\n",
       "       [[6, 6, 6, 6, 6, 6, 6],\n",
       "        [6, 6, 6, 6, 6, 6, 6],\n",
       "        [6, 6, 6, 6, 6, 6, 6],\n",
       "        [6, 6, 6, 6, 6, 6, 6],\n",
       "        [6, 6, 6, 6, 6, 6, 6]],\n",
       "\n",
       "       [[6, 6, 6, 6, 6, 6, 6],\n",
       "        [6, 6, 6, 6, 6, 6, 6],\n",
       "        [6, 6, 6, 6, 6, 6, 6],\n",
       "        [6, 6, 6, 6, 6, 6, 6],\n",
       "        [6, 6, 6, 6, 6, 6, 6]]])"
      ]
     },
     "execution_count": 9,
     "metadata": {},
     "output_type": "execute_result"
    }
   ],
   "source": [
    "#creating 4-d array with value 8\n",
    "np.full((3,5,7),6)"
   ]
  },
  {
   "cell_type": "code",
   "execution_count": 11,
   "id": "7dadc38c",
   "metadata": {},
   "outputs": [
    {
     "data": {
      "text/plain": [
       "105"
      ]
     },
     "execution_count": 11,
     "metadata": {},
     "output_type": "execute_result"
    }
   ],
   "source": [
    "np.full((3,5,7),6).size"
   ]
  },
  {
   "cell_type": "code",
   "execution_count": null,
   "id": "c76589d6",
   "metadata": {},
   "outputs": [],
   "source": []
  }
 ],
 "metadata": {
  "kernelspec": {
   "display_name": "Python 3 (ipykernel)",
   "language": "python",
   "name": "python3"
  },
  "language_info": {
   "codemirror_mode": {
    "name": "ipython",
    "version": 3
   },
   "file_extension": ".py",
   "mimetype": "text/x-python",
   "name": "python",
   "nbconvert_exporter": "python",
   "pygments_lexer": "ipython3",
   "version": "3.11.7"
  }
 },
 "nbformat": 4,
 "nbformat_minor": 5
}
