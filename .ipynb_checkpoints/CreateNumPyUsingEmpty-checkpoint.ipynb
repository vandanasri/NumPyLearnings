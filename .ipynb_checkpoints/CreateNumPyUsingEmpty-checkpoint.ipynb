{
 "cells": [
  {
   "cell_type": "code",
   "execution_count": 1,
   "id": "c471644c",
   "metadata": {},
   "outputs": [
    {
     "data": {
      "text/plain": [
       "array([[0.0000e+000, 1.0094e-320],\n",
       "       [1.1858e-322, 3.9525e-323],\n",
       "       [1.1858e-322, 3.9525e-323]])"
      ]
     },
     "execution_count": 1,
     "metadata": {},
     "output_type": "execute_result"
    }
   ],
   "source": [
    "import numpy as np\n",
    "\n",
    "#create an empty array which displays some random values\n",
    "np.empty((3,2))"
   ]
  },
  {
   "cell_type": "code",
   "execution_count": 6,
   "id": "8e6b1dd4",
   "metadata": {},
   "outputs": [
    {
     "data": {
      "text/plain": [
       "array([[[                  0,                  29],\n",
       "        [                  0,                   0]],\n",
       "\n",
       "       [[                  0, 3976234703915214187],\n",
       "        [3256723974661748281, 3833183601619657269]],\n",
       "\n",
       "       [[7218486470837349688, 7364565592754696760],\n",
       "        [8386112019188835637,     137654242538357]]])"
      ]
     },
     "execution_count": 6,
     "metadata": {},
     "output_type": "execute_result"
    }
   ],
   "source": [
    "##create an empty array with dtype=int which displays some random values\n",
    "np.empty((3,2,2), int)"
   ]
  },
  {
   "cell_type": "code",
   "execution_count": null,
   "id": "4f36d5c2",
   "metadata": {},
   "outputs": [],
   "source": []
  }
 ],
 "metadata": {
  "kernelspec": {
   "display_name": "Python 3 (ipykernel)",
   "language": "python",
   "name": "python3"
  },
  "language_info": {
   "codemirror_mode": {
    "name": "ipython",
    "version": 3
   },
   "file_extension": ".py",
   "mimetype": "text/x-python",
   "name": "python",
   "nbconvert_exporter": "python",
   "pygments_lexer": "ipython3",
   "version": "3.11.7"
  }
 },
 "nbformat": 4,
 "nbformat_minor": 5
}
