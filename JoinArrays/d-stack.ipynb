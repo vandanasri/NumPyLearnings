{
 "cells": [
  {
   "cell_type": "code",
   "execution_count": 1,
   "id": "7aa6cf44",
   "metadata": {},
   "outputs": [
    {
     "data": {
      "text/plain": [
       "array([ 0,  1,  2,  3,  4,  5,  6,  7,  8,  9, 10, 11, 12, 13, 14, 15, 16,\n",
       "       17, 18, 19])"
      ]
     },
     "execution_count": 1,
     "metadata": {},
     "output_type": "execute_result"
    }
   ],
   "source": [
    "import numpy as np\n",
    "\n",
    "# joining always based on axis=2, depth stack or height stack concatenation ==> result is minimum 3-D array.\n",
    "\n",
    "#input 1-D array\n",
    "a = np.arange(20)\n",
    "a"
   ]
  },
  {
   "cell_type": "code",
   "execution_count": 2,
   "id": "f568035a",
   "metadata": {},
   "outputs": [
    {
     "data": {
      "text/plain": [
       "array([21, 22, 23, 24, 25, 26, 27, 28, 29, 30, 31, 32, 33, 34, 35, 36, 37,\n",
       "       38, 39, 40])"
      ]
     },
     "execution_count": 2,
     "metadata": {},
     "output_type": "execute_result"
    }
   ],
   "source": [
    "#input 1-D array\n",
    "b = np.arange(21,41)\n",
    "b"
   ]
  },
  {
   "cell_type": "code",
   "execution_count": 8,
   "id": "ae26aff9",
   "metadata": {},
   "outputs": [
    {
     "data": {
      "text/plain": [
       "array([[[ 0, 21],\n",
       "        [ 1, 22],\n",
       "        [ 2, 23],\n",
       "        [ 3, 24],\n",
       "        [ 4, 25],\n",
       "        [ 5, 26],\n",
       "        [ 6, 27],\n",
       "        [ 7, 28],\n",
       "        [ 8, 29],\n",
       "        [ 9, 30],\n",
       "        [10, 31],\n",
       "        [11, 32],\n",
       "        [12, 33],\n",
       "        [13, 34],\n",
       "        [14, 35],\n",
       "        [15, 36],\n",
       "        [16, 37],\n",
       "        [17, 38],\n",
       "        [18, 39],\n",
       "        [19, 40]]])"
      ]
     },
     "execution_count": 8,
     "metadata": {},
     "output_type": "execute_result"
    }
   ],
   "source": [
    "#output 3-D array\n",
    "np.dstack((a,b))"
   ]
  },
  {
   "cell_type": "code",
   "execution_count": 9,
   "id": "4729281b",
   "metadata": {},
   "outputs": [
    {
     "data": {
      "text/plain": [
       "array([[21, 22, 23, 24, 25],\n",
       "       [26, 27, 28, 29, 30],\n",
       "       [31, 32, 33, 34, 35],\n",
       "       [36, 37, 38, 39, 40]])"
      ]
     },
     "execution_count": 9,
     "metadata": {},
     "output_type": "execute_result"
    }
   ],
   "source": [
    "# input 2-D array\n",
    "c = np.arange(21,41).reshape(4,5)\n",
    "c"
   ]
  },
  {
   "cell_type": "code",
   "execution_count": 10,
   "id": "9c9c4cc8",
   "metadata": {},
   "outputs": [
    {
     "data": {
      "text/plain": [
       "array([[ 0,  1,  2,  3,  4],\n",
       "       [ 5,  6,  7,  8,  9],\n",
       "       [10, 11, 12, 13, 14],\n",
       "       [15, 16, 17, 18, 19]])"
      ]
     },
     "execution_count": 10,
     "metadata": {},
     "output_type": "execute_result"
    }
   ],
   "source": [
    "# input 2-D array \n",
    "d = np.arange(20).reshape(4,5)\n",
    "d"
   ]
  },
  {
   "cell_type": "code",
   "execution_count": 11,
   "id": "2163b776",
   "metadata": {},
   "outputs": [
    {
     "data": {
      "text/plain": [
       "array([[[ 0, 21],\n",
       "        [ 1, 22],\n",
       "        [ 2, 23],\n",
       "        [ 3, 24],\n",
       "        [ 4, 25]],\n",
       "\n",
       "       [[ 5, 26],\n",
       "        [ 6, 27],\n",
       "        [ 7, 28],\n",
       "        [ 8, 29],\n",
       "        [ 9, 30]],\n",
       "\n",
       "       [[10, 31],\n",
       "        [11, 32],\n",
       "        [12, 33],\n",
       "        [13, 34],\n",
       "        [14, 35]],\n",
       "\n",
       "       [[15, 36],\n",
       "        [16, 37],\n",
       "        [17, 38],\n",
       "        [18, 39],\n",
       "        [19, 40]]])"
      ]
     },
     "execution_count": 11,
     "metadata": {},
     "output_type": "execute_result"
    }
   ],
   "source": [
    "#output 3-D array\n",
    "np.dstack((c,d))"
   ]
  },
  {
   "cell_type": "code",
   "execution_count": 18,
   "id": "ada3ceb8",
   "metadata": {},
   "outputs": [
    {
     "data": {
      "text/plain": [
       "array([[[ 1,  2,  3],\n",
       "        [ 4,  5,  6]],\n",
       "\n",
       "       [[ 7,  8,  9],\n",
       "        [10, 11, 12]]])"
      ]
     },
     "execution_count": 18,
     "metadata": {},
     "output_type": "execute_result"
    }
   ],
   "source": [
    "# input 3-D array\n",
    "e = np.array([[[1,2,3],[4,5,6]],[[7,8,9],[10,11,12]]])\n",
    "e"
   ]
  },
  {
   "cell_type": "code",
   "execution_count": 19,
   "id": "3efefcc6",
   "metadata": {},
   "outputs": [
    {
     "data": {
      "text/plain": [
       "array([[[13, 14, 15],\n",
       "        [16, 17, 18]],\n",
       "\n",
       "       [[19, 20, 21],\n",
       "        [22, 23, 24]]])"
      ]
     },
     "execution_count": 19,
     "metadata": {},
     "output_type": "execute_result"
    }
   ],
   "source": [
    "# input 3-D array\n",
    "f = np.array([[[13,14,15],[16,17,18]],[[19,20,21],[22,23,24]]])\n",
    "f"
   ]
  },
  {
   "cell_type": "code",
   "execution_count": 20,
   "id": "392b637a",
   "metadata": {},
   "outputs": [
    {
     "data": {
      "text/plain": [
       "array([[[ 1,  2,  3, 13, 14, 15],\n",
       "        [ 4,  5,  6, 16, 17, 18]],\n",
       "\n",
       "       [[ 7,  8,  9, 19, 20, 21],\n",
       "        [10, 11, 12, 22, 23, 24]]])"
      ]
     },
     "execution_count": 20,
     "metadata": {},
     "output_type": "execute_result"
    }
   ],
   "source": [
    "#output 3-D array\n",
    "np.dstack((e,f))"
   ]
  },
  {
   "cell_type": "code",
   "execution_count": null,
   "id": "90e116d8-810f-45e5-a8bd-ca6d9300c235",
   "metadata": {},
   "outputs": [],
   "source": [
    "#output 3-D array\n",
    "np.dstack((e,f))"
   ]
  }
 ],
 "metadata": {
  "kernelspec": {
   "display_name": "Python 3 (ipykernel)",
   "language": "python",
   "name": "python3"
  },
  "language_info": {
   "codemirror_mode": {
    "name": "ipython",
    "version": 3
   },
   "file_extension": ".py",
   "mimetype": "text/x-python",
   "name": "python",
   "nbconvert_exporter": "python",
   "pygments_lexer": "ipython3",
   "version": "3.11.7"
  }
 },
 "nbformat": 4,
 "nbformat_minor": 5
}
