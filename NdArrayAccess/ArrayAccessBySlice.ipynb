{
 "cells": [
  {
   "cell_type": "code",
   "execution_count": 1,
   "id": "daffdd5b",
   "metadata": {},
   "outputs": [
    {
     "data": {
      "text/plain": [
       "array([10, 20, 30, 40, 50, 60, 70])"
      ]
     },
     "execution_count": 1,
     "metadata": {},
     "output_type": "execute_result"
    }
   ],
   "source": [
    "import numpy as np\n",
    "\n",
    "#Slicing of 1-D array\n",
    "a= np.array([10,20,30,40,50,60,70])\n",
    "a"
   ]
  },
  {
   "cell_type": "code",
   "execution_count": 2,
   "id": "c60f8996",
   "metadata": {},
   "outputs": [
    {
     "data": {
      "text/plain": [
       "array([20, 30, 40])"
      ]
     },
     "execution_count": 2,
     "metadata": {},
     "output_type": "execute_result"
    }
   ],
   "source": [
    "#slicing from 1 index to 3 index\n",
    "a[1:4]"
   ]
  },
  {
   "cell_type": "code",
   "execution_count": 4,
   "id": "25915574",
   "metadata": {},
   "outputs": [
    {
     "data": {
      "text/plain": [
       "array([40, 50, 60])"
      ]
     },
     "execution_count": 4,
     "metadata": {},
     "output_type": "execute_result"
    }
   ],
   "source": [
    "#slicing from -4 index to -1 index\n",
    "a[-4:-1]"
   ]
  },
  {
   "cell_type": "code",
   "execution_count": 6,
   "id": "d7b86ffa",
   "metadata": {},
   "outputs": [
    {
     "data": {
      "text/plain": [
       "array([10, 20, 30, 40])"
      ]
     },
     "execution_count": 6,
     "metadata": {},
     "output_type": "execute_result"
    }
   ],
   "source": [
    "#slicing from 0 index to -3 index\n",
    "a[:-3]"
   ]
  },
  {
   "cell_type": "code",
   "execution_count": 7,
   "id": "9d3458cd",
   "metadata": {},
   "outputs": [
    {
     "data": {
      "text/plain": [
       "array([10, 20, 30, 40, 50, 60, 70])"
      ]
     },
     "execution_count": 7,
     "metadata": {},
     "output_type": "execute_result"
    }
   ],
   "source": [
    "#slicing from 0 index to last index\n",
    "a[:]"
   ]
  },
  {
   "cell_type": "code",
   "execution_count": 8,
   "id": "d0dd5dcf",
   "metadata": {},
   "outputs": [
    {
     "data": {
      "text/plain": [
       "array([30, 40, 50, 60, 70])"
      ]
     },
     "execution_count": 8,
     "metadata": {},
     "output_type": "execute_result"
    }
   ],
   "source": [
    "#slicing from 2 index to last index\n",
    "a[2:]"
   ]
  },
  {
   "cell_type": "code",
   "execution_count": 9,
   "id": "4e9f3ed9",
   "metadata": {},
   "outputs": [
    {
     "data": {
      "text/plain": [
       "array([30, 50, 70])"
      ]
     },
     "execution_count": 9,
     "metadata": {},
     "output_type": "execute_result"
    }
   ],
   "source": [
    "#slicing from 2 index to last index with step 2\n",
    "a[2::2]"
   ]
  },
  {
   "cell_type": "code",
   "execution_count": 11,
   "id": "b3a31cc1",
   "metadata": {},
   "outputs": [
    {
     "data": {
      "text/plain": [
       "array([40, 60])"
      ]
     },
     "execution_count": 11,
     "metadata": {},
     "output_type": "execute_result"
    }
   ],
   "source": [
    "#slicing from -4 index to -1 index with step 2\n",
    "a[-4:-1:2]"
   ]
  },
  {
   "cell_type": "code",
   "execution_count": null,
   "id": "03e87e91",
   "metadata": {},
   "outputs": [],
   "source": [
    "#slicing from 0 index to last index with step 3\n",
    "a[::3]"
   ]
  },
  {
   "cell_type": "code",
   "execution_count": 17,
   "id": "8aba2831",
   "metadata": {},
   "outputs": [
    {
     "data": {
      "text/plain": [
       "array([[ 10,  20,  30],\n",
       "       [ 40,  50,  60],\n",
       "       [ 70,  80,  90],\n",
       "       [100, 101, 102]])"
      ]
     },
     "execution_count": 17,
     "metadata": {},
     "output_type": "execute_result"
    }
   ],
   "source": [
    "#creating 2-D array\n",
    "b= np.array([[10,20,30],[40,50,60],[70,80,90],[100,101,102]])\n",
    "b"
   ]
  },
  {
   "cell_type": "code",
   "execution_count": 18,
   "id": "92f2ed1b",
   "metadata": {},
   "outputs": [
    {
     "data": {
      "text/plain": [
       "array([[40],\n",
       "       [70]])"
      ]
     },
     "execution_count": 18,
     "metadata": {},
     "output_type": "execute_result"
    }
   ],
   "source": [
    "#slicing from row(1 index to 3-1 index) column(0 index to 1-1 index)\n",
    "b[1:3,0:1]"
   ]
  },
  {
   "cell_type": "code",
   "execution_count": 19,
   "id": "d08f8e2b",
   "metadata": {},
   "outputs": [
    {
     "data": {
      "text/plain": [
       "array([[ 10,  20,  30],\n",
       "       [ 40,  50,  60],\n",
       "       [ 70,  80,  90],\n",
       "       [100, 101, 102]])"
      ]
     },
     "execution_count": 19,
     "metadata": {},
     "output_type": "execute_result"
    }
   ],
   "source": [
    "#Slicing all index\n",
    "b[::, ::]"
   ]
  },
  {
   "cell_type": "code",
   "execution_count": 20,
   "id": "ed4b2bb8",
   "metadata": {},
   "outputs": [
    {
     "data": {
      "text/plain": [
       "array([[ 40,  50],\n",
       "       [100, 101]])"
      ]
     },
     "execution_count": 20,
     "metadata": {},
     "output_type": "execute_result"
    }
   ],
   "source": [
    "#slicing from row(1 index to last index with step 2) column(0 index to 2-1 index with step 2)\n",
    "b[1::2,0:2]"
   ]
  },
  {
   "cell_type": "code",
   "execution_count": 21,
   "id": "ee20cc3a",
   "metadata": {},
   "outputs": [
    {
     "data": {
      "text/plain": [
       "array([[50]])"
      ]
     },
     "execution_count": 21,
     "metadata": {},
     "output_type": "execute_result"
    }
   ],
   "source": [
    "b[-3:-1:2, -2:-1]"
   ]
  },
  {
   "cell_type": "code",
   "execution_count": 23,
   "id": "0b34ff97",
   "metadata": {},
   "outputs": [
    {
     "data": {
      "text/plain": [
       "array([[['10', '20', '30'],\n",
       "        ['40', '50', '60'],\n",
       "        ['70', '80', '90'],\n",
       "        ['100', '101', '102']],\n",
       "\n",
       "       [['A', 'B', 'C'],\n",
       "        ['D', 'E', 'F'],\n",
       "        ['G', 'H', 'I'],\n",
       "        ['J', 'K', 'L']]], dtype='<U21')"
      ]
     },
     "execution_count": 23,
     "metadata": {},
     "output_type": "execute_result"
    }
   ],
   "source": [
    "#creating 3-D array\n",
    "c= np.array([[[10,20,30],[40,50,60],[70,80,90],[100,101,102]],\n",
    "            [['A','B','C'],['D','E','F'],['G','H','I'],['J','K','L']]])\n",
    "c"
   ]
  },
  {
   "cell_type": "code",
   "execution_count": 26,
   "id": "ee23950b",
   "metadata": {},
   "outputs": [
    {
     "data": {
      "text/plain": [
       "array([[['40', '50'],\n",
       "        ['100', '101']],\n",
       "\n",
       "       [['D', 'E'],\n",
       "        ['J', 'K']]], dtype='<U21')"
      ]
     },
     "execution_count": 26,
     "metadata": {},
     "output_type": "execute_result"
    }
   ],
   "source": [
    "#slicing from row(1 index to last index with step 2) column(0 index to 2-1 index with step 2)\n",
    "c[::,1::2,0:2]"
   ]
  },
  {
   "cell_type": "code",
   "execution_count": 29,
   "id": "73b202b4",
   "metadata": {},
   "outputs": [
    {
     "data": {
      "text/plain": [
       "array([[['40'],\n",
       "        ['70']]], dtype='<U21')"
      ]
     },
     "execution_count": 29,
     "metadata": {},
     "output_type": "execute_result"
    }
   ],
   "source": [
    "#slicing from row(1 index to 3-1 index) column(0 index to 1-1 index)\n",
    "c[0:1,1:3,0:1]"
   ]
  },
  {
   "cell_type": "code",
   "execution_count": null,
   "id": "622e64e8",
   "metadata": {},
   "outputs": [],
   "source": []
  }
 ],
 "metadata": {
  "kernelspec": {
   "display_name": "Python 3 (ipykernel)",
   "language": "python",
   "name": "python3"
  },
  "language_info": {
   "codemirror_mode": {
    "name": "ipython",
    "version": 3
   },
   "file_extension": ".py",
   "mimetype": "text/x-python",
   "name": "python",
   "nbconvert_exporter": "python",
   "pygments_lexer": "ipython3",
   "version": "3.11.7"
  }
 },
 "nbformat": 4,
 "nbformat_minor": 5
}
