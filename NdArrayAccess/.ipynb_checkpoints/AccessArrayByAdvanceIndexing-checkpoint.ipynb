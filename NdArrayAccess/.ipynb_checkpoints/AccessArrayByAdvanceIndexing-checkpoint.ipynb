{
 "cells": [
  {
   "cell_type": "code",
   "execution_count": 1,
   "id": "a2055cf3",
   "metadata": {},
   "outputs": [],
   "source": [
    "import numpy as np\n"
   ]
  },
  {
   "cell_type": "code",
   "execution_count": 27,
   "id": "9489b699-8df2-47d1-9c48-3f2390e4a1fd",
   "metadata": {},
   "outputs": [
    {
     "data": {
      "text/plain": [
       "array([  1,   4,   7,  10,  13,  16,  19,  22,  25,  28,  31,  34,  37,\n",
       "        40,  43,  46,  49,  52,  55,  58,  61,  64,  67,  70,  73,  76,\n",
       "        79,  82,  85,  88,  91,  94,  97, 100, 103, 106, 109, 112, 115,\n",
       "       118, 121, 124, 127, 130, 133, 136, 139, 142, 145, 148, 151, 154,\n",
       "       157, 160, 163, 166, 169, 172, 175, 178, 181, 184, 187, 190, 193,\n",
       "       196, 199])"
      ]
     },
     "execution_count": 27,
     "metadata": {},
     "output_type": "execute_result"
    }
   ],
   "source": [
    "#creating ndarray 1-D array\n",
    "arr = np.arange(1,200,3)\n",
    "arr"
   ]
  },
  {
   "cell_type": "code",
   "execution_count": 29,
   "id": "bf6bb279-03bd-4cb1-aadd-ccf6e7e89627",
   "metadata": {},
   "outputs": [
    {
     "data": {
      "text/plain": [
       "array([  7,  22,  61, 136, 181])"
      ]
     },
     "execution_count": 29,
     "metadata": {},
     "output_type": "execute_result"
    }
   ],
   "source": [
    "#by creating new ndarray by passing index of data needed i.e. 7,22,61,136,181\n",
    "i = np.array([2,7,20,45,60])\n",
    "arr[i]"
   ]
  },
  {
   "cell_type": "code",
   "execution_count": 31,
   "id": "9fa9f9ec-b8a0-40e4-9b45-69ed248637c3",
   "metadata": {},
   "outputs": [
    {
     "data": {
      "text/plain": [
       "array([  7,  22,  61, 136, 181])"
      ]
     },
     "execution_count": 31,
     "metadata": {},
     "output_type": "execute_result"
    }
   ],
   "source": [
    "# or directly passing indexes as argument to the original array\n",
    "arr[[2,7,20,45,60]]"
   ]
  },
  {
   "cell_type": "code",
   "execution_count": 33,
   "id": "11abd849-ca9d-40a2-835a-a19b59afa918",
   "metadata": {},
   "outputs": [
    {
     "data": {
      "text/plain": [
       "array([[ 0.17268045, -0.8935125 ,  0.47587304],\n",
       "       [ 0.39950321,  1.42786261, -0.08994672]])"
      ]
     },
     "execution_count": 33,
     "metadata": {},
     "output_type": "execute_result"
    }
   ],
   "source": [
    "# creating 2-D array\n",
    "t = np.random.randn(2,3)\n",
    "t"
   ]
  },
  {
   "cell_type": "code",
   "execution_count": 37,
   "id": "f68f5c0d-3d2a-4247-bab1-94de2d048107",
   "metadata": {},
   "outputs": [
    {
     "data": {
      "text/plain": [
       "array([-0.8935125 , -0.08994672])"
      ]
     },
     "execution_count": 37,
     "metadata": {},
     "output_type": "execute_result"
    }
   ],
   "source": [
    "# by directly passing indexes as argument to the original array\n",
    "t[[0,1],[1,2]] "
   ]
  },
  {
   "cell_type": "code",
   "execution_count": 39,
   "id": "3f7aeb52-22a9-4a2a-b351-b586a72eb661",
   "metadata": {},
   "outputs": [
    {
     "data": {
      "text/plain": [
       "array([[[ 0.87737952,  1.11926501,  1.63223317,  0.5640337 ],\n",
       "        [ 0.01946757, -0.72093901, -1.0220187 ,  0.12252158],\n",
       "        [-1.47058446,  1.77945125,  0.63705683, -1.22796716]],\n",
       "\n",
       "       [[ 2.09734417,  1.29664154, -0.08079681, -1.00950271],\n",
       "        [-1.05896506, -0.94271389,  0.79851406, -0.51995955],\n",
       "        [-1.34783238,  0.47796944,  0.69976415, -0.44696956]]])"
      ]
     },
     "execution_count": 39,
     "metadata": {},
     "output_type": "execute_result"
    }
   ],
   "source": [
    "#Accessing elements from 3-D array\n",
    "b = np.random.randn(2,3,4)\n",
    "b"
   ]
  },
  {
   "cell_type": "code",
   "execution_count": 43,
   "id": "1f94d8d3-c0c5-4a24-9d0b-3b389880c363",
   "metadata": {},
   "outputs": [
    {
     "data": {
      "text/plain": [
       "array([1.11926501, 0.79851406])"
      ]
     },
     "execution_count": 43,
     "metadata": {},
     "output_type": "execute_result"
    }
   ],
   "source": [
    "# by directly passing indexes as argument to the original array\n",
    "b[[0,1],[0,1],[1,2]] "
   ]
  },
  {
   "cell_type": "code",
   "execution_count": null,
   "id": "54100ac7-0a55-498f-808e-58ee178b243c",
   "metadata": {},
   "outputs": [],
   "source": []
  }
 ],
 "metadata": {
  "kernelspec": {
   "display_name": "Python 3 (ipykernel)",
   "language": "python",
   "name": "python3"
  },
  "language_info": {
   "codemirror_mode": {
    "name": "ipython",
    "version": 3
   },
   "file_extension": ".py",
   "mimetype": "text/x-python",
   "name": "python",
   "nbconvert_exporter": "python",
   "pygments_lexer": "ipython3",
   "version": "3.11.7"
  }
 },
 "nbformat": 4,
 "nbformat_minor": 5
}
